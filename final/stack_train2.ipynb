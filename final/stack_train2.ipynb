{
 "cells": [
  {
   "cell_type": "code",
   "execution_count": 1,
   "metadata": {},
   "outputs": [
    {
     "name": "stderr",
     "output_type": "stream",
     "text": [
      "/home/dada/.local/lib/python3.5/site-packages/sklearn/cross_validation.py:41: DeprecationWarning: This module was deprecated in version 0.18 in favor of the model_selection module into which all the refactored classes and functions are moved. Also note that the interface of the new CV iterators are different from that of this module. This module will be removed in 0.20.\n",
      "  \"This module will be removed in 0.20.\", DeprecationWarning)\n",
      "/home/dada/.local/lib/python3.5/site-packages/sklearn/grid_search.py:42: DeprecationWarning: This module was deprecated in version 0.18 in favor of the model_selection module into which all the refactored classes and functions are moved. This module will be removed in 0.20.\n",
      "  DeprecationWarning)\n"
     ]
    }
   ],
   "source": [
    "from sklearn.metrics import mean_absolute_error as MAE\n",
    "from sklearn import cross_validation, grid_search, metrics, ensemble\n",
    "\n",
    "import matplotlib.pyplot as plt\n",
    "%matplotlib inline\n",
    "\n",
    "import warnings\n",
    "warnings.filterwarnings('ignore')\n",
    "\n",
    "import numpy as np"
   ]
  },
  {
   "cell_type": "code",
   "execution_count": 2,
   "metadata": {},
   "outputs": [
    {
     "data": {
      "text/html": [
       "<div>\n",
       "<style scoped>\n",
       "    .dataframe tbody tr th:only-of-type {\n",
       "        vertical-align: middle;\n",
       "    }\n",
       "\n",
       "    .dataframe tbody tr th {\n",
       "        vertical-align: top;\n",
       "    }\n",
       "\n",
       "    .dataframe thead th {\n",
       "        text-align: right;\n",
       "    }\n",
       "</style>\n",
       "<table border=\"1\" class=\"dataframe\">\n",
       "  <thead>\n",
       "    <tr style=\"text-align: right;\">\n",
       "      <th></th>\n",
       "      <th>Book-Rating</th>\n",
       "      <th>ISBN</th>\n",
       "      <th>User-ID</th>\n",
       "      <th>age</th>\n",
       "      <th>loc</th>\n",
       "      <th>author</th>\n",
       "      <th>years</th>\n",
       "      <th>publisher</th>\n",
       "      <th>foldID</th>\n",
       "      <th>surprise</th>\n",
       "      <th>FM</th>\n",
       "      <th>keras</th>\n",
       "      <th>XGBRegressor</th>\n",
       "      <th>XGBClassifier</th>\n",
       "    </tr>\n",
       "  </thead>\n",
       "  <tbody>\n",
       "    <tr>\n",
       "      <th>0</th>\n",
       "      <td>8.0</td>\n",
       "      <td>133745</td>\n",
       "      <td>6329</td>\n",
       "      <td>47.0</td>\n",
       "      <td>18959</td>\n",
       "      <td>41855</td>\n",
       "      <td>1992.0</td>\n",
       "      <td>560</td>\n",
       "      <td>3</td>\n",
       "      <td>7.0</td>\n",
       "      <td>7.0</td>\n",
       "      <td>8</td>\n",
       "      <td>7</td>\n",
       "      <td>7</td>\n",
       "    </tr>\n",
       "    <tr>\n",
       "      <th>1</th>\n",
       "      <td>10.0</td>\n",
       "      <td>21147</td>\n",
       "      <td>75160</td>\n",
       "      <td>0.0</td>\n",
       "      <td>9894</td>\n",
       "      <td>37869</td>\n",
       "      <td>2001.0</td>\n",
       "      <td>4132</td>\n",
       "      <td>3</td>\n",
       "      <td>8.0</td>\n",
       "      <td>7.0</td>\n",
       "      <td>8</td>\n",
       "      <td>8</td>\n",
       "      <td>8</td>\n",
       "    </tr>\n",
       "    <tr>\n",
       "      <th>2</th>\n",
       "      <td>8.0</td>\n",
       "      <td>13559</td>\n",
       "      <td>886</td>\n",
       "      <td>29.0</td>\n",
       "      <td>4962</td>\n",
       "      <td>62104</td>\n",
       "      <td>0.0</td>\n",
       "      <td>11567</td>\n",
       "      <td>4</td>\n",
       "      <td>8.0</td>\n",
       "      <td>8.0</td>\n",
       "      <td>8</td>\n",
       "      <td>8</td>\n",
       "      <td>8</td>\n",
       "    </tr>\n",
       "    <tr>\n",
       "      <th>3</th>\n",
       "      <td>10.0</td>\n",
       "      <td>31266</td>\n",
       "      <td>57887</td>\n",
       "      <td>0.0</td>\n",
       "      <td>15860</td>\n",
       "      <td>45272</td>\n",
       "      <td>1997.0</td>\n",
       "      <td>2678</td>\n",
       "      <td>5</td>\n",
       "      <td>8.0</td>\n",
       "      <td>7.0</td>\n",
       "      <td>8</td>\n",
       "      <td>7</td>\n",
       "      <td>8</td>\n",
       "    </tr>\n",
       "    <tr>\n",
       "      <th>4</th>\n",
       "      <td>9.0</td>\n",
       "      <td>80349</td>\n",
       "      <td>46556</td>\n",
       "      <td>45.0</td>\n",
       "      <td>8588</td>\n",
       "      <td>11258</td>\n",
       "      <td>2000.0</td>\n",
       "      <td>4553</td>\n",
       "      <td>4</td>\n",
       "      <td>10.0</td>\n",
       "      <td>8.0</td>\n",
       "      <td>10</td>\n",
       "      <td>9</td>\n",
       "      <td>10</td>\n",
       "    </tr>\n",
       "  </tbody>\n",
       "</table>\n",
       "</div>"
      ],
      "text/plain": [
       "   Book-Rating    ISBN  User-ID   age    loc  author   years  publisher  \\\n",
       "0          8.0  133745     6329  47.0  18959   41855  1992.0        560   \n",
       "1         10.0   21147    75160   0.0   9894   37869  2001.0       4132   \n",
       "2          8.0   13559      886  29.0   4962   62104     0.0      11567   \n",
       "3         10.0   31266    57887   0.0  15860   45272  1997.0       2678   \n",
       "4          9.0   80349    46556  45.0   8588   11258  2000.0       4553   \n",
       "\n",
       "   foldID  surprise   FM  keras  XGBRegressor  XGBClassifier  \n",
       "0       3       7.0  7.0      8             7              7  \n",
       "1       3       8.0  7.0      8             8              8  \n",
       "2       4       8.0  8.0      8             8              8  \n",
       "3       5       8.0  7.0      8             7              8  \n",
       "4       4      10.0  8.0     10             9             10  "
      ]
     },
     "execution_count": 2,
     "metadata": {},
     "output_type": "execute_result"
    }
   ],
   "source": [
    "import pandas as pd\n",
    "train_meta = pd.read_csv('stack/train_meta3.csv')\n",
    "test_meta = pd.read_csv('stack/test_meta3.csv')\n",
    "train_meta = train_meta.drop(columns=['Unnamed: 0'])\n",
    "test_meta = test_meta.drop(columns=['Unnamed: 0'])\n",
    "train_meta.head()"
   ]
  },
  {
   "cell_type": "code",
   "execution_count": 3,
   "metadata": {},
   "outputs": [
    {
     "name": "stdout",
     "output_type": "stream",
     "text": [
      "<class 'pandas.core.frame.DataFrame'>\n",
      "RangeIndex: 260202 entries, 0 to 260201\n",
      "Data columns (total 14 columns):\n",
      "Book-Rating      260202 non-null float64\n",
      "ISBN             260202 non-null int64\n",
      "User-ID          260202 non-null int64\n",
      "age              260202 non-null float64\n",
      "loc              260202 non-null int64\n",
      "author           260202 non-null int64\n",
      "years            260202 non-null float64\n",
      "publisher        260202 non-null int64\n",
      "foldID           260202 non-null int64\n",
      "surprise         260202 non-null float64\n",
      "FM               260202 non-null float64\n",
      "keras            260202 non-null int64\n",
      "XGBRegressor     260202 non-null int64\n",
      "XGBClassifier    260202 non-null int64\n",
      "dtypes: float64(5), int64(9)\n",
      "memory usage: 27.8 MB\n"
     ]
    }
   ],
   "source": [
    "train_meta.info()"
   ]
  },
  {
   "cell_type": "code",
   "execution_count": 4,
   "metadata": {},
   "outputs": [
    {
     "data": {
      "image/png": "[encoded data removed]",
      "text/plain": [
       "<Figure size 504x360 with 2 Axes>"
      ]
     },
     "metadata": {},
     "output_type": "display_data"
    }
   ],
   "source": [
    "import seaborn as sns\n",
    "plt.figure(figsize=[7,5])\n",
    "sns.heatmap(train_meta.corr())\n",
    "plt.show()"
   ]
  },
  {
   "cell_type": "code",
   "execution_count": 5,
   "metadata": {
    "collapsed": true
   },
   "outputs": [],
   "source": [
    "def plot_importance(m, feature_list=['User-ID', 'ISBN', 'loc', 'age', 'author', 'publisher', 'years']):\n",
    "    try:\n",
    "        df = train.copy()\n",
    "        df_plot = pd.DataFrame({'features': feature_list, 'importances': m.feature_importances_})\n",
    "        df_plot = df_plot.sort_values('importances', ascending=False)\n",
    "\n",
    "        plt.figure(figsize=[11,5])\n",
    "        sns.barplot(x = df_plot.importances, y = df_plot.features)\n",
    "        plt.title('Importances of Features Plot')\n",
    "        plt.show()\n",
    "    except KeyboardInterrupt:\n",
    "        print ('KeyboardInterrupt')\n",
    "    except:\n",
    "        print ('no feature importance')"
   ]
  },
  {
   "cell_type": "code",
   "execution_count": 6,
   "metadata": {},
   "outputs": [
    {
     "name": "stdout",
     "output_type": "stream",
     "text": [
      "XGBRegressor\n",
      "1.2264433017424923\n",
      "XGBClassifier\n",
      "1.266796565745075\n",
      "surprise\n",
      "1.2186493570379935\n",
      "keras\n",
      "1.2332072774229252\n",
      "FM\n",
      "1.4966064826557828\n",
      "mean\n",
      "1.240828279567413\n"
     ]
    }
   ],
   "source": [
    "# baselines\n",
    "stack_feature_list = ['XGBRegressor', 'XGBClassifier', 'surprise', 'keras', 'FM']\n",
    "pred = []\n",
    "for i in stack_feature_list:\n",
    "    print (i)\n",
    "    p = train_meta[i].values\n",
    "    print (MAE(p, train_meta['Book-Rating'].values))\n",
    "    pred.append(p)\n",
    "    \n",
    "pred = np.round(np.mean(pred, 0))\n",
    "print ('mean')\n",
    "print (MAE(pred, train_meta['Book-Rating'].values))"
   ]
  },
  {
   "cell_type": "code",
   "execution_count": 7,
   "metadata": {},
   "outputs": [
    {
     "name": "stdout",
     "output_type": "stream",
     "text": [
      "fold 1 , data length: 208161\n",
      "\t validation score: 1.2165984512211525\n",
      "fold 2 , data length: 208161\n",
      "\t validation score: 1.215138064218597\n",
      "fold 3 , data length: 208162\n",
      "\t validation score: 1.2186971560338202\n",
      "fold 4 , data length: 208162\n",
      "\t validation score: 1.2164296694850116\n",
      "fold 5 , data length: 208162\n",
      "\t validation score: 1.2193889315910837\n",
      "mean: 1.217250454509933\n"
     ]
    }
   ],
   "source": [
    "from sklearn.svm import LinearSVR, LinearSVC\n",
    "stack_feature_list = ['XGBRegressor', 'XGBClassifier', 'surprise', 'keras', 'FM']\n",
    "mean = 0\n",
    "for f in range(5):\n",
    "    train_fold = train_meta[train_meta.foldID != f+1]\n",
    "    val_fold = train_meta[train_meta.foldID == f+1]\n",
    "\n",
    "    x_train, y_train = train_fold[stack_feature_list], train_fold['Book-Rating']\n",
    "    x_val, y_val = val_fold[stack_feature_list], val_fold['Book-Rating']\n",
    "    \n",
    "    print (\"fold\", f+1, ', data length:', len(x_train))\n",
    "    model = LinearSVR()\n",
    "    model.fit(x_train, y_train)\n",
    "    pred = model.predict(x_val)\n",
    "    pred = np.round(pred)\n",
    "    mae = MAE(pred, y_val)\n",
    "    mean += mae\n",
    "    print (\"\\t\", 'validation score:', mae)\n",
    "\n",
    "print ('mean:', mean/5)"
   ]
  },
  {
   "cell_type": "code",
   "execution_count": 7,
   "metadata": {},
   "outputs": [
    {
     "name": "stdout",
     "output_type": "stream",
     "text": [
      "fold 1 , data length: 208161\n",
      "\t validation score: 1.2165984512211525\n",
      "fold 2 , data length: 208161\n",
      "\t validation score: 1.215138064218597\n",
      "fold 3 , data length: 208162\n",
      "\t validation score: 1.2186971560338202\n",
      "fold 4 , data length: 208162\n",
      "\t validation score: 1.2164296694850116\n",
      "fold 5 , data length: 208162\n",
      "\t validation score: 1.2193889315910837\n",
      "mean: 1.217250454509933\n"
     ]
    }
   ],
   "source": [
    "from keras import \n",
    "stack_feature_list = ['XGBRegressor', 'XGBClassifier', 'surprise', 'keras', 'FM']\n",
    "mean = 0\n",
    "for f in range(5):\n",
    "    train_fold = train_meta[train_meta.foldID != f+1]\n",
    "    val_fold = train_meta[train_meta.foldID == f+1]\n",
    "\n",
    "    x_train, y_train = train_fold[stack_feature_list], train_fold['Book-Rating']\n",
    "    x_val, y_val = val_fold[stack_feature_list], val_fold['Book-Rating']\n",
    "    \n",
    "    print (\"fold\", f+1, ', data length:', len(x_train))\n",
    "    model = LinearSVR()\n",
    "    model.fit(x_train, y_train)\n",
    "    pred = model.predict(x_val)\n",
    "    pred = np.round(pred)\n",
    "    mae = MAE(pred, y_val)\n",
    "    mean += mae\n",
    "    print (\"\\t\", 'validation score:', mae)\n",
    "\n",
    "print ('mean:', mean/5)"
   ]
  },
  {
   "cell_type": "code",
   "execution_count": 24,
   "metadata": {},
   "outputs": [
    {
     "name": "stdout",
     "output_type": "stream",
     "text": [
      "fold 1 , data length: 208161\n",
      "\t validation score: 1.2150996329816874\n",
      "fold 2 , data length: 208161\n",
      "\t validation score: 1.2153878672585077\n",
      "fold 3 , data length: 208162\n",
      "\t validation score: 1.2186779400461183\n",
      "fold 4 , data length: 208162\n",
      "\t validation score: 1.216967717140661\n",
      "fold 5 , data length: 208162\n",
      "\t validation score: 1.219369715603382\n",
      "mean: 1.2171005746060712\n"
     ]
    }
   ],
   "source": [
    "from sklearn.svm import LinearSVR, LinearSVC\n",
    "stack_feature_list = ['XGBRegressor', 'XGBClassifier', 'surprise', 'keras', 'FM']\n",
    "mean = 0\n",
    "for f in range(5):\n",
    "    train_fold = train_meta[train_meta.foldID != f+1]\n",
    "    val_fold = train_meta[train_meta.foldID == f+1]\n",
    "\n",
    "    x_train, y_train = train_fold[stack_feature_list], train_fold['Book-Rating']\n",
    "    x_val, y_val = val_fold[stack_feature_list], val_fold['Book-Rating']\n",
    "    \n",
    "    print (\"fold\", f+1, ', data length:', len(x_train))\n",
    "    \n",
    "    model = LinearSVR()\n",
    "    model.fit(x_train, y_train)\n",
    "    pred = model.predict(x_val)\n",
    "    pred = np.round(pred)\n",
    "    mae = MAE(pred, y_val)\n",
    "    mean += mae\n",
    "    print (\"\\t\", 'validation score:', mae)\n",
    "\n",
    "print ('mean:', mean/5)"
   ]
  },
  {
   "cell_type": "code",
   "execution_count": 23,
   "metadata": {},
   "outputs": [
    {
     "data": {
      "text/html": [
       "<div>\n",
       "<style scoped>\n",
       "    .dataframe tbody tr th:only-of-type {\n",
       "        vertical-align: middle;\n",
       "    }\n",
       "\n",
       "    .dataframe tbody tr th {\n",
       "        vertical-align: top;\n",
       "    }\n",
       "\n",
       "    .dataframe thead th {\n",
       "        text-align: right;\n",
       "    }\n",
       "</style>\n",
       "<table border=\"1\" class=\"dataframe\">\n",
       "  <thead>\n",
       "    <tr style=\"text-align: right;\">\n",
       "      <th></th>\n",
       "      <th>Book-Rating</th>\n",
       "      <th>ISBN</th>\n",
       "      <th>User-ID</th>\n",
       "      <th>age</th>\n",
       "      <th>loc</th>\n",
       "      <th>author</th>\n",
       "      <th>years</th>\n",
       "      <th>publisher</th>\n",
       "      <th>foldID</th>\n",
       "      <th>surprise</th>\n",
       "      <th>FM</th>\n",
       "      <th>keras</th>\n",
       "      <th>XGBRegressor</th>\n",
       "      <th>XGBClassifier</th>\n",
       "    </tr>\n",
       "  </thead>\n",
       "  <tbody>\n",
       "    <tr>\n",
       "      <th>0</th>\n",
       "      <td>8.0</td>\n",
       "      <td>133745</td>\n",
       "      <td>6329</td>\n",
       "      <td>47.0</td>\n",
       "      <td>18959</td>\n",
       "      <td>41855</td>\n",
       "      <td>1992.0</td>\n",
       "      <td>560</td>\n",
       "      <td>3</td>\n",
       "      <td>7.0</td>\n",
       "      <td>7.0</td>\n",
       "      <td>8</td>\n",
       "      <td>7</td>\n",
       "      <td>7</td>\n",
       "    </tr>\n",
       "    <tr>\n",
       "      <th>1</th>\n",
       "      <td>10.0</td>\n",
       "      <td>21147</td>\n",
       "      <td>75160</td>\n",
       "      <td>0.0</td>\n",
       "      <td>9894</td>\n",
       "      <td>37869</td>\n",
       "      <td>2001.0</td>\n",
       "      <td>4132</td>\n",
       "      <td>3</td>\n",
       "      <td>8.0</td>\n",
       "      <td>7.0</td>\n",
       "      <td>8</td>\n",
       "      <td>8</td>\n",
       "      <td>8</td>\n",
       "    </tr>\n",
       "    <tr>\n",
       "      <th>2</th>\n",
       "      <td>8.0</td>\n",
       "      <td>13559</td>\n",
       "      <td>886</td>\n",
       "      <td>29.0</td>\n",
       "      <td>4962</td>\n",
       "      <td>62104</td>\n",
       "      <td>0.0</td>\n",
       "      <td>11567</td>\n",
       "      <td>4</td>\n",
       "      <td>8.0</td>\n",
       "      <td>8.0</td>\n",
       "      <td>8</td>\n",
       "      <td>8</td>\n",
       "      <td>8</td>\n",
       "    </tr>\n",
       "    <tr>\n",
       "      <th>3</th>\n",
       "      <td>10.0</td>\n",
       "      <td>31266</td>\n",
       "      <td>57887</td>\n",
       "      <td>0.0</td>\n",
       "      <td>15860</td>\n",
       "      <td>45272</td>\n",
       "      <td>1997.0</td>\n",
       "      <td>2678</td>\n",
       "      <td>5</td>\n",
       "      <td>8.0</td>\n",
       "      <td>7.0</td>\n",
       "      <td>8</td>\n",
       "      <td>7</td>\n",
       "      <td>8</td>\n",
       "    </tr>\n",
       "    <tr>\n",
       "      <th>4</th>\n",
       "      <td>9.0</td>\n",
       "      <td>80349</td>\n",
       "      <td>46556</td>\n",
       "      <td>45.0</td>\n",
       "      <td>8588</td>\n",
       "      <td>11258</td>\n",
       "      <td>2000.0</td>\n",
       "      <td>4553</td>\n",
       "      <td>4</td>\n",
       "      <td>10.0</td>\n",
       "      <td>8.0</td>\n",
       "      <td>10</td>\n",
       "      <td>9</td>\n",
       "      <td>10</td>\n",
       "    </tr>\n",
       "  </tbody>\n",
       "</table>\n",
       "</div>"
      ],
      "text/plain": [
       "   Book-Rating    ISBN  User-ID   age    loc  author   years  publisher  \\\n",
       "0          8.0  133745     6329  47.0  18959   41855  1992.0        560   \n",
       "1         10.0   21147    75160   0.0   9894   37869  2001.0       4132   \n",
       "2          8.0   13559      886  29.0   4962   62104     0.0      11567   \n",
       "3         10.0   31266    57887   0.0  15860   45272  1997.0       2678   \n",
       "4          9.0   80349    46556  45.0   8588   11258  2000.0       4553   \n",
       "\n",
       "   foldID  surprise   FM  keras  XGBRegressor  XGBClassifier  \n",
       "0       3       7.0  7.0      8             7              7  \n",
       "1       3       8.0  7.0      8             8              8  \n",
       "2       4       8.0  8.0      8             8              8  \n",
       "3       5       8.0  7.0      8             7              8  \n",
       "4       4      10.0  8.0     10             9             10  "
      ]
     },
     "execution_count": 23,
     "metadata": {},
     "output_type": "execute_result"
    }
   ],
   "source": [
    "train_meta.to_csv('stack/train_meta3.csv')\n",
    "test_meta.to_csv('stack/test_meta3.csv')\n",
    "train_meta.head()"
   ]
  },
  {
   "cell_type": "code",
   "execution_count": 9,
   "metadata": {
    "collapsed": true
   },
   "outputs": [],
   "source": [
    "from sklearn.metrics import make_scorer\n",
    "def my_mae(ground, preds):\n",
    "    return MAE(ground, np.round(preds))"
   ]
  },
  {
   "cell_type": "code",
   "execution_count": 11,
   "metadata": {},
   "outputs": [
    {
     "name": "stdout",
     "output_type": "stream",
     "text": [
      "[('XGBRegressor',), ('XGBClassifier',), ('surprise',), ('keras',), ('FM',), ('XGBRegressor', 'XGBClassifier'), ('XGBRegressor', 'surprise'), ('XGBRegressor', 'keras'), ('XGBRegressor', 'FM'), ('XGBClassifier', 'surprise'), ('XGBClassifier', 'keras'), ('XGBClassifier', 'FM'), ('surprise', 'keras'), ('surprise', 'FM'), ('keras', 'FM'), ('XGBRegressor', 'XGBClassifier', 'surprise'), ('XGBRegressor', 'XGBClassifier', 'keras'), ('XGBRegressor', 'XGBClassifier', 'FM'), ('XGBRegressor', 'surprise', 'keras'), ('XGBRegressor', 'surprise', 'FM'), ('XGBRegressor', 'keras', 'FM'), ('XGBClassifier', 'surprise', 'keras'), ('XGBClassifier', 'surprise', 'FM'), ('XGBClassifier', 'keras', 'FM'), ('surprise', 'keras', 'FM'), ('XGBRegressor', 'XGBClassifier', 'surprise', 'keras'), ('XGBRegressor', 'XGBClassifier', 'surprise', 'FM'), ('XGBRegressor', 'XGBClassifier', 'keras', 'FM'), ('XGBRegressor', 'surprise', 'keras', 'FM'), ('XGBClassifier', 'surprise', 'keras', 'FM')]\n"
     ]
    }
   ],
   "source": [
    "# create combinations of features\n",
    "from itertools import combinations\n",
    "all_combin = []\n",
    "for k in range(1, len(stack_feature_list)):\n",
    "    for j in combinations(stack_feature_list, k):\n",
    "        all_combin.append(j)\n",
    "\n",
    "print (all_combin)"
   ]
  },
  {
   "cell_type": "code",
   "execution_count": 12,
   "metadata": {},
   "outputs": [
    {
     "name": "stdout",
     "output_type": "stream",
     "text": [
      "['XGBRegressor']\n",
      "Fitting 5 folds for each of 1 candidates, totalling 5 fits\n"
     ]
    },
    {
     "name": "stderr",
     "output_type": "stream",
     "text": [
      "[Parallel(n_jobs=5)]: Done   2 out of   5 | elapsed:    4.2s remaining:    6.3s\n",
      "[Parallel(n_jobs=5)]: Done   5 out of   5 | elapsed:    4.6s finished\n"
     ]
    },
    {
     "name": "stdout",
     "output_type": "stream",
     "text": [
      "1.2264433017424923 1.2264433017424923\n",
      "['XGBClassifier']\n",
      "Fitting 5 folds for each of 1 candidates, totalling 5 fits\n"
     ]
    },
    {
     "name": "stderr",
     "output_type": "stream",
     "text": [
      "[Parallel(n_jobs=5)]: Done   2 out of   5 | elapsed:    5.8s remaining:    8.8s\n",
      "[Parallel(n_jobs=5)]: Done   5 out of   5 | elapsed:    6.1s finished\n"
     ]
    },
    {
     "name": "stdout",
     "output_type": "stream",
     "text": [
      "1.266796565745075 1.2264433017424923\n",
      "['surprise']\n",
      "Fitting 5 folds for each of 1 candidates, totalling 5 fits\n"
     ]
    },
    {
     "name": "stderr",
     "output_type": "stream",
     "text": [
      "[Parallel(n_jobs=5)]: Done   2 out of   5 | elapsed:    4.7s remaining:    7.0s\n",
      "[Parallel(n_jobs=5)]: Done   5 out of   5 | elapsed:    5.3s finished\n"
     ]
    },
    {
     "name": "stdout",
     "output_type": "stream",
     "text": [
      "1.2186493570379935 1.2186493570379935\n",
      "['keras']\n",
      "Fitting 5 folds for each of 1 candidates, totalling 5 fits\n"
     ]
    },
    {
     "name": "stderr",
     "output_type": "stream",
     "text": [
      "[Parallel(n_jobs=5)]: Done   2 out of   5 | elapsed:    5.0s remaining:    7.6s\n",
      "[Parallel(n_jobs=5)]: Done   5 out of   5 | elapsed:    5.5s finished\n"
     ]
    },
    {
     "name": "stdout",
     "output_type": "stream",
     "text": [
      "1.2332072774229252 1.2186493570379935\n",
      "['FM']\n",
      "Fitting 5 folds for each of 1 candidates, totalling 5 fits\n"
     ]
    },
    {
     "name": "stderr",
     "output_type": "stream",
     "text": [
      "[Parallel(n_jobs=5)]: Done   2 out of   5 | elapsed:    2.7s remaining:    4.0s\n",
      "[Parallel(n_jobs=5)]: Done   5 out of   5 | elapsed:    3.3s finished\n"
     ]
    },
    {
     "name": "stdout",
     "output_type": "stream",
     "text": [
      "1.434985126939839 1.2186493570379935\n",
      "['XGBRegressor', 'XGBClassifier']\n",
      "Fitting 5 folds for each of 1 candidates, totalling 5 fits\n"
     ]
    },
    {
     "name": "stderr",
     "output_type": "stream",
     "text": [
      "[Parallel(n_jobs=5)]: Done   2 out of   5 | elapsed:   11.1s remaining:   16.6s\n",
      "[Parallel(n_jobs=5)]: Done   5 out of   5 | elapsed:   12.4s finished\n"
     ]
    },
    {
     "name": "stdout",
     "output_type": "stream",
     "text": [
      "1.2264433017424923 1.2186493570379935\n",
      "['XGBRegressor', 'surprise']\n",
      "Fitting 5 folds for each of 1 candidates, totalling 5 fits\n"
     ]
    },
    {
     "name": "stderr",
     "output_type": "stream",
     "text": [
      "[Parallel(n_jobs=5)]: Done   2 out of   5 | elapsed:   10.3s remaining:   15.4s\n",
      "[Parallel(n_jobs=5)]: Done   5 out of   5 | elapsed:   12.8s finished\n"
     ]
    },
    {
     "name": "stdout",
     "output_type": "stream",
     "text": [
      "1.2186493570379935 1.2186493570379935\n",
      "['XGBRegressor', 'keras']\n",
      "Fitting 5 folds for each of 1 candidates, totalling 5 fits\n"
     ]
    },
    {
     "name": "stderr",
     "output_type": "stream",
     "text": [
      "[Parallel(n_jobs=5)]: Done   2 out of   5 | elapsed:   11.6s remaining:   17.4s\n",
      "[Parallel(n_jobs=5)]: Done   5 out of   5 | elapsed:   14.0s finished\n"
     ]
    },
    {
     "name": "stdout",
     "output_type": "stream",
     "text": [
      "1.2213242019661648 1.2186493570379935\n",
      "['XGBRegressor', 'FM']\n",
      "Fitting 5 folds for each of 1 candidates, totalling 5 fits\n"
     ]
    },
    {
     "name": "stderr",
     "output_type": "stream",
     "text": [
      "[Parallel(n_jobs=5)]: Done   2 out of   5 | elapsed:    5.7s remaining:    8.6s\n",
      "[Parallel(n_jobs=5)]: Done   5 out of   5 | elapsed:    7.0s finished\n"
     ]
    },
    {
     "name": "stdout",
     "output_type": "stream",
     "text": [
      "1.2264433017424923 1.2186493570379935\n",
      "['XGBClassifier', 'surprise']\n",
      "Fitting 5 folds for each of 1 candidates, totalling 5 fits\n"
     ]
    },
    {
     "name": "stderr",
     "output_type": "stream",
     "text": [
      "[Parallel(n_jobs=5)]: Done   2 out of   5 | elapsed:   10.9s remaining:   16.4s\n",
      "[Parallel(n_jobs=5)]: Done   5 out of   5 | elapsed:   12.7s finished\n"
     ]
    },
    {
     "name": "stdout",
     "output_type": "stream",
     "text": [
      "1.2186493570379935 1.2186493570379935\n",
      "['XGBClassifier', 'keras']\n",
      "Fitting 5 folds for each of 1 candidates, totalling 5 fits\n"
     ]
    },
    {
     "name": "stderr",
     "output_type": "stream",
     "text": [
      "[Parallel(n_jobs=5)]: Done   2 out of   5 | elapsed:   18.1s remaining:   27.1s\n",
      "[Parallel(n_jobs=5)]: Done   5 out of   5 | elapsed:   20.5s finished\n"
     ]
    },
    {
     "name": "stdout",
     "output_type": "stream",
     "text": [
      "1.2332072774229252 1.2186493570379935\n",
      "['XGBClassifier', 'FM']\n",
      "Fitting 5 folds for each of 1 candidates, totalling 5 fits\n"
     ]
    },
    {
     "name": "stderr",
     "output_type": "stream",
     "text": [
      "[Parallel(n_jobs=5)]: Done   2 out of   5 | elapsed:   10.7s remaining:   16.0s\n",
      "[Parallel(n_jobs=5)]: Done   5 out of   5 | elapsed:   11.5s finished\n"
     ]
    },
    {
     "name": "stdout",
     "output_type": "stream",
     "text": [
      "1.266796565745075 1.2186493570379935\n",
      "['surprise', 'keras']\n",
      "Fitting 5 folds for each of 1 candidates, totalling 5 fits\n"
     ]
    },
    {
     "name": "stderr",
     "output_type": "stream",
     "text": [
      "[Parallel(n_jobs=5)]: Done   2 out of   5 | elapsed:   10.1s remaining:   15.2s\n",
      "[Parallel(n_jobs=5)]: Done   5 out of   5 | elapsed:   10.7s finished\n"
     ]
    },
    {
     "name": "stdout",
     "output_type": "stream",
     "text": [
      "1.2186493570379935 1.2186493570379935\n",
      "['surprise', 'FM']\n",
      "Fitting 5 folds for each of 1 candidates, totalling 5 fits\n"
     ]
    },
    {
     "name": "stderr",
     "output_type": "stream",
     "text": [
      "[Parallel(n_jobs=5)]: Done   2 out of   5 | elapsed:    6.3s remaining:    9.5s\n",
      "[Parallel(n_jobs=5)]: Done   5 out of   5 | elapsed:    7.7s finished\n"
     ]
    },
    {
     "name": "stdout",
     "output_type": "stream",
     "text": [
      "1.2186493570379935 1.2186493570379935\n",
      "['keras', 'FM']\n",
      "Fitting 5 folds for each of 1 candidates, totalling 5 fits\n"
     ]
    },
    {
     "name": "stderr",
     "output_type": "stream",
     "text": [
      "[Parallel(n_jobs=5)]: Done   2 out of   5 | elapsed:    7.8s remaining:   11.7s\n",
      "[Parallel(n_jobs=5)]: Done   5 out of   5 | elapsed:    8.7s finished\n"
     ]
    },
    {
     "name": "stdout",
     "output_type": "stream",
     "text": [
      "1.2332072774229252 1.2186493570379935\n",
      "['XGBRegressor', 'XGBClassifier', 'surprise']\n",
      "Fitting 5 folds for each of 1 candidates, totalling 5 fits\n"
     ]
    },
    {
     "name": "stderr",
     "output_type": "stream",
     "text": [
      "[Parallel(n_jobs=5)]: Done   2 out of   5 | elapsed:   19.9s remaining:   29.9s\n",
      "[Parallel(n_jobs=5)]: Done   5 out of   5 | elapsed:   24.4s finished\n"
     ]
    },
    {
     "name": "stdout",
     "output_type": "stream",
     "text": [
      "1.2186493570379935 1.2186493570379935\n",
      "['XGBRegressor', 'XGBClassifier', 'keras']\n",
      "Fitting 5 folds for each of 1 candidates, totalling 5 fits\n"
     ]
    },
    {
     "name": "stderr",
     "output_type": "stream",
     "text": [
      "[Parallel(n_jobs=5)]: Done   2 out of   5 | elapsed:   19.4s remaining:   29.2s\n",
      "[Parallel(n_jobs=5)]: Done   5 out of   5 | elapsed:   21.1s finished\n"
     ]
    },
    {
     "name": "stdout",
     "output_type": "stream",
     "text": [
      "1.2227423309582555 1.2186493570379935\n",
      "['XGBRegressor', 'XGBClassifier', 'FM']\n",
      "Fitting 5 folds for each of 1 candidates, totalling 5 fits\n"
     ]
    },
    {
     "name": "stderr",
     "output_type": "stream",
     "text": [
      "[Parallel(n_jobs=5)]: Done   2 out of   5 | elapsed:   20.4s remaining:   30.6s\n",
      "[Parallel(n_jobs=5)]: Done   5 out of   5 | elapsed:   21.1s finished\n"
     ]
    },
    {
     "name": "stdout",
     "output_type": "stream",
     "text": [
      "1.2264433017424923 1.2186493570379935\n",
      "['XGBRegressor', 'surprise', 'keras']\n",
      "Fitting 5 folds for each of 1 candidates, totalling 5 fits\n"
     ]
    },
    {
     "name": "stderr",
     "output_type": "stream",
     "text": [
      "[Parallel(n_jobs=5)]: Done   2 out of   5 | elapsed:   23.6s remaining:   35.4s\n",
      "[Parallel(n_jobs=5)]: Done   5 out of   5 | elapsed:   24.1s finished\n"
     ]
    },
    {
     "name": "stdout",
     "output_type": "stream",
     "text": [
      "1.2186493570379935 1.2186493570379935\n",
      "['XGBRegressor', 'surprise', 'FM']\n",
      "Fitting 5 folds for each of 1 candidates, totalling 5 fits\n"
     ]
    },
    {
     "name": "stderr",
     "output_type": "stream",
     "text": [
      "[Parallel(n_jobs=5)]: Done   2 out of   5 | elapsed:   18.9s remaining:   28.3s\n",
      "[Parallel(n_jobs=5)]: Done   5 out of   5 | elapsed:   20.4s finished\n"
     ]
    },
    {
     "name": "stdout",
     "output_type": "stream",
     "text": [
      "1.2186493570379935 1.2186493570379935\n",
      "['XGBRegressor', 'keras', 'FM']\n",
      "Fitting 5 folds for each of 1 candidates, totalling 5 fits\n"
     ]
    },
    {
     "name": "stderr",
     "output_type": "stream",
     "text": [
      "[Parallel(n_jobs=5)]: Done   2 out of   5 | elapsed:   19.7s remaining:   29.6s\n",
      "[Parallel(n_jobs=5)]: Done   5 out of   5 | elapsed:   20.5s finished\n"
     ]
    },
    {
     "name": "stdout",
     "output_type": "stream",
     "text": [
      "1.223672377614315 1.2186493570379935\n",
      "['XGBClassifier', 'surprise', 'keras']\n",
      "Fitting 5 folds for each of 1 candidates, totalling 5 fits\n"
     ]
    },
    {
     "name": "stderr",
     "output_type": "stream",
     "text": [
      "[Parallel(n_jobs=5)]: Done   2 out of   5 | elapsed:   21.0s remaining:   31.5s\n",
      "[Parallel(n_jobs=5)]: Done   5 out of   5 | elapsed:   21.9s finished\n"
     ]
    },
    {
     "name": "stdout",
     "output_type": "stream",
     "text": [
      "1.2186493570379935 1.2186493570379935\n",
      "['XGBClassifier', 'surprise', 'FM']\n",
      "Fitting 5 folds for each of 1 candidates, totalling 5 fits\n"
     ]
    },
    {
     "name": "stderr",
     "output_type": "stream",
     "text": [
      "[Parallel(n_jobs=5)]: Done   2 out of   5 | elapsed:   18.8s remaining:   28.2s\n",
      "[Parallel(n_jobs=5)]: Done   5 out of   5 | elapsed:   20.1s finished\n"
     ]
    },
    {
     "name": "stdout",
     "output_type": "stream",
     "text": [
      "1.2186493570379935 1.2186493570379935\n",
      "['XGBClassifier', 'keras', 'FM']\n",
      "Fitting 5 folds for each of 1 candidates, totalling 5 fits\n"
     ]
    },
    {
     "name": "stderr",
     "output_type": "stream",
     "text": [
      "[Parallel(n_jobs=5)]: Done   2 out of   5 | elapsed:   24.5s remaining:   36.8s\n",
      "[Parallel(n_jobs=5)]: Done   5 out of   5 | elapsed:   25.3s finished\n"
     ]
    },
    {
     "name": "stdout",
     "output_type": "stream",
     "text": [
      "1.2332072774229252 1.2186493570379935\n",
      "['surprise', 'keras', 'FM']\n",
      "Fitting 5 folds for each of 1 candidates, totalling 5 fits\n"
     ]
    },
    {
     "name": "stderr",
     "output_type": "stream",
     "text": [
      "[Parallel(n_jobs=5)]: Done   2 out of   5 | elapsed:   15.2s remaining:   22.7s\n",
      "[Parallel(n_jobs=5)]: Done   5 out of   5 | elapsed:   16.6s finished\n"
     ]
    },
    {
     "name": "stdout",
     "output_type": "stream",
     "text": [
      "1.2186493570379935 1.2186493570379935\n",
      "['XGBRegressor', 'XGBClassifier', 'surprise', 'keras']\n",
      "Fitting 5 folds for each of 1 candidates, totalling 5 fits\n"
     ]
    },
    {
     "name": "stderr",
     "output_type": "stream",
     "text": [
      "[Parallel(n_jobs=5)]: Done   2 out of   5 | elapsed:   28.0s remaining:   42.0s\n",
      "[Parallel(n_jobs=5)]: Done   5 out of   5 | elapsed:   28.7s finished\n"
     ]
    },
    {
     "name": "stdout",
     "output_type": "stream",
     "text": [
      "1.2184495123019807 1.2184495123019807\n",
      "['XGBRegressor', 'XGBClassifier', 'surprise', 'FM']\n",
      "Fitting 5 folds for each of 1 candidates, totalling 5 fits\n"
     ]
    },
    {
     "name": "stderr",
     "output_type": "stream",
     "text": [
      "[Parallel(n_jobs=5)]: Done   2 out of   5 | elapsed:   27.1s remaining:   40.6s\n",
      "[Parallel(n_jobs=5)]: Done   5 out of   5 | elapsed:   27.4s finished\n"
     ]
    },
    {
     "name": "stdout",
     "output_type": "stream",
     "text": [
      "1.2186493570379935 1.2184495123019807\n",
      "['XGBRegressor', 'XGBClassifier', 'keras', 'FM']\n",
      "Fitting 5 folds for each of 1 candidates, totalling 5 fits\n"
     ]
    },
    {
     "name": "stderr",
     "output_type": "stream",
     "text": [
      "[Parallel(n_jobs=5)]: Done   2 out of   5 | elapsed:   26.0s remaining:   39.0s\n",
      "[Parallel(n_jobs=5)]: Done   5 out of   5 | elapsed:   26.9s finished\n"
     ]
    },
    {
     "name": "stdout",
     "output_type": "stream",
     "text": [
      "1.2144564607497252 1.2144564607497252\n",
      "['XGBRegressor', 'surprise', 'keras', 'FM']\n",
      "Fitting 5 folds for each of 1 candidates, totalling 5 fits\n"
     ]
    },
    {
     "name": "stderr",
     "output_type": "stream",
     "text": [
      "[Parallel(n_jobs=5)]: Done   2 out of   5 | elapsed:   25.9s remaining:   38.9s\n",
      "[Parallel(n_jobs=5)]: Done   5 out of   5 | elapsed:   27.0s finished\n"
     ]
    },
    {
     "name": "stdout",
     "output_type": "stream",
     "text": [
      "1.2186493570379935 1.2144564607497252\n",
      "['XGBClassifier', 'surprise', 'keras', 'FM']\n",
      "Fitting 5 folds for each of 1 candidates, totalling 5 fits\n"
     ]
    },
    {
     "name": "stderr",
     "output_type": "stream",
     "text": [
      "[Parallel(n_jobs=5)]: Done   2 out of   5 | elapsed:   27.8s remaining:   41.7s\n",
      "[Parallel(n_jobs=5)]: Done   5 out of   5 | elapsed:   28.4s finished\n"
     ]
    },
    {
     "name": "stdout",
     "output_type": "stream",
     "text": [
      "1.2186493570379935 1.2144564607497252\n",
      "1.2144564607497252 ('XGBRegressor', 'XGBClassifier', 'keras', 'FM')\n"
     ]
    }
   ],
   "source": [
    "# feature selection\n",
    "best_score = 99\n",
    "best_com = \"\"\n",
    "\n",
    "for com in all_combin:\n",
    "    \n",
    "    stack_feature_list = [i for i in com]\n",
    "    print (stack_feature_list)\n",
    "\n",
    "    S = LinearSVR()\n",
    "    \n",
    "    grid = grid_search.GridSearchCV(S,\n",
    "                            parameters,\n",
    "                            cv = 5,\n",
    "                            n_jobs = 5,\n",
    "                            scoring = make_scorer(my_mae, greater_is_better=False),\n",
    "                            verbose=True)\n",
    "\n",
    "    grid.fit(train_meta[stack_feature_list], train_meta['Book-Rating'])\n",
    "\n",
    "    if -grid.best_score_ < best_score:\n",
    "        best_score = -grid.best_score_\n",
    "        best_com = com\n",
    "    print (-grid.best_score_ , best_score)\n",
    "    \n",
    "print (best_score, best_com)"
   ]
  },
  {
   "cell_type": "code",
   "execution_count": 29,
   "metadata": {},
   "outputs": [
    {
     "name": "stdout",
     "output_type": "stream",
     "text": [
      "['XGBRegressor', 'XGBClassifier', 'keras', 'FM']\n",
      "Fitting 5 folds for each of 1 candidates, totalling 5 fits\n"
     ]
    },
    {
     "name": "stderr",
     "output_type": "stream",
     "text": [
      "[Parallel(n_jobs=5)]: Done   2 out of   5 | elapsed:   25.5s remaining:   38.2s\n",
      "[Parallel(n_jobs=5)]: Done   5 out of   5 | elapsed:   26.4s finished\n"
     ]
    },
    {
     "name": "stdout",
     "output_type": "stream",
     "text": [
      "-1.21374931783768\n",
      "{'C': 1}\n",
      "[mean: -1.21375, std: 0.00942, params: {'C': 1}]\n"
     ]
    }
   ],
   "source": [
    "# hyperparameters grid search\n",
    "stack_feature_list = [i for i in best_com]\n",
    "print (stack_feature_list)\n",
    "S = LinearSVR()\n",
    "#parameters = {'C':[0.01, 0.1, 1, 10]}\n",
    "parameters = {'C':[1]}\n",
    "grid = grid_search.GridSearchCV(S,\n",
    "                        parameters,\n",
    "                        cv = 5,\n",
    "                        n_jobs = 5,\n",
    "                        scoring = make_scorer(my_mae, greater_is_better=False),\n",
    "                        verbose=True)\n",
    "\n",
    "grid.fit(train_meta[stack_feature_list], train_meta['Book-Rating'])\n",
    "\n",
    "print(grid.best_score_)\n",
    "print(grid.best_params_)\n",
    "print(grid.grid_scores_)"
   ]
  },
  {
   "cell_type": "code",
   "execution_count": 18,
   "metadata": {},
   "outputs": [
    {
     "name": "stdout",
     "output_type": "stream",
     "text": [
      "no feature importance\n"
     ]
    }
   ],
   "source": [
    "# fit on all train data\n",
    "stack_feature_list = [i for i in best_com]\n",
    "S = LinearSVR(grid.best_params_)\n",
    "S.fit(train_meta[stack_feature_list], train_meta['Book-Rating'])\n",
    "plot_importance(S, stack_feature_list)\n",
    "final_pred = S.predict(test_meta[stack_feature_list])"
   ]
  },
  {
   "cell_type": "code",
   "execution_count": 21,
   "metadata": {},
   "outputs": [
    {
     "data": {
      "text/plain": [
       "['stack/stack.pkl']"
      ]
     },
     "execution_count": 21,
     "metadata": {},
     "output_type": "execute_result"
    }
   ],
   "source": [
    "from sklearn.externals import joblib\n",
    "joblib.dump(model, 'stack/stack.pkl')"
   ]
  },
  {
   "cell_type": "code",
   "execution_count": 19,
   "metadata": {
    "collapsed": true
   },
   "outputs": [],
   "source": [
    "# output\n",
    "with open('stack/final.csv', 'w') as f:\n",
    "    for i in final_pred:\n",
    "        print (int(round(i)), file=f)"
   ]
  }
 ],
 "metadata": {
  "kernelspec": {
   "display_name": "Python 3",
   "language": "python",
   "name": "python3"
  },
  "language_info": {
   "codemirror_mode": {
    "name": "ipython",
    "version": 3
   },
   "file_extension": ".py",
   "mimetype": "text/x-python",
   "name": "python",
   "nbconvert_exporter": "python",
   "pygments_lexer": "ipython3",
   "version": "3.5.2"
  }
 },
 "nbformat": 4,
 "nbformat_minor": 2
}
