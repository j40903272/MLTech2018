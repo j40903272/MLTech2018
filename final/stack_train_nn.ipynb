{
 "cells": [
  {
   "cell_type": "code",
   "execution_count": 1,
   "metadata": {},
   "outputs": [
    {
     "name": "stderr",
     "output_type": "stream",
     "text": [
      "/home/dada/.local/lib/python3.5/site-packages/sklearn/cross_validation.py:41: DeprecationWarning: This module was deprecated in version 0.18 in favor of the model_selection module into which all the refactored classes and functions are moved. Also note that the interface of the new CV iterators are different from that of this module. This module will be removed in 0.20.\n",
      "  \"This module will be removed in 0.20.\", DeprecationWarning)\n",
      "/home/dada/.local/lib/python3.5/site-packages/sklearn/grid_search.py:42: DeprecationWarning: This module was deprecated in version 0.18 in favor of the model_selection module into which all the refactored classes and functions are moved. This module will be removed in 0.20.\n",
      "  DeprecationWarning)\n"
     ]
    }
   ],
   "source": [
    "from sklearn.metrics import mean_absolute_error as MAE\n",
    "from sklearn import cross_validation, grid_search, metrics, ensemble\n",
    "\n",
    "import matplotlib.pyplot as plt\n",
    "%matplotlib inline\n",
    "\n",
    "import warnings\n",
    "warnings.filterwarnings('ignore')\n",
    "\n",
    "import numpy as np"
   ]
  },
  {
   "cell_type": "code",
   "execution_count": 5,
   "metadata": {},
   "outputs": [
    {
     "data": {
      "text/html": [
       "<div>\n",
       "<style scoped>\n",
       "    .dataframe tbody tr th:only-of-type {\n",
       "        vertical-align: middle;\n",
       "    }\n",
       "\n",
       "    .dataframe tbody tr th {\n",
       "        vertical-align: top;\n",
       "    }\n",
       "\n",
       "    .dataframe thead th {\n",
       "        text-align: right;\n",
       "    }\n",
       "</style>\n",
       "<table border=\"1\" class=\"dataframe\">\n",
       "  <thead>\n",
       "    <tr style=\"text-align: right;\">\n",
       "      <th></th>\n",
       "      <th>Book-Rating</th>\n",
       "      <th>ISBN</th>\n",
       "      <th>User-ID</th>\n",
       "      <th>age</th>\n",
       "      <th>loc</th>\n",
       "      <th>author</th>\n",
       "      <th>years</th>\n",
       "      <th>publisher</th>\n",
       "      <th>foldID</th>\n",
       "      <th>surprise</th>\n",
       "      <th>FM</th>\n",
       "      <th>keras</th>\n",
       "      <th>XGBRegressor</th>\n",
       "      <th>XGBClassifier</th>\n",
       "    </tr>\n",
       "  </thead>\n",
       "  <tbody>\n",
       "    <tr>\n",
       "      <th>0</th>\n",
       "      <td>8.0</td>\n",
       "      <td>133745</td>\n",
       "      <td>6329</td>\n",
       "      <td>47.0</td>\n",
       "      <td>18959</td>\n",
       "      <td>41855</td>\n",
       "      <td>1992.0</td>\n",
       "      <td>560</td>\n",
       "      <td>3</td>\n",
       "      <td>7.0</td>\n",
       "      <td>7.0</td>\n",
       "      <td>8</td>\n",
       "      <td>7</td>\n",
       "      <td>7</td>\n",
       "    </tr>\n",
       "    <tr>\n",
       "      <th>1</th>\n",
       "      <td>10.0</td>\n",
       "      <td>21147</td>\n",
       "      <td>75160</td>\n",
       "      <td>0.0</td>\n",
       "      <td>9894</td>\n",
       "      <td>37869</td>\n",
       "      <td>2001.0</td>\n",
       "      <td>4132</td>\n",
       "      <td>3</td>\n",
       "      <td>8.0</td>\n",
       "      <td>7.0</td>\n",
       "      <td>8</td>\n",
       "      <td>8</td>\n",
       "      <td>8</td>\n",
       "    </tr>\n",
       "    <tr>\n",
       "      <th>2</th>\n",
       "      <td>8.0</td>\n",
       "      <td>13559</td>\n",
       "      <td>886</td>\n",
       "      <td>29.0</td>\n",
       "      <td>4962</td>\n",
       "      <td>62104</td>\n",
       "      <td>0.0</td>\n",
       "      <td>11567</td>\n",
       "      <td>4</td>\n",
       "      <td>8.0</td>\n",
       "      <td>8.0</td>\n",
       "      <td>8</td>\n",
       "      <td>8</td>\n",
       "      <td>8</td>\n",
       "    </tr>\n",
       "    <tr>\n",
       "      <th>3</th>\n",
       "      <td>10.0</td>\n",
       "      <td>31266</td>\n",
       "      <td>57887</td>\n",
       "      <td>0.0</td>\n",
       "      <td>15860</td>\n",
       "      <td>45272</td>\n",
       "      <td>1997.0</td>\n",
       "      <td>2678</td>\n",
       "      <td>5</td>\n",
       "      <td>8.0</td>\n",
       "      <td>7.0</td>\n",
       "      <td>8</td>\n",
       "      <td>7</td>\n",
       "      <td>8</td>\n",
       "    </tr>\n",
       "    <tr>\n",
       "      <th>4</th>\n",
       "      <td>9.0</td>\n",
       "      <td>80349</td>\n",
       "      <td>46556</td>\n",
       "      <td>45.0</td>\n",
       "      <td>8588</td>\n",
       "      <td>11258</td>\n",
       "      <td>2000.0</td>\n",
       "      <td>4553</td>\n",
       "      <td>4</td>\n",
       "      <td>10.0</td>\n",
       "      <td>8.0</td>\n",
       "      <td>10</td>\n",
       "      <td>9</td>\n",
       "      <td>10</td>\n",
       "    </tr>\n",
       "  </tbody>\n",
       "</table>\n",
       "</div>"
      ],
      "text/plain": [
       "   Book-Rating    ISBN  User-ID   age    loc  author   years  publisher  \\\n",
       "0          8.0  133745     6329  47.0  18959   41855  1992.0        560   \n",
       "1         10.0   21147    75160   0.0   9894   37869  2001.0       4132   \n",
       "2          8.0   13559      886  29.0   4962   62104     0.0      11567   \n",
       "3         10.0   31266    57887   0.0  15860   45272  1997.0       2678   \n",
       "4          9.0   80349    46556  45.0   8588   11258  2000.0       4553   \n",
       "\n",
       "   foldID  surprise   FM  keras  XGBRegressor  XGBClassifier  \n",
       "0       3       7.0  7.0      8             7              7  \n",
       "1       3       8.0  7.0      8             8              8  \n",
       "2       4       8.0  8.0      8             8              8  \n",
       "3       5       8.0  7.0      8             7              8  \n",
       "4       4      10.0  8.0     10             9             10  "
      ]
     },
     "execution_count": 5,
     "metadata": {},
     "output_type": "execute_result"
    }
   ],
   "source": [
    "import pandas as pd\n",
    "ttt = pd.read_csv('../../merge.csv')\n",
    "train_meta = pd.read_csv('../../stack/train_meta3.csv')\n",
    "test_meta = pd.read_csv('../../stack/test_meta3.csv')\n",
    "train_meta = train_meta.drop(columns=['Unnamed: 0'])\n",
    "test_meta = test_meta.drop(columns=['Unnamed: 0'])\n",
    "train_meta.head()"
   ]
  },
  {
   "cell_type": "code",
   "execution_count": 25,
   "metadata": {},
   "outputs": [
    {
     "data": {
      "image/png": "[encoded data removed]",
      "text/plain": [
       "<Figure size 504x360 with 2 Axes>"
      ]
     },
     "metadata": {},
     "output_type": "display_data"
    }
   ],
   "source": [
    "import seaborn as sns\n",
    "plt.figure(figsize=[7,5])\n",
    "sns.heatmap(train_meta.corr())\n",
    "plt.show()"
   ]
  },
  {
   "cell_type": "code",
   "execution_count": 6,
   "metadata": {},
   "outputs": [
    {
     "data": {
      "text/html": [
       "<div>\n",
       "<style scoped>\n",
       "    .dataframe tbody tr th:only-of-type {\n",
       "        vertical-align: middle;\n",
       "    }\n",
       "\n",
       "    .dataframe tbody tr th {\n",
       "        vertical-align: top;\n",
       "    }\n",
       "\n",
       "    .dataframe thead th {\n",
       "        text-align: right;\n",
       "    }\n",
       "</style>\n",
       "<table border=\"1\" class=\"dataframe\">\n",
       "  <thead>\n",
       "    <tr style=\"text-align: right;\">\n",
       "      <th></th>\n",
       "      <th>Book-Rating</th>\n",
       "      <th>ISBN</th>\n",
       "      <th>User-ID</th>\n",
       "      <th>age</th>\n",
       "      <th>loc</th>\n",
       "      <th>author</th>\n",
       "      <th>years</th>\n",
       "      <th>publisher</th>\n",
       "      <th>foldID</th>\n",
       "      <th>surprise</th>\n",
       "      <th>FM</th>\n",
       "      <th>keras</th>\n",
       "      <th>XGBRegressor</th>\n",
       "      <th>XGBClassifier</th>\n",
       "      <th>nn</th>\n",
       "    </tr>\n",
       "  </thead>\n",
       "  <tbody>\n",
       "    <tr>\n",
       "      <th>0</th>\n",
       "      <td>8.0</td>\n",
       "      <td>133745</td>\n",
       "      <td>6329</td>\n",
       "      <td>47.0</td>\n",
       "      <td>18959</td>\n",
       "      <td>41855</td>\n",
       "      <td>1992.0</td>\n",
       "      <td>560</td>\n",
       "      <td>3</td>\n",
       "      <td>7.0</td>\n",
       "      <td>7.0</td>\n",
       "      <td>8</td>\n",
       "      <td>7</td>\n",
       "      <td>7</td>\n",
       "      <td>NaN</td>\n",
       "    </tr>\n",
       "    <tr>\n",
       "      <th>1</th>\n",
       "      <td>10.0</td>\n",
       "      <td>21147</td>\n",
       "      <td>75160</td>\n",
       "      <td>0.0</td>\n",
       "      <td>9894</td>\n",
       "      <td>37869</td>\n",
       "      <td>2001.0</td>\n",
       "      <td>4132</td>\n",
       "      <td>3</td>\n",
       "      <td>8.0</td>\n",
       "      <td>7.0</td>\n",
       "      <td>8</td>\n",
       "      <td>8</td>\n",
       "      <td>8</td>\n",
       "      <td>NaN</td>\n",
       "    </tr>\n",
       "    <tr>\n",
       "      <th>2</th>\n",
       "      <td>8.0</td>\n",
       "      <td>13559</td>\n",
       "      <td>886</td>\n",
       "      <td>29.0</td>\n",
       "      <td>4962</td>\n",
       "      <td>62104</td>\n",
       "      <td>0.0</td>\n",
       "      <td>11567</td>\n",
       "      <td>4</td>\n",
       "      <td>8.0</td>\n",
       "      <td>8.0</td>\n",
       "      <td>8</td>\n",
       "      <td>8</td>\n",
       "      <td>8</td>\n",
       "      <td>NaN</td>\n",
       "    </tr>\n",
       "    <tr>\n",
       "      <th>3</th>\n",
       "      <td>10.0</td>\n",
       "      <td>31266</td>\n",
       "      <td>57887</td>\n",
       "      <td>0.0</td>\n",
       "      <td>15860</td>\n",
       "      <td>45272</td>\n",
       "      <td>1997.0</td>\n",
       "      <td>2678</td>\n",
       "      <td>5</td>\n",
       "      <td>8.0</td>\n",
       "      <td>7.0</td>\n",
       "      <td>8</td>\n",
       "      <td>7</td>\n",
       "      <td>8</td>\n",
       "      <td>NaN</td>\n",
       "    </tr>\n",
       "    <tr>\n",
       "      <th>4</th>\n",
       "      <td>9.0</td>\n",
       "      <td>80349</td>\n",
       "      <td>46556</td>\n",
       "      <td>45.0</td>\n",
       "      <td>8588</td>\n",
       "      <td>11258</td>\n",
       "      <td>2000.0</td>\n",
       "      <td>4553</td>\n",
       "      <td>4</td>\n",
       "      <td>10.0</td>\n",
       "      <td>8.0</td>\n",
       "      <td>10</td>\n",
       "      <td>9</td>\n",
       "      <td>10</td>\n",
       "      <td>NaN</td>\n",
       "    </tr>\n",
       "  </tbody>\n",
       "</table>\n",
       "</div>"
      ],
      "text/plain": [
       "   Book-Rating    ISBN  User-ID   age    loc  author   years  publisher  \\\n",
       "0          8.0  133745     6329  47.0  18959   41855  1992.0        560   \n",
       "1         10.0   21147    75160   0.0   9894   37869  2001.0       4132   \n",
       "2          8.0   13559      886  29.0   4962   62104     0.0      11567   \n",
       "3         10.0   31266    57887   0.0  15860   45272  1997.0       2678   \n",
       "4          9.0   80349    46556  45.0   8588   11258  2000.0       4553   \n",
       "\n",
       "   foldID  surprise   FM  keras  XGBRegressor  XGBClassifier  nn  \n",
       "0       3       7.0  7.0      8             7              7 NaN  \n",
       "1       3       8.0  7.0      8             8              8 NaN  \n",
       "2       4       8.0  8.0      8             8              8 NaN  \n",
       "3       5       8.0  7.0      8             7              8 NaN  \n",
       "4       4      10.0  8.0     10             9             10 NaN  "
      ]
     },
     "execution_count": 6,
     "metadata": {},
     "output_type": "execute_result"
    }
   ],
   "source": [
    "train_meta['nn'] = float('nan')\n",
    "test_meta['nn'] = float('nan')\n",
    "train_meta.head()"
   ]
  },
  {
   "cell_type": "code",
   "execution_count": 8,
   "metadata": {
    "collapsed": true
   },
   "outputs": [],
   "source": [
    "import torch\n",
    "import torch.nn.functional as F\n",
    "from torch.utils.data import DataLoader, TensorDataset\n",
    "\n",
    "from model import *"
   ]
  },
  {
   "cell_type": "code",
   "execution_count": 7,
   "metadata": {
    "collapsed": true
   },
   "outputs": [],
   "source": [
    "n_users = ttt['User-ID'].nunique()\n",
    "n_books = ttt['ISBN'].nunique()"
   ]
  },
  {
   "cell_type": "code",
   "execution_count": 23,
   "metadata": {},
   "outputs": [
    {
     "name": "stdout",
     "output_type": "stream",
     "text": [
      "fold 1 , data length: 208161\n",
      "validation score: 1.2156953171537825\n",
      "fold 2 , data length: 208161\n",
      "validation score: 1.2173862915777944\n",
      "fold 3 , data length: 208162\n",
      "validation score: 1.2192352036894696\n",
      "fold 4 , data length: 208162\n",
      "validation score: 1.217044581091468\n",
      "fold 5 , data length: 208162\n",
      "validation score: 1.2199846272098387\n",
      "mean: 1.2178692041444708\n"
     ]
    }
   ],
   "source": [
    "# train and fill train meta\n",
    "mean = 0\n",
    "for f in range(5):\n",
    "    train_fold = train_meta[train_meta.foldID != f+1]\n",
    "    val_fold = train_meta[train_meta.foldID == f+1]\n",
    "    \n",
    "    user_train, book_train, rate_train = train_fold['User-ID'].values, train_fold['ISBN'].values, train_fold['Book-Rating'].values\n",
    "    user_val, book_val, rate_val = val_fold['User-ID'].values, val_fold['ISBN'].values, val_fold['Book-Rating'].values\n",
    "    \n",
    "    train_loader = DataLoader(\n",
    "            dataset=TensorDataset(\n",
    "                torch.from_numpy(user_train),\n",
    "                torch.from_numpy(book_train),\n",
    "                torch.from_numpy(rate_train)),\n",
    "            batch_size=1024,\n",
    "            shuffle=True,\n",
    "            num_workers=8)\n",
    "    \n",
    "    val_loader = DataLoader(\n",
    "            dataset=TensorDataset(\n",
    "                torch.from_numpy(user_val),\n",
    "                torch.from_numpy(book_val),\n",
    "                torch.from_numpy(rate_val)),\n",
    "            batch_size=1024,\n",
    "            num_workers=8)\n",
    "    \n",
    "    print (\"fold\", f+1, ', data length:', len(user_train))\n",
    "    \n",
    "    global_mean = rate_train.mean().item()\n",
    "    model = Model(\n",
    "            user_size = n_users + 1,\n",
    "            book_size = n_books + 1,\n",
    "            global_mean=global_mean).cuda()\n",
    "    \n",
    "    optimizer_u = torch.optim.SGD(model.user_bias.parameters(), lr=0.01)\n",
    "    optimizer_b = torch.optim.SGD(model.book_bias.parameters(), lr=0.005)\n",
    "    \n",
    "    for epoch in range(45):\n",
    "        print ('Epoch:', epoch, end='\\r')\n",
    "        for i ,(user, book, rate) in enumerate(train_loader):\n",
    "            model.train()\n",
    "            user, book, rate = user.cuda(), book.cuda(), rate.cuda()\n",
    "            output, reg_loss = model(user, book)\n",
    "\n",
    "            # MAE Loss\n",
    "            loss = F.l1_loss(output, rate.float(), size_average=False)\n",
    "            # MAPE Loss\n",
    "            #loss = (F.l1_loss(output, rate, reduce=False) / rate).sum()\n",
    "\n",
    "            optimizer_u.zero_grad()\n",
    "            optimizer_b.zero_grad()\n",
    "            loss.backward()\n",
    "            optimizer_u.step()\n",
    "            optimizer_b.step()\n",
    "            \n",
    "            \n",
    "    model.eval()\n",
    "    pred = []\n",
    "    for i ,(user, book, rate) in enumerate(val_loader):\n",
    "        user, book= user.cuda(), book.cuda()\n",
    "        output = model(user, book, test=True)\n",
    "        pred.append(output.detach().cpu().numpy())\n",
    "\n",
    "    pred = np.hstack(pred)\n",
    "    pred = np.round(pred)\n",
    "    mae = MAE(pred, rate_val)\n",
    "    mean += mae\n",
    "    print ('validation score:', mae)\n",
    "        \n",
    "    train_meta['nn'][train_meta.foldID == f+1] = pred.astype(int)\n",
    "\n",
    "print ('mean:', mean/5)"
   ]
  },
  {
   "cell_type": "code",
   "execution_count": 40,
   "metadata": {},
   "outputs": [
    {
     "name": "stdout",
     "output_type": "stream",
     "text": [
      "Epoch: 44\r"
     ]
    }
   ],
   "source": [
    "# train on all and fill test meta\n",
    "user_train, book_train, rate_train = train_meta['User-ID'].values, train_meta['ISBN'].values, train_meta['Book-Rating'].values\n",
    "user_test, book_test = test_meta['User-ID'].values, test_meta['ISBN'].values\n",
    "\n",
    "train_loader = DataLoader(\n",
    "        dataset=TensorDataset(\n",
    "            torch.from_numpy(user_train),\n",
    "            torch.from_numpy(book_train),\n",
    "            torch.from_numpy(rate_train)),\n",
    "        batch_size=1024,\n",
    "        shuffle=True,\n",
    "        num_workers=8)\n",
    "\n",
    "test_loader = DataLoader(\n",
    "        dataset=TensorDataset(\n",
    "            torch.from_numpy(user_test),\n",
    "            torch.from_numpy(book_test)),\n",
    "        batch_size=1024,\n",
    "        num_workers=8)\n",
    "\n",
    "\n",
    "global_mean = rate_train.mean().item()\n",
    "model = Model(\n",
    "        user_size = n_users + 1,\n",
    "        book_size = n_books + 1,\n",
    "        global_mean=global_mean).cuda()\n",
    "\n",
    "optimizer_u = torch.optim.SGD(model.user_bias.parameters(), lr=0.01)\n",
    "optimizer_b = torch.optim.SGD(model.book_bias.parameters(), lr=0.005)\n",
    "\n",
    "for epoch in range(45):\n",
    "    print ('Epoch:', epoch, end='\\r')\n",
    "    for i ,(user, book, rate) in enumerate(train_loader):\n",
    "        model.train()\n",
    "        user, book, rate = user.cuda(), book.cuda(), rate.cuda()\n",
    "        output, reg_loss = model(user, book)\n",
    "\n",
    "        # MAE Loss\n",
    "        loss = F.l1_loss(output, rate.float(), size_average=False)\n",
    "        # MAPE Loss\n",
    "        #loss = (F.l1_loss(output, rate, reduce=False) / rate).sum()\n",
    "\n",
    "        optimizer_u.zero_grad()\n",
    "        optimizer_b.zero_grad()\n",
    "        loss.backward()\n",
    "        optimizer_u.step()\n",
    "        optimizer_b.step()\n",
    "\n",
    "\n",
    "model.eval()\n",
    "pred = []\n",
    "for i ,(user, book) in enumerate(test_loader):\n",
    "    user, book= user.cuda(), book.cuda()\n",
    "    output = model(user, book, test=True)\n",
    "    pred.append(output.detach().cpu().numpy())\n",
    "\n",
    "pred = np.hstack(pred)\n",
    "pred = np.round(pred)\n",
    "test_meta['nn'] = pred.astype(int)"
   ]
  },
  {
   "cell_type": "code",
   "execution_count": 42,
   "metadata": {},
   "outputs": [
    {
     "data": {
      "text/html": [
       "<div>\n",
       "<style scoped>\n",
       "    .dataframe tbody tr th:only-of-type {\n",
       "        vertical-align: middle;\n",
       "    }\n",
       "\n",
       "    .dataframe tbody tr th {\n",
       "        vertical-align: top;\n",
       "    }\n",
       "\n",
       "    .dataframe thead th {\n",
       "        text-align: right;\n",
       "    }\n",
       "</style>\n",
       "<table border=\"1\" class=\"dataframe\">\n",
       "  <thead>\n",
       "    <tr style=\"text-align: right;\">\n",
       "      <th></th>\n",
       "      <th>Book-Rating</th>\n",
       "      <th>ISBN</th>\n",
       "      <th>User-ID</th>\n",
       "      <th>age</th>\n",
       "      <th>loc</th>\n",
       "      <th>author</th>\n",
       "      <th>years</th>\n",
       "      <th>publisher</th>\n",
       "      <th>foldID</th>\n",
       "      <th>surprise</th>\n",
       "      <th>FM</th>\n",
       "      <th>keras</th>\n",
       "      <th>XGBRegressor</th>\n",
       "      <th>XGBClassifier</th>\n",
       "      <th>nn</th>\n",
       "    </tr>\n",
       "  </thead>\n",
       "  <tbody>\n",
       "    <tr>\n",
       "      <th>0</th>\n",
       "      <td>8.0</td>\n",
       "      <td>133745</td>\n",
       "      <td>6329</td>\n",
       "      <td>47.0</td>\n",
       "      <td>18959</td>\n",
       "      <td>41855</td>\n",
       "      <td>1992.0</td>\n",
       "      <td>560</td>\n",
       "      <td>3</td>\n",
       "      <td>7.0</td>\n",
       "      <td>7.0</td>\n",
       "      <td>8</td>\n",
       "      <td>7</td>\n",
       "      <td>7</td>\n",
       "      <td>7.0</td>\n",
       "    </tr>\n",
       "    <tr>\n",
       "      <th>1</th>\n",
       "      <td>10.0</td>\n",
       "      <td>21147</td>\n",
       "      <td>75160</td>\n",
       "      <td>0.0</td>\n",
       "      <td>9894</td>\n",
       "      <td>37869</td>\n",
       "      <td>2001.0</td>\n",
       "      <td>4132</td>\n",
       "      <td>3</td>\n",
       "      <td>8.0</td>\n",
       "      <td>7.0</td>\n",
       "      <td>8</td>\n",
       "      <td>8</td>\n",
       "      <td>8</td>\n",
       "      <td>8.0</td>\n",
       "    </tr>\n",
       "    <tr>\n",
       "      <th>2</th>\n",
       "      <td>8.0</td>\n",
       "      <td>13559</td>\n",
       "      <td>886</td>\n",
       "      <td>29.0</td>\n",
       "      <td>4962</td>\n",
       "      <td>62104</td>\n",
       "      <td>0.0</td>\n",
       "      <td>11567</td>\n",
       "      <td>4</td>\n",
       "      <td>8.0</td>\n",
       "      <td>8.0</td>\n",
       "      <td>8</td>\n",
       "      <td>8</td>\n",
       "      <td>8</td>\n",
       "      <td>8.0</td>\n",
       "    </tr>\n",
       "    <tr>\n",
       "      <th>3</th>\n",
       "      <td>10.0</td>\n",
       "      <td>31266</td>\n",
       "      <td>57887</td>\n",
       "      <td>0.0</td>\n",
       "      <td>15860</td>\n",
       "      <td>45272</td>\n",
       "      <td>1997.0</td>\n",
       "      <td>2678</td>\n",
       "      <td>5</td>\n",
       "      <td>8.0</td>\n",
       "      <td>7.0</td>\n",
       "      <td>8</td>\n",
       "      <td>7</td>\n",
       "      <td>8</td>\n",
       "      <td>8.0</td>\n",
       "    </tr>\n",
       "    <tr>\n",
       "      <th>4</th>\n",
       "      <td>9.0</td>\n",
       "      <td>80349</td>\n",
       "      <td>46556</td>\n",
       "      <td>45.0</td>\n",
       "      <td>8588</td>\n",
       "      <td>11258</td>\n",
       "      <td>2000.0</td>\n",
       "      <td>4553</td>\n",
       "      <td>4</td>\n",
       "      <td>10.0</td>\n",
       "      <td>8.0</td>\n",
       "      <td>10</td>\n",
       "      <td>9</td>\n",
       "      <td>10</td>\n",
       "      <td>10.0</td>\n",
       "    </tr>\n",
       "  </tbody>\n",
       "</table>\n",
       "</div>"
      ],
      "text/plain": [
       "   Book-Rating    ISBN  User-ID   age    loc  author   years  publisher  \\\n",
       "0          8.0  133745     6329  47.0  18959   41855  1992.0        560   \n",
       "1         10.0   21147    75160   0.0   9894   37869  2001.0       4132   \n",
       "2          8.0   13559      886  29.0   4962   62104     0.0      11567   \n",
       "3         10.0   31266    57887   0.0  15860   45272  1997.0       2678   \n",
       "4          9.0   80349    46556  45.0   8588   11258  2000.0       4553   \n",
       "\n",
       "   foldID  surprise   FM  keras  XGBRegressor  XGBClassifier    nn  \n",
       "0       3       7.0  7.0      8             7              7   7.0  \n",
       "1       3       8.0  7.0      8             8              8   8.0  \n",
       "2       4       8.0  8.0      8             8              8   8.0  \n",
       "3       5       8.0  7.0      8             7              8   8.0  \n",
       "4       4      10.0  8.0     10             9             10  10.0  "
      ]
     },
     "execution_count": 42,
     "metadata": {},
     "output_type": "execute_result"
    }
   ],
   "source": [
    "train_meta.to_csv('nn_train_meta3.csv')\n",
    "test_meta.to_csv('nn_test_meta3.csv')\n",
    "train_meta.head()"
   ]
  },
  {
   "cell_type": "code",
   "execution_count": 24,
   "metadata": {},
   "outputs": [
    {
     "name": "stdout",
     "output_type": "stream",
     "text": [
      "XGBRegressor\n",
      "1.2264433017424923\n",
      "XGBClassifier\n",
      "1.266796565745075\n",
      "surprise\n",
      "1.2186493570379935\n",
      "keras\n",
      "1.2332072774229252\n",
      "FM\n",
      "1.4966064826557828\n",
      "nn\n",
      "1.2178691939339437\n",
      "mean\n",
      "1.231470165486814\n"
     ]
    }
   ],
   "source": [
    "# baselines\n",
    "stack_feature_list = ['XGBRegressor', 'XGBClassifier', 'surprise', 'keras', 'FM', 'nn']\n",
    "pred = []\n",
    "for i in stack_feature_list:\n",
    "    print (i)\n",
    "    p = train_meta[i].values\n",
    "    print (MAE(p, train_meta['Book-Rating'].values))\n",
    "    pred.append(p)\n",
    "    \n",
    "pred = np.round(np.mean(pred, 0))\n",
    "print ('mean')\n",
    "print (MAE(pred, train_meta['Book-Rating'].values))"
   ]
  },
  {
   "cell_type": "code",
   "execution_count": 26,
   "metadata": {},
   "outputs": [
    {
     "name": "stdout",
     "output_type": "stream",
     "text": [
      "fold 1 , data length: 208161\n",
      "\t validation score: 1.2160604139044215\n",
      "fold 2 , data length: 208161\n",
      "\t validation score: 1.2087776945100979\n",
      "fold 3 , data length: 208162\n",
      "\t validation score: 1.2133743274404305\n",
      "fold 4 , data length: 208162\n",
      "\t validation score: 1.2098001537279015\n",
      "fold 5 , data length: 208162\n",
      "\t validation score: 1.2126825518831668\n",
      "mean: 1.2121390282932034\n"
     ]
    }
   ],
   "source": [
    "# test stack model\n",
    "from sklearn.svm import LinearSVR\n",
    "stack_feature_list = ['XGBRegressor', 'XGBClassifier', 'surprise', 'keras', 'FM', 'nn']\n",
    "mean = 0\n",
    "for f in range(5):\n",
    "    train_fold = train_meta[train_meta.foldID != f+1]\n",
    "    val_fold = train_meta[train_meta.foldID == f+1]\n",
    "\n",
    "    x_train, y_train = train_fold[stack_feature_list], train_fold['Book-Rating']\n",
    "    x_val, y_val = val_fold[stack_feature_list], val_fold['Book-Rating']\n",
    "    \n",
    "    print (\"fold\", f+1, ', data length:', len(x_train))\n",
    "    model = LinearSVR()\n",
    "    model.fit(x_train, y_train)\n",
    "    pred = model.predict(x_val)\n",
    "    pred = np.round(pred)\n",
    "    mae = MAE(pred, y_val)\n",
    "    mean += mae\n",
    "    print (\"\\t\", 'validation score:', mae)\n",
    "\n",
    "print ('mean:', mean/5)"
   ]
  },
  {
   "cell_type": "code",
   "execution_count": 28,
   "metadata": {
    "collapsed": true
   },
   "outputs": [],
   "source": [
    "from sklearn.metrics import make_scorer\n",
    "def my_mae(ground, preds):\n",
    "    return MAE(ground, np.round(preds))"
   ]
  },
  {
   "cell_type": "code",
   "execution_count": 30,
   "metadata": {},
   "outputs": [
    {
     "name": "stdout",
     "output_type": "stream",
     "text": [
      "('XGBRegressor',)\n",
      "('XGBClassifier',)\n",
      "('surprise',)\n",
      "('keras',)\n",
      "('FM',)\n",
      "('nn',)\n",
      "('XGBRegressor', 'XGBClassifier')\n",
      "('XGBRegressor', 'surprise')\n",
      "('XGBRegressor', 'keras')\n",
      "('XGBRegressor', 'FM')\n",
      "('XGBRegressor', 'nn')\n",
      "('XGBClassifier', 'surprise')\n",
      "('XGBClassifier', 'keras')\n",
      "('XGBClassifier', 'FM')\n",
      "('XGBClassifier', 'nn')\n",
      "('surprise', 'keras')\n",
      "('surprise', 'FM')\n",
      "('surprise', 'nn')\n",
      "('keras', 'FM')\n",
      "('keras', 'nn')\n",
      "('FM', 'nn')\n",
      "('XGBRegressor', 'XGBClassifier', 'surprise')\n",
      "('XGBRegressor', 'XGBClassifier', 'keras')\n",
      "('XGBRegressor', 'XGBClassifier', 'FM')\n",
      "('XGBRegressor', 'XGBClassifier', 'nn')\n",
      "('XGBRegressor', 'surprise', 'keras')\n",
      "('XGBRegressor', 'surprise', 'FM')\n",
      "('XGBRegressor', 'surprise', 'nn')\n",
      "('XGBRegressor', 'keras', 'FM')\n",
      "('XGBRegressor', 'keras', 'nn')\n",
      "('XGBRegressor', 'FM', 'nn')\n",
      "('XGBClassifier', 'surprise', 'keras')\n",
      "('XGBClassifier', 'surprise', 'FM')\n",
      "('XGBClassifier', 'surprise', 'nn')\n",
      "('XGBClassifier', 'keras', 'FM')\n",
      "('XGBClassifier', 'keras', 'nn')\n",
      "('XGBClassifier', 'FM', 'nn')\n",
      "('surprise', 'keras', 'FM')\n",
      "('surprise', 'keras', 'nn')\n",
      "('surprise', 'FM', 'nn')\n",
      "('keras', 'FM', 'nn')\n",
      "('XGBRegressor', 'XGBClassifier', 'surprise', 'keras')\n",
      "('XGBRegressor', 'XGBClassifier', 'surprise', 'FM')\n",
      "('XGBRegressor', 'XGBClassifier', 'surprise', 'nn')\n",
      "('XGBRegressor', 'XGBClassifier', 'keras', 'FM')\n",
      "('XGBRegressor', 'XGBClassifier', 'keras', 'nn')\n",
      "('XGBRegressor', 'XGBClassifier', 'FM', 'nn')\n",
      "('XGBRegressor', 'surprise', 'keras', 'FM')\n",
      "('XGBRegressor', 'surprise', 'keras', 'nn')\n",
      "('XGBRegressor', 'surprise', 'FM', 'nn')\n",
      "('XGBRegressor', 'keras', 'FM', 'nn')\n",
      "('XGBClassifier', 'surprise', 'keras', 'FM')\n",
      "('XGBClassifier', 'surprise', 'keras', 'nn')\n",
      "('XGBClassifier', 'surprise', 'FM', 'nn')\n",
      "('XGBClassifier', 'keras', 'FM', 'nn')\n",
      "('surprise', 'keras', 'FM', 'nn')\n",
      "('XGBRegressor', 'XGBClassifier', 'surprise', 'keras', 'FM')\n",
      "('XGBRegressor', 'XGBClassifier', 'surprise', 'keras', 'nn')\n",
      "('XGBRegressor', 'XGBClassifier', 'surprise', 'FM', 'nn')\n",
      "('XGBRegressor', 'XGBClassifier', 'keras', 'FM', 'nn')\n",
      "('XGBRegressor', 'surprise', 'keras', 'FM', 'nn')\n",
      "('XGBClassifier', 'surprise', 'keras', 'FM', 'nn')\n"
     ]
    }
   ],
   "source": [
    "# create combinations of features\n",
    "from itertools import combinations\n",
    "all_combin = []\n",
    "for k in range(1, len(stack_feature_list)+1):\n",
    "    for j in combinations(stack_feature_list, k):\n",
    "        all_combin.append(j)\n",
    "\n",
    "for i in all_combin:\n",
    "    print (i)"
   ]
  },
  {
   "cell_type": "code",
   "execution_count": 32,
   "metadata": {},
   "outputs": [
    {
     "name": "stdout",
     "output_type": "stream",
     "text": [
      "['XGBRegressor']\n",
      "Fitting 5 folds for each of 1 candidates, totalling 5 fits\n"
     ]
    },
    {
     "name": "stderr",
     "output_type": "stream",
     "text": [
      "[Parallel(n_jobs=5)]: Done   2 out of   5 | elapsed:    4.0s remaining:    6.0s\n",
      "[Parallel(n_jobs=5)]: Done   5 out of   5 | elapsed:    4.4s finished\n"
     ]
    },
    {
     "name": "stdout",
     "output_type": "stream",
     "text": [
      "1.2264433017424923 1.2264433017424923\n",
      "['XGBClassifier']\n",
      "Fitting 5 folds for each of 1 candidates, totalling 5 fits\n"
     ]
    },
    {
     "name": "stderr",
     "output_type": "stream",
     "text": [
      "[Parallel(n_jobs=5)]: Done   2 out of   5 | elapsed:    5.7s remaining:    8.5s\n",
      "[Parallel(n_jobs=5)]: Done   5 out of   5 | elapsed:    6.0s finished\n"
     ]
    },
    {
     "name": "stdout",
     "output_type": "stream",
     "text": [
      "1.266796565745075 1.2264433017424923\n",
      "['surprise']\n",
      "Fitting 5 folds for each of 1 candidates, totalling 5 fits\n"
     ]
    },
    {
     "name": "stderr",
     "output_type": "stream",
     "text": [
      "[Parallel(n_jobs=5)]: Done   2 out of   5 | elapsed:    4.3s remaining:    6.5s\n",
      "[Parallel(n_jobs=5)]: Done   5 out of   5 | elapsed:    5.0s finished\n"
     ]
    },
    {
     "name": "stdout",
     "output_type": "stream",
     "text": [
      "1.2186493570379935 1.2186493570379935\n",
      "['keras']\n",
      "Fitting 5 folds for each of 1 candidates, totalling 5 fits\n"
     ]
    },
    {
     "name": "stderr",
     "output_type": "stream",
     "text": [
      "[Parallel(n_jobs=5)]: Done   2 out of   5 | elapsed:    5.0s remaining:    7.4s\n",
      "[Parallel(n_jobs=5)]: Done   5 out of   5 | elapsed:    5.1s finished\n"
     ]
    },
    {
     "name": "stdout",
     "output_type": "stream",
     "text": [
      "1.2332072774229252 1.2186493570379935\n",
      "['FM']\n",
      "Fitting 5 folds for each of 1 candidates, totalling 5 fits\n"
     ]
    },
    {
     "name": "stderr",
     "output_type": "stream",
     "text": [
      "[Parallel(n_jobs=5)]: Done   2 out of   5 | elapsed:    3.4s remaining:    5.1s\n",
      "[Parallel(n_jobs=5)]: Done   5 out of   5 | elapsed:    3.7s finished\n"
     ]
    },
    {
     "name": "stdout",
     "output_type": "stream",
     "text": [
      "1.434985126939839 1.2186493570379935\n",
      "['nn']\n",
      "Fitting 5 folds for each of 1 candidates, totalling 5 fits\n"
     ]
    },
    {
     "name": "stderr",
     "output_type": "stream",
     "text": [
      "[Parallel(n_jobs=5)]: Done   2 out of   5 | elapsed:    5.4s remaining:    8.1s\n",
      "[Parallel(n_jobs=5)]: Done   5 out of   5 | elapsed:    5.8s finished\n"
     ]
    },
    {
     "name": "stdout",
     "output_type": "stream",
     "text": [
      "1.2178691939339437 1.2178691939339437\n",
      "['XGBRegressor', 'XGBClassifier']\n",
      "Fitting 5 folds for each of 1 candidates, totalling 5 fits\n"
     ]
    },
    {
     "name": "stderr",
     "output_type": "stream",
     "text": [
      "[Parallel(n_jobs=5)]: Done   2 out of   5 | elapsed:   12.8s remaining:   19.2s\n",
      "[Parallel(n_jobs=5)]: Done   5 out of   5 | elapsed:   14.2s finished\n"
     ]
    },
    {
     "name": "stdout",
     "output_type": "stream",
     "text": [
      "1.2264433017424923 1.2178691939339437\n",
      "['XGBRegressor', 'surprise']\n",
      "Fitting 5 folds for each of 1 candidates, totalling 5 fits\n"
     ]
    },
    {
     "name": "stderr",
     "output_type": "stream",
     "text": [
      "[Parallel(n_jobs=5)]: Done   2 out of   5 | elapsed:   13.4s remaining:   20.1s\n",
      "[Parallel(n_jobs=5)]: Done   5 out of   5 | elapsed:   14.2s finished\n"
     ]
    },
    {
     "name": "stdout",
     "output_type": "stream",
     "text": [
      "1.2186493570379935 1.2178691939339437\n",
      "['XGBRegressor', 'keras']\n",
      "Fitting 5 folds for each of 1 candidates, totalling 5 fits\n"
     ]
    },
    {
     "name": "stderr",
     "output_type": "stream",
     "text": [
      "[Parallel(n_jobs=5)]: Done   2 out of   5 | elapsed:   14.3s remaining:   21.4s\n",
      "[Parallel(n_jobs=5)]: Done   5 out of   5 | elapsed:   15.4s finished\n"
     ]
    },
    {
     "name": "stdout",
     "output_type": "stream",
     "text": [
      "1.223672377614315 1.2178691939339437\n",
      "['XGBRegressor', 'FM']\n",
      "Fitting 5 folds for each of 1 candidates, totalling 5 fits\n"
     ]
    },
    {
     "name": "stderr",
     "output_type": "stream",
     "text": [
      "[Parallel(n_jobs=5)]: Done   2 out of   5 | elapsed:    7.5s remaining:   11.3s\n",
      "[Parallel(n_jobs=5)]: Done   5 out of   5 | elapsed:    8.1s finished\n"
     ]
    },
    {
     "name": "stdout",
     "output_type": "stream",
     "text": [
      "1.2264433017424923 1.2178691939339437\n",
      "['XGBRegressor', 'nn']\n",
      "Fitting 5 folds for each of 1 candidates, totalling 5 fits\n"
     ]
    },
    {
     "name": "stderr",
     "output_type": "stream",
     "text": [
      "[Parallel(n_jobs=5)]: Done   2 out of   5 | elapsed:   16.1s remaining:   24.1s\n",
      "[Parallel(n_jobs=5)]: Done   5 out of   5 | elapsed:   16.3s finished\n"
     ]
    },
    {
     "name": "stdout",
     "output_type": "stream",
     "text": [
      "1.2178691939339437 1.2178691939339437\n",
      "['XGBClassifier', 'surprise']\n",
      "Fitting 5 folds for each of 1 candidates, totalling 5 fits\n"
     ]
    },
    {
     "name": "stderr",
     "output_type": "stream",
     "text": [
      "[Parallel(n_jobs=5)]: Done   2 out of   5 | elapsed:   12.9s remaining:   19.3s\n",
      "[Parallel(n_jobs=5)]: Done   5 out of   5 | elapsed:   13.2s finished\n"
     ]
    },
    {
     "name": "stdout",
     "output_type": "stream",
     "text": [
      "1.2186493570379935 1.2178691939339437\n",
      "['XGBClassifier', 'keras']\n",
      "Fitting 5 folds for each of 1 candidates, totalling 5 fits\n"
     ]
    },
    {
     "name": "stderr",
     "output_type": "stream",
     "text": [
      "[Parallel(n_jobs=5)]: Done   2 out of   5 | elapsed:   19.5s remaining:   29.3s\n",
      "[Parallel(n_jobs=5)]: Done   5 out of   5 | elapsed:   21.4s finished\n"
     ]
    },
    {
     "name": "stdout",
     "output_type": "stream",
     "text": [
      "1.2332072774229252 1.2178691939339437\n",
      "['XGBClassifier', 'FM']\n",
      "Fitting 5 folds for each of 1 candidates, totalling 5 fits\n"
     ]
    },
    {
     "name": "stderr",
     "output_type": "stream",
     "text": [
      "[Parallel(n_jobs=5)]: Done   2 out of   5 | elapsed:   10.8s remaining:   16.3s\n",
      "[Parallel(n_jobs=5)]: Done   5 out of   5 | elapsed:   11.1s finished\n"
     ]
    },
    {
     "name": "stdout",
     "output_type": "stream",
     "text": [
      "1.266796565745075 1.2178691939339437\n",
      "['XGBClassifier', 'nn']\n",
      "Fitting 5 folds for each of 1 candidates, totalling 5 fits\n"
     ]
    },
    {
     "name": "stderr",
     "output_type": "stream",
     "text": [
      "[Parallel(n_jobs=5)]: Done   2 out of   5 | elapsed:   13.5s remaining:   20.2s\n",
      "[Parallel(n_jobs=5)]: Done   5 out of   5 | elapsed:   14.4s finished\n"
     ]
    },
    {
     "name": "stdout",
     "output_type": "stream",
     "text": [
      "1.2178691939339437 1.2178691939339437\n",
      "['surprise', 'keras']\n",
      "Fitting 5 folds for each of 1 candidates, totalling 5 fits\n"
     ]
    },
    {
     "name": "stderr",
     "output_type": "stream",
     "text": [
      "[Parallel(n_jobs=5)]: Done   2 out of   5 | elapsed:   10.6s remaining:   15.9s\n",
      "[Parallel(n_jobs=5)]: Done   5 out of   5 | elapsed:   11.2s finished\n"
     ]
    },
    {
     "name": "stdout",
     "output_type": "stream",
     "text": [
      "1.2186493570379935 1.2178691939339437\n",
      "['surprise', 'FM']\n",
      "Fitting 5 folds for each of 1 candidates, totalling 5 fits\n"
     ]
    },
    {
     "name": "stderr",
     "output_type": "stream",
     "text": [
      "[Parallel(n_jobs=5)]: Done   2 out of   5 | elapsed:    8.2s remaining:   12.2s\n",
      "[Parallel(n_jobs=5)]: Done   5 out of   5 | elapsed:    8.7s finished\n"
     ]
    },
    {
     "name": "stdout",
     "output_type": "stream",
     "text": [
      "1.2186493570379935 1.2178691939339437\n",
      "['surprise', 'nn']\n",
      "Fitting 5 folds for each of 1 candidates, totalling 5 fits\n"
     ]
    },
    {
     "name": "stderr",
     "output_type": "stream",
     "text": [
      "[Parallel(n_jobs=5)]: Done   2 out of   5 | elapsed:   11.8s remaining:   17.7s\n",
      "[Parallel(n_jobs=5)]: Done   5 out of   5 | elapsed:   12.8s finished\n"
     ]
    },
    {
     "name": "stdout",
     "output_type": "stream",
     "text": [
      "1.2178691939339437 1.2178691939339437\n",
      "['keras', 'FM']\n",
      "Fitting 5 folds for each of 1 candidates, totalling 5 fits\n"
     ]
    },
    {
     "name": "stderr",
     "output_type": "stream",
     "text": [
      "[Parallel(n_jobs=5)]: Done   2 out of   5 | elapsed:    8.6s remaining:   12.9s\n",
      "[Parallel(n_jobs=5)]: Done   5 out of   5 | elapsed:    9.8s finished\n"
     ]
    },
    {
     "name": "stdout",
     "output_type": "stream",
     "text": [
      "1.2332072774229252 1.2178691939339437\n",
      "['keras', 'nn']\n",
      "Fitting 5 folds for each of 1 candidates, totalling 5 fits\n"
     ]
    },
    {
     "name": "stderr",
     "output_type": "stream",
     "text": [
      "[Parallel(n_jobs=5)]: Done   2 out of   5 | elapsed:   12.3s remaining:   18.5s\n",
      "[Parallel(n_jobs=5)]: Done   5 out of   5 | elapsed:   12.7s finished\n"
     ]
    },
    {
     "name": "stdout",
     "output_type": "stream",
     "text": [
      "1.2178691939339437 1.2178691939339437\n",
      "['FM', 'nn']\n",
      "Fitting 5 folds for each of 1 candidates, totalling 5 fits\n"
     ]
    },
    {
     "name": "stderr",
     "output_type": "stream",
     "text": [
      "[Parallel(n_jobs=5)]: Done   2 out of   5 | elapsed:    9.2s remaining:   13.8s\n",
      "[Parallel(n_jobs=5)]: Done   5 out of   5 | elapsed:    9.6s finished\n"
     ]
    },
    {
     "name": "stdout",
     "output_type": "stream",
     "text": [
      "1.2178691939339437 1.2178691939339437\n",
      "['XGBRegressor', 'XGBClassifier', 'surprise']\n",
      "Fitting 5 folds for each of 1 candidates, totalling 5 fits\n"
     ]
    },
    {
     "name": "stderr",
     "output_type": "stream",
     "text": [
      "[Parallel(n_jobs=5)]: Done   2 out of   5 | elapsed:   24.1s remaining:   36.1s\n",
      "[Parallel(n_jobs=5)]: Done   5 out of   5 | elapsed:   26.0s finished\n"
     ]
    },
    {
     "name": "stdout",
     "output_type": "stream",
     "text": [
      "1.2186493570379935 1.2178691939339437\n",
      "['XGBRegressor', 'XGBClassifier', 'keras']\n",
      "Fitting 5 folds for each of 1 candidates, totalling 5 fits\n"
     ]
    },
    {
     "name": "stderr",
     "output_type": "stream",
     "text": [
      "[Parallel(n_jobs=5)]: Done   2 out of   5 | elapsed:   20.8s remaining:   31.2s\n",
      "[Parallel(n_jobs=5)]: Done   5 out of   5 | elapsed:   22.5s finished\n"
     ]
    },
    {
     "name": "stdout",
     "output_type": "stream",
     "text": [
      "1.2235301803983059 1.2178691939339437\n",
      "['XGBRegressor', 'XGBClassifier', 'FM']\n",
      "Fitting 5 folds for each of 1 candidates, totalling 5 fits\n"
     ]
    },
    {
     "name": "stderr",
     "output_type": "stream",
     "text": [
      "[Parallel(n_jobs=5)]: Done   2 out of   5 | elapsed:   19.9s remaining:   29.8s\n",
      "[Parallel(n_jobs=5)]: Done   5 out of   5 | elapsed:   21.4s finished\n"
     ]
    },
    {
     "name": "stdout",
     "output_type": "stream",
     "text": [
      "1.2264433017424923 1.2178691939339437\n",
      "['XGBRegressor', 'XGBClassifier', 'nn']\n",
      "Fitting 5 folds for each of 1 candidates, totalling 5 fits\n"
     ]
    },
    {
     "name": "stderr",
     "output_type": "stream",
     "text": [
      "[Parallel(n_jobs=5)]: Done   2 out of   5 | elapsed:   23.4s remaining:   35.1s\n",
      "[Parallel(n_jobs=5)]: Done   5 out of   5 | elapsed:   24.5s finished\n"
     ]
    },
    {
     "name": "stdout",
     "output_type": "stream",
     "text": [
      "1.217861507597943 1.217861507597943\n",
      "['XGBRegressor', 'surprise', 'keras']\n",
      "Fitting 5 folds for each of 1 candidates, totalling 5 fits\n"
     ]
    },
    {
     "name": "stderr",
     "output_type": "stream",
     "text": [
      "[Parallel(n_jobs=5)]: Done   2 out of   5 | elapsed:   23.8s remaining:   35.8s\n",
      "[Parallel(n_jobs=5)]: Done   5 out of   5 | elapsed:   25.7s finished\n"
     ]
    },
    {
     "name": "stdout",
     "output_type": "stream",
     "text": [
      "1.2186493570379935 1.217861507597943\n",
      "['XGBRegressor', 'surprise', 'FM']\n",
      "Fitting 5 folds for each of 1 candidates, totalling 5 fits\n"
     ]
    },
    {
     "name": "stderr",
     "output_type": "stream",
     "text": [
      "[Parallel(n_jobs=5)]: Done   2 out of   5 | elapsed:   18.7s remaining:   28.0s\n",
      "[Parallel(n_jobs=5)]: Done   5 out of   5 | elapsed:   19.9s finished\n"
     ]
    },
    {
     "name": "stdout",
     "output_type": "stream",
     "text": [
      "1.2186493570379935 1.217861507597943\n",
      "['XGBRegressor', 'surprise', 'nn']\n",
      "Fitting 5 folds for each of 1 candidates, totalling 5 fits\n"
     ]
    },
    {
     "name": "stderr",
     "output_type": "stream",
     "text": [
      "[Parallel(n_jobs=5)]: Done   2 out of   5 | elapsed:   23.3s remaining:   35.0s\n",
      "[Parallel(n_jobs=5)]: Done   5 out of   5 | elapsed:   24.4s finished\n"
     ]
    },
    {
     "name": "stdout",
     "output_type": "stream",
     "text": [
      "1.2178691939339437 1.217861507597943\n",
      "['XGBRegressor', 'keras', 'FM']\n",
      "Fitting 5 folds for each of 1 candidates, totalling 5 fits\n"
     ]
    },
    {
     "name": "stderr",
     "output_type": "stream",
     "text": [
      "[Parallel(n_jobs=5)]: Done   2 out of   5 | elapsed:   19.9s remaining:   29.9s\n",
      "[Parallel(n_jobs=5)]: Done   5 out of   5 | elapsed:   20.4s finished\n"
     ]
    },
    {
     "name": "stdout",
     "output_type": "stream",
     "text": [
      "1.223672377614315 1.217861507597943\n",
      "['XGBRegressor', 'keras', 'nn']\n",
      "Fitting 5 folds for each of 1 candidates, totalling 5 fits\n"
     ]
    },
    {
     "name": "stderr",
     "output_type": "stream",
     "text": [
      "[Parallel(n_jobs=5)]: Done   2 out of   5 | elapsed:   24.0s remaining:   36.0s\n",
      "[Parallel(n_jobs=5)]: Done   5 out of   5 | elapsed:   24.4s finished\n"
     ]
    },
    {
     "name": "stdout",
     "output_type": "stream",
     "text": [
      "1.2178691939339437 1.217861507597943\n",
      "['XGBRegressor', 'FM', 'nn']\n",
      "Fitting 5 folds for each of 1 candidates, totalling 5 fits\n"
     ]
    },
    {
     "name": "stderr",
     "output_type": "stream",
     "text": [
      "[Parallel(n_jobs=5)]: Done   2 out of   5 | elapsed:   20.4s remaining:   30.5s\n",
      "[Parallel(n_jobs=5)]: Done   5 out of   5 | elapsed:   22.1s finished\n"
     ]
    },
    {
     "name": "stdout",
     "output_type": "stream",
     "text": [
      "1.2178691939339437 1.217861507597943\n",
      "['XGBClassifier', 'surprise', 'keras']\n",
      "Fitting 5 folds for each of 1 candidates, totalling 5 fits\n"
     ]
    },
    {
     "name": "stderr",
     "output_type": "stream",
     "text": [
      "[Parallel(n_jobs=5)]: Done   2 out of   5 | elapsed:   19.8s remaining:   29.7s\n",
      "[Parallel(n_jobs=5)]: Done   5 out of   5 | elapsed:   21.8s finished\n"
     ]
    },
    {
     "name": "stdout",
     "output_type": "stream",
     "text": [
      "1.2186493570379935 1.217861507597943\n",
      "['XGBClassifier', 'surprise', 'FM']\n",
      "Fitting 5 folds for each of 1 candidates, totalling 5 fits\n"
     ]
    },
    {
     "name": "stderr",
     "output_type": "stream",
     "text": [
      "[Parallel(n_jobs=5)]: Done   2 out of   5 | elapsed:   18.9s remaining:   28.4s\n",
      "[Parallel(n_jobs=5)]: Done   5 out of   5 | elapsed:   23.8s finished\n"
     ]
    },
    {
     "name": "stdout",
     "output_type": "stream",
     "text": [
      "1.2186493570379935 1.217861507597943\n",
      "['XGBClassifier', 'surprise', 'nn']\n",
      "Fitting 5 folds for each of 1 candidates, totalling 5 fits\n"
     ]
    },
    {
     "name": "stderr",
     "output_type": "stream",
     "text": [
      "[Parallel(n_jobs=5)]: Done   2 out of   5 | elapsed:   21.4s remaining:   32.1s\n",
      "[Parallel(n_jobs=5)]: Done   5 out of   5 | elapsed:   22.6s finished\n"
     ]
    },
    {
     "name": "stdout",
     "output_type": "stream",
     "text": [
      "1.2178691939339437 1.217861507597943\n",
      "['XGBClassifier', 'keras', 'FM']\n",
      "Fitting 5 folds for each of 1 candidates, totalling 5 fits\n"
     ]
    },
    {
     "name": "stderr",
     "output_type": "stream",
     "text": [
      "[Parallel(n_jobs=5)]: Done   2 out of   5 | elapsed:   23.9s remaining:   35.9s\n",
      "[Parallel(n_jobs=5)]: Done   5 out of   5 | elapsed:   25.7s finished\n"
     ]
    },
    {
     "name": "stdout",
     "output_type": "stream",
     "text": [
      "1.2332072774229252 1.217861507597943\n",
      "['XGBClassifier', 'keras', 'nn']\n",
      "Fitting 5 folds for each of 1 candidates, totalling 5 fits\n"
     ]
    },
    {
     "name": "stderr",
     "output_type": "stream",
     "text": [
      "[Parallel(n_jobs=5)]: Done   2 out of   5 | elapsed:   22.3s remaining:   33.5s\n",
      "[Parallel(n_jobs=5)]: Done   5 out of   5 | elapsed:   23.6s finished\n"
     ]
    },
    {
     "name": "stdout",
     "output_type": "stream",
     "text": [
      "1.2178691939339437 1.217861507597943\n",
      "['XGBClassifier', 'FM', 'nn']\n",
      "Fitting 5 folds for each of 1 candidates, totalling 5 fits\n"
     ]
    },
    {
     "name": "stderr",
     "output_type": "stream",
     "text": [
      "[Parallel(n_jobs=5)]: Done   2 out of   5 | elapsed:   20.2s remaining:   30.2s\n",
      "[Parallel(n_jobs=5)]: Done   5 out of   5 | elapsed:   22.9s finished\n"
     ]
    },
    {
     "name": "stdout",
     "output_type": "stream",
     "text": [
      "1.2178691939339437 1.217861507597943\n",
      "['surprise', 'keras', 'FM']\n",
      "Fitting 5 folds for each of 1 candidates, totalling 5 fits\n"
     ]
    },
    {
     "name": "stderr",
     "output_type": "stream",
     "text": [
      "[Parallel(n_jobs=5)]: Done   2 out of   5 | elapsed:   15.0s remaining:   22.6s\n",
      "[Parallel(n_jobs=5)]: Done   5 out of   5 | elapsed:   16.3s finished\n"
     ]
    },
    {
     "name": "stdout",
     "output_type": "stream",
     "text": [
      "1.2186493570379935 1.217861507597943\n",
      "['surprise', 'keras', 'nn']\n",
      "Fitting 5 folds for each of 1 candidates, totalling 5 fits\n"
     ]
    },
    {
     "name": "stderr",
     "output_type": "stream",
     "text": [
      "[Parallel(n_jobs=5)]: Done   2 out of   5 | elapsed:   19.7s remaining:   29.5s\n",
      "[Parallel(n_jobs=5)]: Done   5 out of   5 | elapsed:   20.4s finished\n"
     ]
    },
    {
     "name": "stdout",
     "output_type": "stream",
     "text": [
      "1.2178691939339437 1.217861507597943\n",
      "['surprise', 'FM', 'nn']\n",
      "Fitting 5 folds for each of 1 candidates, totalling 5 fits\n"
     ]
    },
    {
     "name": "stderr",
     "output_type": "stream",
     "text": [
      "[Parallel(n_jobs=5)]: Done   2 out of   5 | elapsed:   16.8s remaining:   25.1s\n",
      "[Parallel(n_jobs=5)]: Done   5 out of   5 | elapsed:   18.0s finished\n"
     ]
    },
    {
     "name": "stdout",
     "output_type": "stream",
     "text": [
      "1.2178691939339437 1.217861507597943\n",
      "['keras', 'FM', 'nn']\n",
      "Fitting 5 folds for each of 1 candidates, totalling 5 fits\n"
     ]
    },
    {
     "name": "stderr",
     "output_type": "stream",
     "text": [
      "[Parallel(n_jobs=5)]: Done   2 out of   5 | elapsed:   17.0s remaining:   25.5s\n",
      "[Parallel(n_jobs=5)]: Done   5 out of   5 | elapsed:   17.8s finished\n"
     ]
    },
    {
     "name": "stdout",
     "output_type": "stream",
     "text": [
      "1.2178691939339437 1.217861507597943\n",
      "['XGBRegressor', 'XGBClassifier', 'surprise', 'keras']\n",
      "Fitting 5 folds for each of 1 candidates, totalling 5 fits\n"
     ]
    },
    {
     "name": "stderr",
     "output_type": "stream",
     "text": [
      "[Parallel(n_jobs=5)]: Done   2 out of   5 | elapsed:   28.5s remaining:   42.7s\n",
      "[Parallel(n_jobs=5)]: Done   5 out of   5 | elapsed:   29.6s finished\n"
     ]
    },
    {
     "name": "stdout",
     "output_type": "stream",
     "text": [
      "1.2184264532939793 1.217861507597943\n",
      "['XGBRegressor', 'XGBClassifier', 'surprise', 'FM']\n",
      "Fitting 5 folds for each of 1 candidates, totalling 5 fits\n"
     ]
    },
    {
     "name": "stderr",
     "output_type": "stream",
     "text": [
      "[Parallel(n_jobs=5)]: Done   2 out of   5 | elapsed:   27.6s remaining:   41.5s\n",
      "[Parallel(n_jobs=5)]: Done   5 out of   5 | elapsed:   28.5s finished\n"
     ]
    },
    {
     "name": "stdout",
     "output_type": "stream",
     "text": [
      "1.2186493570379935 1.217861507597943\n",
      "['XGBRegressor', 'XGBClassifier', 'surprise', 'nn']\n",
      "Fitting 5 folds for each of 1 candidates, totalling 5 fits\n"
     ]
    },
    {
     "name": "stderr",
     "output_type": "stream",
     "text": [
      "[Parallel(n_jobs=5)]: Done   2 out of   5 | elapsed:   29.3s remaining:   44.0s\n",
      "[Parallel(n_jobs=5)]: Done   5 out of   5 | elapsed:   30.3s finished\n"
     ]
    },
    {
     "name": "stdout",
     "output_type": "stream",
     "text": [
      "1.2173887979339129 1.2173887979339129\n",
      "['XGBRegressor', 'XGBClassifier', 'keras', 'FM']\n",
      "Fitting 5 folds for each of 1 candidates, totalling 5 fits\n"
     ]
    },
    {
     "name": "stderr",
     "output_type": "stream",
     "text": [
      "[Parallel(n_jobs=5)]: Done   2 out of   5 | elapsed:   27.6s remaining:   41.4s\n",
      "[Parallel(n_jobs=5)]: Done   5 out of   5 | elapsed:   27.9s finished\n"
     ]
    },
    {
     "name": "stdout",
     "output_type": "stream",
     "text": [
      "1.2157977263818112 1.2157977263818112\n",
      "['XGBRegressor', 'XGBClassifier', 'keras', 'nn']\n",
      "Fitting 5 folds for each of 1 candidates, totalling 5 fits\n"
     ]
    },
    {
     "name": "stderr",
     "output_type": "stream",
     "text": [
      "[Parallel(n_jobs=5)]: Done   2 out of   5 | elapsed:   27.0s remaining:   40.5s\n",
      "[Parallel(n_jobs=5)]: Done   5 out of   5 | elapsed:   29.1s finished\n"
     ]
    },
    {
     "name": "stdout",
     "output_type": "stream",
     "text": [
      "1.216750832045872 1.2157977263818112\n",
      "['XGBRegressor', 'XGBClassifier', 'FM', 'nn']\n",
      "Fitting 5 folds for each of 1 candidates, totalling 5 fits\n"
     ]
    },
    {
     "name": "stderr",
     "output_type": "stream",
     "text": [
      "[Parallel(n_jobs=5)]: Done   2 out of   5 | elapsed:   25.1s remaining:   37.6s\n",
      "[Parallel(n_jobs=5)]: Done   5 out of   5 | elapsed:   27.4s finished\n"
     ]
    },
    {
     "name": "stdout",
     "output_type": "stream",
     "text": [
      "1.2175079361419205 1.2157977263818112\n",
      "['XGBRegressor', 'surprise', 'keras', 'FM']\n",
      "Fitting 5 folds for each of 1 candidates, totalling 5 fits\n"
     ]
    },
    {
     "name": "stderr",
     "output_type": "stream",
     "text": [
      "[Parallel(n_jobs=5)]: Done   2 out of   5 | elapsed:   26.2s remaining:   39.3s\n",
      "[Parallel(n_jobs=5)]: Done   5 out of   5 | elapsed:   27.4s finished\n"
     ]
    },
    {
     "name": "stdout",
     "output_type": "stream",
     "text": [
      "1.2186493570379935 1.2157977263818112\n",
      "['XGBRegressor', 'surprise', 'keras', 'nn']\n",
      "Fitting 5 folds for each of 1 candidates, totalling 5 fits\n"
     ]
    },
    {
     "name": "stderr",
     "output_type": "stream",
     "text": [
      "[Parallel(n_jobs=5)]: Done   2 out of   5 | elapsed:   27.0s remaining:   40.5s\n",
      "[Parallel(n_jobs=5)]: Done   5 out of   5 | elapsed:   29.3s finished\n"
     ]
    },
    {
     "name": "stdout",
     "output_type": "stream",
     "text": [
      "1.2172427575499036 1.2157977263818112\n",
      "['XGBRegressor', 'surprise', 'FM', 'nn']\n",
      "Fitting 5 folds for each of 1 candidates, totalling 5 fits\n"
     ]
    },
    {
     "name": "stderr",
     "output_type": "stream",
     "text": [
      "[Parallel(n_jobs=5)]: Done   2 out of   5 | elapsed:   25.4s remaining:   38.1s\n",
      "[Parallel(n_jobs=5)]: Done   5 out of   5 | elapsed:   26.5s finished\n"
     ]
    },
    {
     "name": "stdout",
     "output_type": "stream",
     "text": [
      "1.2177731147339375 1.2157977263818112\n",
      "['XGBRegressor', 'keras', 'FM', 'nn']\n",
      "Fitting 5 folds for each of 1 candidates, totalling 5 fits\n"
     ]
    },
    {
     "name": "stderr",
     "output_type": "stream",
     "text": [
      "[Parallel(n_jobs=5)]: Done   2 out of   5 | elapsed:   25.8s remaining:   38.7s\n",
      "[Parallel(n_jobs=5)]: Done   5 out of   5 | elapsed:   27.4s finished\n"
     ]
    },
    {
     "name": "stdout",
     "output_type": "stream",
     "text": [
      "1.217750055725936 1.2157977263818112\n",
      "['XGBClassifier', 'surprise', 'keras', 'FM']\n",
      "Fitting 5 folds for each of 1 candidates, totalling 5 fits\n"
     ]
    },
    {
     "name": "stderr",
     "output_type": "stream",
     "text": [
      "[Parallel(n_jobs=5)]: Done   2 out of   5 | elapsed:   28.0s remaining:   42.0s\n",
      "[Parallel(n_jobs=5)]: Done   5 out of   5 | elapsed:   29.6s finished\n"
     ]
    },
    {
     "name": "stdout",
     "output_type": "stream",
     "text": [
      "1.2186493570379935 1.2157977263818112\n",
      "['XGBClassifier', 'surprise', 'keras', 'nn']\n",
      "Fitting 5 folds for each of 1 candidates, totalling 5 fits\n"
     ]
    },
    {
     "name": "stderr",
     "output_type": "stream",
     "text": [
      "[Parallel(n_jobs=5)]: Done   2 out of   5 | elapsed:   28.6s remaining:   42.9s\n",
      "[Parallel(n_jobs=5)]: Done   5 out of   5 | elapsed:   29.0s finished\n"
     ]
    },
    {
     "name": "stdout",
     "output_type": "stream",
     "text": [
      "1.2178691939339437 1.2157977263818112\n",
      "['XGBClassifier', 'surprise', 'FM', 'nn']\n",
      "Fitting 5 folds for each of 1 candidates, totalling 5 fits\n"
     ]
    },
    {
     "name": "stderr",
     "output_type": "stream",
     "text": [
      "[Parallel(n_jobs=5)]: Done   2 out of   5 | elapsed:   25.3s remaining:   38.0s\n",
      "[Parallel(n_jobs=5)]: Done   5 out of   5 | elapsed:   27.8s finished\n"
     ]
    },
    {
     "name": "stdout",
     "output_type": "stream",
     "text": [
      "1.2178691939339437 1.2157977263818112\n",
      "['XGBClassifier', 'keras', 'FM', 'nn']\n",
      "Fitting 5 folds for each of 1 candidates, totalling 5 fits\n"
     ]
    },
    {
     "name": "stderr",
     "output_type": "stream",
     "text": [
      "[Parallel(n_jobs=5)]: Done   2 out of   5 | elapsed:   27.9s remaining:   41.9s\n",
      "[Parallel(n_jobs=5)]: Done   5 out of   5 | elapsed:   29.4s finished\n"
     ]
    },
    {
     "name": "stdout",
     "output_type": "stream",
     "text": [
      "1.2178691939339437 1.2157977263818112\n",
      "['surprise', 'keras', 'FM', 'nn']\n",
      "Fitting 5 folds for each of 1 candidates, totalling 5 fits\n"
     ]
    },
    {
     "name": "stderr",
     "output_type": "stream",
     "text": [
      "[Parallel(n_jobs=5)]: Done   2 out of   5 | elapsed:   24.7s remaining:   37.1s\n",
      "[Parallel(n_jobs=5)]: Done   5 out of   5 | elapsed:   25.5s finished\n"
     ]
    },
    {
     "name": "stdout",
     "output_type": "stream",
     "text": [
      "1.2178691939339437 1.2157977263818112\n",
      "['XGBRegressor', 'XGBClassifier', 'surprise', 'keras', 'FM']\n",
      "Fitting 5 folds for each of 1 candidates, totalling 5 fits\n"
     ]
    },
    {
     "name": "stderr",
     "output_type": "stream",
     "text": [
      "[Parallel(n_jobs=5)]: Done   2 out of   5 | elapsed:   30.5s remaining:   45.7s\n",
      "[Parallel(n_jobs=5)]: Done   5 out of   5 | elapsed:   31.3s finished\n"
     ]
    },
    {
     "name": "stdout",
     "output_type": "stream",
     "text": [
      "1.2175271519819217 1.2157977263818112\n",
      "['XGBRegressor', 'XGBClassifier', 'surprise', 'keras', 'nn']\n",
      "Fitting 5 folds for each of 1 candidates, totalling 5 fits\n"
     ]
    },
    {
     "name": "stderr",
     "output_type": "stream",
     "text": [
      "[Parallel(n_jobs=5)]: Done   2 out of   5 | elapsed:   30.7s remaining:   46.1s\n",
      "[Parallel(n_jobs=5)]: Done   5 out of   5 | elapsed:   32.6s finished\n"
     ]
    },
    {
     "name": "stdout",
     "output_type": "stream",
     "text": [
      "1.2127731531656174 1.2127731531656174\n",
      "['XGBRegressor', 'XGBClassifier', 'surprise', 'FM', 'nn']\n",
      "Fitting 5 folds for each of 1 candidates, totalling 5 fits\n"
     ]
    },
    {
     "name": "stderr",
     "output_type": "stream",
     "text": [
      "[Parallel(n_jobs=5)]: Done   2 out of   5 | elapsed:   30.3s remaining:   45.5s\n",
      "[Parallel(n_jobs=5)]: Done   5 out of   5 | elapsed:   31.6s finished\n"
     ]
    },
    {
     "name": "stdout",
     "output_type": "stream",
     "text": [
      "1.2160513754698272 1.2127731531656174\n",
      "['XGBRegressor', 'XGBClassifier', 'keras', 'FM', 'nn']\n",
      "Fitting 5 folds for each of 1 candidates, totalling 5 fits\n"
     ]
    },
    {
     "name": "stderr",
     "output_type": "stream",
     "text": [
      "[Parallel(n_jobs=5)]: Done   2 out of   5 | elapsed:   30.6s remaining:   45.9s\n",
      "[Parallel(n_jobs=5)]: Done   5 out of   5 | elapsed:   31.5s finished\n"
     ]
    },
    {
     "name": "stdout",
     "output_type": "stream",
     "text": [
      "1.2135533162696674 1.2127731531656174\n",
      "['XGBRegressor', 'surprise', 'keras', 'FM', 'nn']\n",
      "Fitting 5 folds for each of 1 candidates, totalling 5 fits\n"
     ]
    },
    {
     "name": "stderr",
     "output_type": "stream",
     "text": [
      "[Parallel(n_jobs=5)]: Done   2 out of   5 | elapsed:   30.8s remaining:   46.2s\n",
      "[Parallel(n_jobs=5)]: Done   5 out of   5 | elapsed:   31.5s finished\n"
     ]
    },
    {
     "name": "stdout",
     "output_type": "stream",
     "text": [
      "1.216451064941853 1.2127731531656174\n",
      "['XGBClassifier', 'surprise', 'keras', 'FM', 'nn']\n",
      "Fitting 5 folds for each of 1 candidates, totalling 5 fits\n"
     ]
    },
    {
     "name": "stderr",
     "output_type": "stream",
     "text": [
      "[Parallel(n_jobs=5)]: Done   2 out of   5 | elapsed:   30.1s remaining:   45.1s\n",
      "[Parallel(n_jobs=5)]: Done   5 out of   5 | elapsed:   31.6s finished\n"
     ]
    },
    {
     "name": "stdout",
     "output_type": "stream",
     "text": [
      "1.2178691939339437 1.2127731531656174\n",
      "1.2127731531656174 ('XGBRegressor', 'XGBClassifier', 'surprise', 'keras', 'nn')\n"
     ]
    }
   ],
   "source": [
    "# feature selection\n",
    "best_score = 99\n",
    "best_com = \"\"\n",
    "\n",
    "for com in all_combin:\n",
    "    \n",
    "    stack_feature_list = [i for i in com]\n",
    "    print (stack_feature_list)\n",
    "\n",
    "    S = LinearSVR()\n",
    "    parameters = {'C':[1]}\n",
    "    \n",
    "    grid = grid_search.GridSearchCV(S,\n",
    "                            parameters,\n",
    "                            cv = 5,\n",
    "                            n_jobs = 5,\n",
    "                            scoring = make_scorer(my_mae, greater_is_better=False),\n",
    "                            verbose=True)\n",
    "\n",
    "    grid.fit(train_meta[stack_feature_list], train_meta['Book-Rating'])\n",
    "\n",
    "    if -grid.best_score_ < best_score:\n",
    "        best_score = -grid.best_score_\n",
    "        best_com = com\n",
    "    print (-grid.best_score_ , best_score)\n",
    "    \n",
    "print (best_score, best_com)"
   ]
  },
  {
   "cell_type": "code",
   "execution_count": 37,
   "metadata": {},
   "outputs": [
    {
     "name": "stdout",
     "output_type": "stream",
     "text": [
      "Fitting 5 folds for each of 4 candidates, totalling 20 fits\n"
     ]
    },
    {
     "name": "stderr",
     "output_type": "stream",
     "text": [
      "[Parallel(n_jobs=5)]: Done  20 out of  20 | elapsed:  2.1min finished\n"
     ]
    },
    {
     "name": "stdout",
     "output_type": "stream",
     "text": [
      "-1.2109169030214988\n",
      "{'C': 1}\n",
      "[mean: -1.21787, std: 0.00527, params: {'C': 0.01}, mean: -1.21787, std: 0.00527, params: {'C': 0.1}, mean: -1.21092, std: 0.00459, params: {'C': 1}, mean: -1.81736, std: 0.48884, params: {'C': 10}]\n"
     ]
    }
   ],
   "source": [
    "# hyperparameters grid search\n",
    "stack_feature_list = [i for i in best_com]\n",
    "S = LinearSVR()\n",
    "parameters = {'C':[0.01, 0.1, 1, 10]}\n",
    "grid = grid_search.GridSearchCV(S,\n",
    "                        parameters,\n",
    "                        cv = 5,\n",
    "                        n_jobs = 5,\n",
    "                        scoring = make_scorer(my_mae, greater_is_better=False),\n",
    "                        verbose=True)\n",
    "\n",
    "grid.fit(train_meta[stack_feature_list], train_meta['Book-Rating'])\n",
    "\n",
    "print(grid.best_score_)\n",
    "print(grid.best_params_)\n",
    "print(grid.grid_scores_)"
   ]
  },
  {
   "cell_type": "code",
   "execution_count": 47,
   "metadata": {},
   "outputs": [
    {
     "name": "stdout",
     "output_type": "stream",
     "text": [
      "['XGBRegressor', 'XGBClassifier', 'surprise', 'keras', 'FM', 'nn']\n"
     ]
    },
    {
     "data": {
      "text/plain": [
       "['stack.pkl']"
      ]
     },
     "execution_count": 47,
     "metadata": {},
     "output_type": "execute_result"
    }
   ],
   "source": [
    "# fit on all train data\n",
    "print (stack_feature_list)\n",
    "S = LinearSVR(**grid.best_params_)\n",
    "S.fit(train_meta[stack_feature_list], train_meta['Book-Rating'])\n",
    "\n",
    "from sklearn.externals import joblib\n",
    "joblib.dump(model, 'stack.pkl')"
   ]
  },
  {
   "cell_type": "code",
   "execution_count": 48,
   "metadata": {
    "collapsed": true
   },
   "outputs": [],
   "source": [
    "# output\n",
    "final_pred = S.predict(test_meta[stack_feature_list])\n",
    "with open('final.csv', 'w') as f:\n",
    "    for i in final_pred:\n",
    "        print (int(round(i)), file=f)"
   ]
  },
  {
   "cell_type": "code",
   "execution_count": 51,
   "metadata": {
    "collapsed": true
   },
   "outputs": [],
   "source": [
    "pred_collections = []\n",
    "pred_collections.append(final_pred)\n",
    "\n",
    "for _ in range(20):\n",
    "    S = LinearSVR(**grid.best_params_)\n",
    "    S.fit(train_meta[stack_feature_list], train_meta['Book-Rating'])\n",
    "    pred = S.predict(test_meta[stack_feature_list])\n",
    "    pred_collections.append(pred)\n",
    "\n",
    "pred = np.mean(pred_collections, 0)\n",
    "pred = np.round(pred).astype(int)\n",
    "with open('finals.csv', 'w') as f:\n",
    "    for i in pred:\n",
    "        print (i, file=f)"
   ]
  }
 ],
 "metadata": {
  "kernelspec": {
   "display_name": "Python 3",
   "language": "python",
   "name": "python3"
  },
  "language_info": {
   "codemirror_mode": {
    "name": "ipython",
    "version": 3
   },
   "file_extension": ".py",
   "mimetype": "text/x-python",
   "name": "python",
   "nbconvert_exporter": "python",
   "pygments_lexer": "ipython3",
   "version": "3.5.2"
  }
 },
 "nbformat": 4,
 "nbformat_minor": 2
}
