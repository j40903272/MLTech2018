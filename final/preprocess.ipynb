{
 "cells": [
  {
   "cell_type": "code",
   "execution_count": 137,
   "metadata": {
    "collapsed": true
   },
   "outputs": [],
   "source": [
    "import pandas as pd\n",
    "import matplotlib.pyplot as plt\n",
    "%matplotlib inline"
   ]
  },
  {
   "cell_type": "code",
   "execution_count": 2,
   "metadata": {},
   "outputs": [
    {
     "name": "stdout",
     "output_type": "stream",
     "text": [
      "traindf 260202\n",
      "train 260202\n"
     ]
    }
   ],
   "source": [
    "traindf, testdf = pd.read_csv('./data/book_ratings_train.csv'), pd.read_csv('./data/book_ratings_test.csv')\n",
    "print ('traindf', len(traindf))\n",
    "print ('testdf', len(testdf))"
   ]
  },
  {
   "cell_type": "code",
   "execution_count": 3,
   "metadata": {
    "collapsed": true
   },
   "outputs": [],
   "source": [
    "userdf = pd.read_csv('./data/users.csv')\n",
    "bookdf = pd.read_csv('./data/books.csv')\n",
    "ir_df = pd.read_csv('./data/implicit_ratings.csv')"
   ]
  },
  {
   "cell_type": "code",
   "execution_count": 247,
   "metadata": {},
   "outputs": [
    {
     "name": "stdout",
     "output_type": "stream",
     "text": [
      "260202 173469\n"
     ]
    },
    {
     "data": {
      "text/html": [
       "<div>\n",
       "<style scoped>\n",
       "    .dataframe tbody tr th:only-of-type {\n",
       "        vertical-align: middle;\n",
       "    }\n",
       "\n",
       "    .dataframe tbody tr th {\n",
       "        vertical-align: top;\n",
       "    }\n",
       "\n",
       "    .dataframe thead th {\n",
       "        text-align: right;\n",
       "    }\n",
       "</style>\n",
       "<table border=\"1\" class=\"dataframe\">\n",
       "  <thead>\n",
       "    <tr style=\"text-align: right;\">\n",
       "      <th></th>\n",
       "      <th>Book-Rating</th>\n",
       "      <th>ISBN</th>\n",
       "      <th>User-ID</th>\n",
       "    </tr>\n",
       "  </thead>\n",
       "  <tbody>\n",
       "    <tr>\n",
       "      <th>0</th>\n",
       "      <td>8.0</td>\n",
       "      <td>1550372289</td>\n",
       "      <td>153d612c88</td>\n",
       "    </tr>\n",
       "    <tr>\n",
       "      <th>1</th>\n",
       "      <td>10.0</td>\n",
       "      <td>030796017X</td>\n",
       "      <td>f73f18a13a</td>\n",
       "    </tr>\n",
       "    <tr>\n",
       "      <th>2</th>\n",
       "      <td>8.0</td>\n",
       "      <td>014028009</td>\n",
       "      <td>02e87fe603</td>\n",
       "    </tr>\n",
       "    <tr>\n",
       "      <th>3</th>\n",
       "      <td>10.0</td>\n",
       "      <td>0345413350</td>\n",
       "      <td>be36e5b8cb</td>\n",
       "    </tr>\n",
       "    <tr>\n",
       "      <th>4</th>\n",
       "      <td>9.0</td>\n",
       "      <td>0609600788</td>\n",
       "      <td>98ec1c54b5</td>\n",
       "    </tr>\n",
       "  </tbody>\n",
       "</table>\n",
       "</div>"
      ],
      "text/plain": [
       "   Book-Rating        ISBN     User-ID\n",
       "0          8.0  1550372289  153d612c88\n",
       "1         10.0  030796017X  f73f18a13a\n",
       "2          8.0   014028009  02e87fe603\n",
       "3         10.0  0345413350  be36e5b8cb\n",
       "4          9.0  0609600788  98ec1c54b5"
      ]
     },
     "execution_count": 247,
     "metadata": {},
     "output_type": "execute_result"
    }
   ],
   "source": [
    "ttt = pd.concat([traindf.copy(), testdf.copy()])\n",
    "ttt.head()"
   ]
  },
  {
   "cell_type": "code",
   "execution_count": 6,
   "metadata": {
    "collapsed": true
   },
   "outputs": [],
   "source": [
    "user_dic = {}\n",
    "for row in userdf.values:\n",
    "    userid, loc, age = row\n",
    "    user_dic[userid] = (loc, age)"
   ]
  },
  {
   "cell_type": "code",
   "execution_count": 248,
   "metadata": {
    "collapsed": true
   },
   "outputs": [],
   "source": [
    "ages = []\n",
    "locs = []\n",
    "for userid in ttt['User-ID']:\n",
    "    loc, age = user_dic[userid]\n",
    "    if age > 100 or age <= 0:\n",
    "        age = float('nan')\n",
    "    ages.append(age)\n",
    "    locs.append(loc)\n",
    "\n",
    "ttt['age'] = ages#preprocess(np.array(ages))\n",
    "ttt['loc'] = locs"
   ]
  },
  {
   "cell_type": "code",
   "execution_count": 176,
   "metadata": {
    "scrolled": true
   },
   "outputs": [
    {
     "data": {
      "text/html": [
       "<div>\n",
       "<style scoped>\n",
       "    .dataframe tbody tr th:only-of-type {\n",
       "        vertical-align: middle;\n",
       "    }\n",
       "\n",
       "    .dataframe tbody tr th {\n",
       "        vertical-align: top;\n",
       "    }\n",
       "\n",
       "    .dataframe thead th {\n",
       "        text-align: right;\n",
       "    }\n",
       "</style>\n",
       "<table border=\"1\" class=\"dataframe\">\n",
       "  <thead>\n",
       "    <tr style=\"text-align: right;\">\n",
       "      <th></th>\n",
       "      <th>Book-Rating</th>\n",
       "      <th>ISBN</th>\n",
       "      <th>User-ID</th>\n",
       "      <th>age</th>\n",
       "      <th>loc</th>\n",
       "    </tr>\n",
       "  </thead>\n",
       "  <tbody>\n",
       "    <tr>\n",
       "      <th>0</th>\n",
       "      <td>8.0</td>\n",
       "      <td>1550372289</td>\n",
       "      <td>153d612c88</td>\n",
       "      <td>47.0</td>\n",
       "      <td>toronto, ontario, canada</td>\n",
       "    </tr>\n",
       "    <tr>\n",
       "      <th>1</th>\n",
       "      <td>10.0</td>\n",
       "      <td>030796017X</td>\n",
       "      <td>f73f18a13a</td>\n",
       "      <td>NaN</td>\n",
       "      <td>lake wales, florida, usa</td>\n",
       "    </tr>\n",
       "    <tr>\n",
       "      <th>2</th>\n",
       "      <td>8.0</td>\n",
       "      <td>014028009</td>\n",
       "      <td>02e87fe603</td>\n",
       "      <td>29.0</td>\n",
       "      <td>delft, zuid holland, netherlands</td>\n",
       "    </tr>\n",
       "    <tr>\n",
       "      <th>3</th>\n",
       "      <td>10.0</td>\n",
       "      <td>0345413350</td>\n",
       "      <td>be36e5b8cb</td>\n",
       "      <td>NaN</td>\n",
       "      <td>rochester, new york, usa</td>\n",
       "    </tr>\n",
       "    <tr>\n",
       "      <th>4</th>\n",
       "      <td>9.0</td>\n",
       "      <td>0609600788</td>\n",
       "      <td>98ec1c54b5</td>\n",
       "      <td>45.0</td>\n",
       "      <td>hummelstown, pennsylvania, usa</td>\n",
       "    </tr>\n",
       "  </tbody>\n",
       "</table>\n",
       "</div>"
      ],
      "text/plain": [
       "   Book-Rating        ISBN     User-ID   age                               loc\n",
       "0          8.0  1550372289  153d612c88  47.0          toronto, ontario, canada\n",
       "1         10.0  030796017X  f73f18a13a   NaN          lake wales, florida, usa\n",
       "2          8.0   014028009  02e87fe603  29.0  delft, zuid holland, netherlands\n",
       "3         10.0  0345413350  be36e5b8cb   NaN          rochester, new york, usa\n",
       "4          9.0  0609600788  98ec1c54b5  45.0    hummelstown, pennsylvania, usa"
      ]
     },
     "execution_count": 176,
     "metadata": {},
     "output_type": "execute_result"
    }
   ],
   "source": [
    "ttt.head()"
   ]
  },
  {
   "cell_type": "code",
   "execution_count": 9,
   "metadata": {
    "collapsed": true
   },
   "outputs": [],
   "source": [
    "book_dic = {}\n",
    "for row in bookdf[['ISBN', 'Book-Author', 'Year-Of-Publication', 'Publisher']].values:\n",
    "    isbn, auth, year, pub = row\n",
    "    book_dic[isbn] = (auth, year, pub)"
   ]
  },
  {
   "cell_type": "code",
   "execution_count": 249,
   "metadata": {
    "collapsed": true
   },
   "outputs": [],
   "source": [
    "auths = []\n",
    "years = []\n",
    "pubs = []\n",
    "for i in ttt['ISBN']:\n",
    "    if i in book_dic:\n",
    "        auth, year, pub = book_dic[i]\n",
    "        auths.append(auth)\n",
    "        years.append(str(year))\n",
    "        pubs.append(pub)\n",
    "    else:\n",
    "        auths.append(float('nan'))\n",
    "        years.append(float('nan'))\n",
    "        pubs.append(float('nan'))\n",
    "\n",
    "ttt['author'] = auths\n",
    "ttt['years'] = years#preprocess(np.array(years))\n",
    "ttt['publisher'] = pubs"
   ]
  },
  {
   "cell_type": "code",
   "execution_count": 250,
   "metadata": {},
   "outputs": [
    {
     "name": "stdout",
     "output_type": "stream",
     "text": [
      "433671\n",
      "Book-Rating     True\n",
      "ISBN           False\n",
      "User-ID        False\n",
      "age             True\n",
      "loc            False\n",
      "author          True\n",
      "years           True\n",
      "publisher       True\n",
      "dtype: bool \n",
      " Book-Rating    40.000138\n",
      "ISBN            0.000000\n",
      "User-ID         0.000000\n",
      "age            29.888787\n",
      "loc             0.000000\n",
      "author         11.487971\n",
      "years          11.487741\n",
      "publisher      11.488202\n",
      "dtype: float64\n"
     ]
    },
    {
     "data": {
      "text/html": [
       "<div>\n",
       "<style scoped>\n",
       "    .dataframe tbody tr th:only-of-type {\n",
       "        vertical-align: middle;\n",
       "    }\n",
       "\n",
       "    .dataframe tbody tr th {\n",
       "        vertical-align: top;\n",
       "    }\n",
       "\n",
       "    .dataframe thead th {\n",
       "        text-align: right;\n",
       "    }\n",
       "</style>\n",
       "<table border=\"1\" class=\"dataframe\">\n",
       "  <thead>\n",
       "    <tr style=\"text-align: right;\">\n",
       "      <th></th>\n",
       "      <th>Book-Rating</th>\n",
       "      <th>ISBN</th>\n",
       "      <th>User-ID</th>\n",
       "      <th>age</th>\n",
       "      <th>loc</th>\n",
       "      <th>author</th>\n",
       "      <th>years</th>\n",
       "      <th>publisher</th>\n",
       "    </tr>\n",
       "  </thead>\n",
       "  <tbody>\n",
       "    <tr>\n",
       "      <th>0</th>\n",
       "      <td>8.0</td>\n",
       "      <td>1550372289</td>\n",
       "      <td>153d612c88</td>\n",
       "      <td>47.0</td>\n",
       "      <td>toronto, ontario, canada</td>\n",
       "      <td>Michael Kusugak</td>\n",
       "      <td>1992</td>\n",
       "      <td>Annick Press</td>\n",
       "    </tr>\n",
       "    <tr>\n",
       "      <th>1</th>\n",
       "      <td>10.0</td>\n",
       "      <td>030796017X</td>\n",
       "      <td>f73f18a13a</td>\n",
       "      <td>NaN</td>\n",
       "      <td>lake wales, florida, usa</td>\n",
       "      <td>MERCER MAYER</td>\n",
       "      <td>2001</td>\n",
       "      <td>Golden Books</td>\n",
       "    </tr>\n",
       "    <tr>\n",
       "      <th>2</th>\n",
       "      <td>8.0</td>\n",
       "      <td>014028009</td>\n",
       "      <td>02e87fe603</td>\n",
       "      <td>29.0</td>\n",
       "      <td>delft, zuid holland, netherlands</td>\n",
       "      <td>NaN</td>\n",
       "      <td>NaN</td>\n",
       "      <td>NaN</td>\n",
       "    </tr>\n",
       "    <tr>\n",
       "      <th>3</th>\n",
       "      <td>10.0</td>\n",
       "      <td>0345413350</td>\n",
       "      <td>be36e5b8cb</td>\n",
       "      <td>NaN</td>\n",
       "      <td>rochester, new york, usa</td>\n",
       "      <td>PHILIP PULLMAN</td>\n",
       "      <td>1997</td>\n",
       "      <td>Del Rey</td>\n",
       "    </tr>\n",
       "    <tr>\n",
       "      <th>4</th>\n",
       "      <td>9.0</td>\n",
       "      <td>0609600788</td>\n",
       "      <td>98ec1c54b5</td>\n",
       "      <td>45.0</td>\n",
       "      <td>hummelstown, pennsylvania, usa</td>\n",
       "      <td>DEEPAK CHOPRA</td>\n",
       "      <td>2000</td>\n",
       "      <td>Harmony</td>\n",
       "    </tr>\n",
       "  </tbody>\n",
       "</table>\n",
       "</div>"
      ],
      "text/plain": [
       "   Book-Rating        ISBN     User-ID   age  \\\n",
       "0          8.0  1550372289  153d612c88  47.0   \n",
       "1         10.0  030796017X  f73f18a13a   NaN   \n",
       "2          8.0   014028009  02e87fe603  29.0   \n",
       "3         10.0  0345413350  be36e5b8cb   NaN   \n",
       "4          9.0  0609600788  98ec1c54b5  45.0   \n",
       "\n",
       "                                loc           author years     publisher  \n",
       "0          toronto, ontario, canada  Michael Kusugak  1992  Annick Press  \n",
       "1          lake wales, florida, usa     MERCER MAYER  2001  Golden Books  \n",
       "2  delft, zuid holland, netherlands              NaN   NaN           NaN  \n",
       "3          rochester, new york, usa   PHILIP PULLMAN  1997       Del Rey  \n",
       "4    hummelstown, pennsylvania, usa    DEEPAK CHOPRA  2000       Harmony  "
      ]
     },
     "execution_count": 250,
     "metadata": {},
     "output_type": "execute_result"
    }
   ],
   "source": [
    "print (len(ttt))\n",
    "print (ttt.isnull().any(), '\\n', ttt.isnull().sum()/ttt.isnull().count()*100)\n",
    "ttt.head()"
   ]
  },
  {
   "cell_type": "code",
   "execution_count": 219,
   "metadata": {
    "scrolled": true
   },
   "outputs": [
    {
     "name": "stdout",
     "output_type": "stream",
     "text": [
      "<class 'pandas.core.frame.DataFrame'>\n",
      "Int64Index: 433671 entries, 0 to 173468\n",
      "Data columns (total 8 columns):\n",
      "Book-Rating    433671 non-null float64\n",
      "ISBN           433671 non-null object\n",
      "User-ID        433671 non-null object\n",
      "age            433671 non-null float64\n",
      "loc            433671 non-null object\n",
      "author         433671 non-null object\n",
      "years          433671 non-null object\n",
      "publisher      433671 non-null object\n",
      "dtypes: float64(2), object(6)\n",
      "memory usage: 29.8+ MB\n"
     ]
    }
   ],
   "source": [
    "ttt.info()"
   ]
  },
  {
   "cell_type": "code",
   "execution_count": null,
   "metadata": {
    "collapsed": true
   },
   "outputs": [],
   "source": [
    "ttt.to_csv('merge_.csv', index=False)"
   ]
  },
  {
   "cell_type": "code",
   "execution_count": 220,
   "metadata": {},
   "outputs": [
    {
     "data": {
      "text/html": [
       "<div>\n",
       "<style scoped>\n",
       "    .dataframe tbody tr th:only-of-type {\n",
       "        vertical-align: middle;\n",
       "    }\n",
       "\n",
       "    .dataframe tbody tr th {\n",
       "        vertical-align: top;\n",
       "    }\n",
       "\n",
       "    .dataframe thead th {\n",
       "        text-align: right;\n",
       "    }\n",
       "</style>\n",
       "<table border=\"1\" class=\"dataframe\">\n",
       "  <thead>\n",
       "    <tr style=\"text-align: right;\">\n",
       "      <th></th>\n",
       "      <th>Book-Rating</th>\n",
       "      <th>ISBN</th>\n",
       "      <th>User-ID</th>\n",
       "      <th>age</th>\n",
       "      <th>loc</th>\n",
       "      <th>author</th>\n",
       "      <th>years</th>\n",
       "      <th>publisher</th>\n",
       "    </tr>\n",
       "  </thead>\n",
       "  <tbody>\n",
       "    <tr>\n",
       "      <th>0</th>\n",
       "      <td>8.0</td>\n",
       "      <td>133745</td>\n",
       "      <td>6329</td>\n",
       "      <td>47.0</td>\n",
       "      <td>18959</td>\n",
       "      <td>41855</td>\n",
       "      <td>81</td>\n",
       "      <td>560</td>\n",
       "    </tr>\n",
       "    <tr>\n",
       "      <th>1</th>\n",
       "      <td>10.0</td>\n",
       "      <td>21147</td>\n",
       "      <td>75160</td>\n",
       "      <td>0.0</td>\n",
       "      <td>9894</td>\n",
       "      <td>37869</td>\n",
       "      <td>90</td>\n",
       "      <td>4132</td>\n",
       "    </tr>\n",
       "    <tr>\n",
       "      <th>2</th>\n",
       "      <td>8.0</td>\n",
       "      <td>13559</td>\n",
       "      <td>886</td>\n",
       "      <td>29.0</td>\n",
       "      <td>4962</td>\n",
       "      <td>62104</td>\n",
       "      <td>105</td>\n",
       "      <td>11567</td>\n",
       "    </tr>\n",
       "    <tr>\n",
       "      <th>3</th>\n",
       "      <td>10.0</td>\n",
       "      <td>31266</td>\n",
       "      <td>57887</td>\n",
       "      <td>0.0</td>\n",
       "      <td>15860</td>\n",
       "      <td>45272</td>\n",
       "      <td>86</td>\n",
       "      <td>2678</td>\n",
       "    </tr>\n",
       "    <tr>\n",
       "      <th>4</th>\n",
       "      <td>9.0</td>\n",
       "      <td>80349</td>\n",
       "      <td>46556</td>\n",
       "      <td>45.0</td>\n",
       "      <td>8588</td>\n",
       "      <td>11258</td>\n",
       "      <td>89</td>\n",
       "      <td>4553</td>\n",
       "    </tr>\n",
       "  </tbody>\n",
       "</table>\n",
       "</div>"
      ],
      "text/plain": [
       "   Book-Rating    ISBN  User-ID   age    loc  author  years  publisher\n",
       "0          8.0  133745     6329  47.0  18959   41855     81        560\n",
       "1         10.0   21147    75160   0.0   9894   37869     90       4132\n",
       "2          8.0   13559      886  29.0   4962   62104    105      11567\n",
       "3         10.0   31266    57887   0.0  15860   45272     86       2678\n",
       "4          9.0   80349    46556  45.0   8588   11258     89       4553"
      ]
     },
     "execution_count": 220,
     "metadata": {},
     "output_type": "execute_result"
    }
   ],
   "source": [
    "for col in ttt.select_dtypes(include=['object']).columns:\n",
    "    ttt[col] = ttt[col].astype('category')\n",
    "    \n",
    "# Encoding categorical features\n",
    "for col in ttt.select_dtypes(include=['category']).columns:\n",
    "    ttt[col] = ttt[col].cat.codes\n",
    "\n",
    "ttt.head()"
   ]
  },
  {
   "cell_type": "code",
   "execution_count": 235,
   "metadata": {},
   "outputs": [
    {
     "data": {
      "image/png": "[encoded data removed]",
      "text/plain": [
       "<Figure size 504x360 with 2 Axes>"
      ]
     },
     "metadata": {},
     "output_type": "display_data"
    }
   ],
   "source": [
    "import seaborn as sns\n",
    "plt.figure(figsize=[7,5])\n",
    "sns.heatmap(ttt.corr())\n",
    "plt.show()"
   ]
  }
 ],
 "metadata": {
  "kernelspec": {
   "display_name": "Python 3",
   "language": "python",
   "name": "python3"
  },
  "language_info": {
   "codemirror_mode": {
    "name": "ipython",
    "version": 3
   },
   "file_extension": ".py",
   "mimetype": "text/x-python",
   "name": "python",
   "nbconvert_exporter": "python",
   "pygments_lexer": "ipython3",
   "version": "3.5.2"
  }
 },
 "nbformat": 4,
 "nbformat_minor": 2
}
