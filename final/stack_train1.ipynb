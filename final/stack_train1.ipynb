{
 "cells": [
  {
   "cell_type": "code",
   "execution_count": 1,
   "metadata": {},
   "outputs": [
    {
     "name": "stderr",
     "output_type": "stream",
     "text": [
      "/home/dada/.local/lib/python3.5/site-packages/sklearn/cross_validation.py:41: DeprecationWarning: This module was deprecated in version 0.18 in favor of the model_selection module into which all the refactored classes and functions are moved. Also note that the interface of the new CV iterators are different from that of this module. This module will be removed in 0.20.\n",
      "  \"This module will be removed in 0.20.\", DeprecationWarning)\n",
      "/home/dada/.local/lib/python3.5/site-packages/sklearn/grid_search.py:42: DeprecationWarning: This module was deprecated in version 0.18 in favor of the model_selection module into which all the refactored classes and functions are moved. This module will be removed in 0.20.\n",
      "  DeprecationWarning)\n"
     ]
    }
   ],
   "source": [
    "from sklearn.metrics import mean_absolute_error as MAE\n",
    "from sklearn import cross_validation, grid_search, metrics, ensemble\n",
    "\n",
    "import matplotlib.pyplot as plt\n",
    "%matplotlib inline\n",
    "\n",
    "import warnings\n",
    "warnings.filterwarnings('ignore')\n",
    "\n",
    "import numpy as np\n",
    "\n",
    "import os\n",
    "if not os.path.isdir('stack'):\n",
    "    os.mkdir('stack')"
   ]
  },
  {
   "cell_type": "code",
   "execution_count": 2,
   "metadata": {},
   "outputs": [
    {
     "data": {
      "text/html": [
       "<div>\n",
       "<style scoped>\n",
       "    .dataframe tbody tr th:only-of-type {\n",
       "        vertical-align: middle;\n",
       "    }\n",
       "\n",
       "    .dataframe tbody tr th {\n",
       "        vertical-align: top;\n",
       "    }\n",
       "\n",
       "    .dataframe thead th {\n",
       "        text-align: right;\n",
       "    }\n",
       "</style>\n",
       "<table border=\"1\" class=\"dataframe\">\n",
       "  <thead>\n",
       "    <tr style=\"text-align: right;\">\n",
       "      <th></th>\n",
       "      <th>Book-Rating</th>\n",
       "      <th>ISBN</th>\n",
       "      <th>User-ID</th>\n",
       "      <th>age</th>\n",
       "      <th>loc</th>\n",
       "      <th>author</th>\n",
       "      <th>years</th>\n",
       "      <th>publisher</th>\n",
       "    </tr>\n",
       "  </thead>\n",
       "  <tbody>\n",
       "    <tr>\n",
       "      <th>0</th>\n",
       "      <td>8.0</td>\n",
       "      <td>1550372289</td>\n",
       "      <td>153d612c88</td>\n",
       "      <td>47.0</td>\n",
       "      <td>toronto, ontario, canada</td>\n",
       "      <td>Michael Kusugak</td>\n",
       "      <td>1992.0</td>\n",
       "      <td>Annick Press</td>\n",
       "    </tr>\n",
       "    <tr>\n",
       "      <th>1</th>\n",
       "      <td>10.0</td>\n",
       "      <td>030796017X</td>\n",
       "      <td>f73f18a13a</td>\n",
       "      <td>NaN</td>\n",
       "      <td>lake wales, florida, usa</td>\n",
       "      <td>MERCER MAYER</td>\n",
       "      <td>2001.0</td>\n",
       "      <td>Golden Books</td>\n",
       "    </tr>\n",
       "    <tr>\n",
       "      <th>2</th>\n",
       "      <td>8.0</td>\n",
       "      <td>014028009</td>\n",
       "      <td>02e87fe603</td>\n",
       "      <td>29.0</td>\n",
       "      <td>delft, zuid holland, netherlands</td>\n",
       "      <td>NaN</td>\n",
       "      <td>NaN</td>\n",
       "      <td>NaN</td>\n",
       "    </tr>\n",
       "    <tr>\n",
       "      <th>3</th>\n",
       "      <td>10.0</td>\n",
       "      <td>0345413350</td>\n",
       "      <td>be36e5b8cb</td>\n",
       "      <td>NaN</td>\n",
       "      <td>rochester, new york, usa</td>\n",
       "      <td>PHILIP PULLMAN</td>\n",
       "      <td>1997.0</td>\n",
       "      <td>Del Rey</td>\n",
       "    </tr>\n",
       "    <tr>\n",
       "      <th>4</th>\n",
       "      <td>9.0</td>\n",
       "      <td>0609600788</td>\n",
       "      <td>98ec1c54b5</td>\n",
       "      <td>45.0</td>\n",
       "      <td>hummelstown, pennsylvania, usa</td>\n",
       "      <td>DEEPAK CHOPRA</td>\n",
       "      <td>2000.0</td>\n",
       "      <td>Harmony</td>\n",
       "    </tr>\n",
       "  </tbody>\n",
       "</table>\n",
       "</div>"
      ],
      "text/plain": [
       "   Book-Rating        ISBN     User-ID   age  \\\n",
       "0          8.0  1550372289  153d612c88  47.0   \n",
       "1         10.0  030796017X  f73f18a13a   NaN   \n",
       "2          8.0   014028009  02e87fe603  29.0   \n",
       "3         10.0  0345413350  be36e5b8cb   NaN   \n",
       "4          9.0  0609600788  98ec1c54b5  45.0   \n",
       "\n",
       "                                loc           author   years     publisher  \n",
       "0          toronto, ontario, canada  Michael Kusugak  1992.0  Annick Press  \n",
       "1          lake wales, florida, usa     MERCER MAYER  2001.0  Golden Books  \n",
       "2  delft, zuid holland, netherlands              NaN     NaN           NaN  \n",
       "3          rochester, new york, usa   PHILIP PULLMAN  1997.0       Del Rey  \n",
       "4    hummelstown, pennsylvania, usa    DEEPAK CHOPRA  2000.0       Harmony  "
      ]
     },
     "execution_count": 2,
     "metadata": {},
     "output_type": "execute_result"
    }
   ],
   "source": [
    "import pandas as pd\n",
    "ttt = pd.read_csv('merge.csv')\n",
    "ttt.head()"
   ]
  },
  {
   "cell_type": "code",
   "execution_count": 3,
   "metadata": {},
   "outputs": [
    {
     "name": "stdout",
     "output_type": "stream",
     "text": [
      "traindf 260202\n",
      "testdf 173469\n"
     ]
    }
   ],
   "source": [
    "traindf, testdf = pd.read_csv('./data/book_ratings_train.csv'), pd.read_csv('./data/book_ratings_test.csv')\n",
    "print ('traindf', len(traindf))\n",
    "print ('testdf', len(testdf))\n",
    "train = ttt[:len(traindf)]\n",
    "test = ttt[len(traindf):]"
   ]
  },
  {
   "cell_type": "code",
   "execution_count": 4,
   "metadata": {
    "collapsed": true
   },
   "outputs": [],
   "source": [
    "from sklearn.preprocessing import Imputer\n",
    "from sklearn.preprocessing import scale\n",
    "\n",
    "def fill_nan(inp):\n",
    "    imp = Imputer(missing_values='NaN', strategy='most_frequent', axis=0)\n",
    "    tv = imp.fit_transform(inp.reshape(-1, 1))\n",
    "    tv = tv.reshape(-1)\n",
    "    tvc = scale(tv)\n",
    "    return tvc"
   ]
  },
  {
   "cell_type": "code",
   "execution_count": 5,
   "metadata": {},
   "outputs": [
    {
     "name": "stdout",
     "output_type": "stream",
     "text": [
      "433671 260202 173469\n",
      "Book-Rating     True\n",
      "ISBN           False\n",
      "User-ID        False\n",
      "age             True\n",
      "loc            False\n",
      "author          True\n",
      "years           True\n",
      "publisher       True\n",
      "dtype: bool\n",
      "Book-Rating    40.000138\n",
      "ISBN            0.000000\n",
      "User-ID         0.000000\n",
      "age            29.888787\n",
      "loc             0.000000\n",
      "author         11.487971\n",
      "years          11.487741\n",
      "publisher      11.488202\n",
      "dtype: float64\n"
     ]
    }
   ],
   "source": [
    "print (len(ttt), len(train), len(test))\n",
    "print (ttt.isnull().any())\n",
    "print (ttt.isnull().sum()/ttt.isnull().count()*100)"
   ]
  },
  {
   "cell_type": "code",
   "execution_count": 6,
   "metadata": {
    "collapsed": true
   },
   "outputs": [],
   "source": [
    "# fill missing value\n",
    "\n",
    "for i in ttt.select_dtypes(include=['object']).columns:\n",
    "    ttt[i][ttt[i].isnull()] = 'unk'\n",
    "    \n",
    "ttt = ttt.fillna(value=0)\n",
    "# ttt['age'] = fill_nan(ttt['age'].values)\n",
    "# ttt['years'] = fill_nan(ttt['years'].values)"
   ]
  },
  {
   "cell_type": "code",
   "execution_count": 7,
   "metadata": {},
   "outputs": [
    {
     "data": {
      "text/html": [
       "<div>\n",
       "<style scoped>\n",
       "    .dataframe tbody tr th:only-of-type {\n",
       "        vertical-align: middle;\n",
       "    }\n",
       "\n",
       "    .dataframe tbody tr th {\n",
       "        vertical-align: top;\n",
       "    }\n",
       "\n",
       "    .dataframe thead th {\n",
       "        text-align: right;\n",
       "    }\n",
       "</style>\n",
       "<table border=\"1\" class=\"dataframe\">\n",
       "  <thead>\n",
       "    <tr style=\"text-align: right;\">\n",
       "      <th></th>\n",
       "      <th>Book-Rating</th>\n",
       "      <th>ISBN</th>\n",
       "      <th>User-ID</th>\n",
       "      <th>age</th>\n",
       "      <th>loc</th>\n",
       "      <th>author</th>\n",
       "      <th>years</th>\n",
       "      <th>publisher</th>\n",
       "    </tr>\n",
       "  </thead>\n",
       "  <tbody>\n",
       "    <tr>\n",
       "      <th>0</th>\n",
       "      <td>8.0</td>\n",
       "      <td>133745</td>\n",
       "      <td>6329</td>\n",
       "      <td>47.0</td>\n",
       "      <td>18959</td>\n",
       "      <td>41855</td>\n",
       "      <td>1992.0</td>\n",
       "      <td>560</td>\n",
       "    </tr>\n",
       "    <tr>\n",
       "      <th>1</th>\n",
       "      <td>10.0</td>\n",
       "      <td>21147</td>\n",
       "      <td>75160</td>\n",
       "      <td>0.0</td>\n",
       "      <td>9894</td>\n",
       "      <td>37869</td>\n",
       "      <td>2001.0</td>\n",
       "      <td>4132</td>\n",
       "    </tr>\n",
       "    <tr>\n",
       "      <th>2</th>\n",
       "      <td>8.0</td>\n",
       "      <td>13559</td>\n",
       "      <td>886</td>\n",
       "      <td>29.0</td>\n",
       "      <td>4962</td>\n",
       "      <td>62104</td>\n",
       "      <td>0.0</td>\n",
       "      <td>11567</td>\n",
       "    </tr>\n",
       "    <tr>\n",
       "      <th>3</th>\n",
       "      <td>10.0</td>\n",
       "      <td>31266</td>\n",
       "      <td>57887</td>\n",
       "      <td>0.0</td>\n",
       "      <td>15860</td>\n",
       "      <td>45272</td>\n",
       "      <td>1997.0</td>\n",
       "      <td>2678</td>\n",
       "    </tr>\n",
       "    <tr>\n",
       "      <th>4</th>\n",
       "      <td>9.0</td>\n",
       "      <td>80349</td>\n",
       "      <td>46556</td>\n",
       "      <td>45.0</td>\n",
       "      <td>8588</td>\n",
       "      <td>11258</td>\n",
       "      <td>2000.0</td>\n",
       "      <td>4553</td>\n",
       "    </tr>\n",
       "  </tbody>\n",
       "</table>\n",
       "</div>"
      ],
      "text/plain": [
       "   Book-Rating    ISBN  User-ID   age    loc  author   years  publisher\n",
       "0          8.0  133745     6329  47.0  18959   41855  1992.0        560\n",
       "1         10.0   21147    75160   0.0   9894   37869  2001.0       4132\n",
       "2          8.0   13559      886  29.0   4962   62104     0.0      11567\n",
       "3         10.0   31266    57887   0.0  15860   45272  1997.0       2678\n",
       "4          9.0   80349    46556  45.0   8588   11258  2000.0       4553"
      ]
     },
     "execution_count": 7,
     "metadata": {},
     "output_type": "execute_result"
    }
   ],
   "source": [
    "fm_ttt = ttt.copy()\n",
    "\n",
    "for col in ttt.select_dtypes(include=['object']).columns:\n",
    "    ttt[col] = ttt[col].astype('category')\n",
    "    \n",
    "# Encoding categorical features\n",
    "for col in ttt.select_dtypes(include=['category']).columns:\n",
    "    ttt[col] = ttt[col].cat.codes\n",
    "\n",
    "ttt.head()"
   ]
  },
  {
   "cell_type": "code",
   "execution_count": 8,
   "metadata": {},
   "outputs": [
    {
     "name": "stdout",
     "output_type": "stream",
     "text": [
      "<class 'pandas.core.frame.DataFrame'>\n",
      "RangeIndex: 433671 entries, 0 to 433670\n",
      "Data columns (total 8 columns):\n",
      "Book-Rating    433671 non-null float64\n",
      "ISBN           433671 non-null int32\n",
      "User-ID        433671 non-null int32\n",
      "age            433671 non-null float64\n",
      "loc            433671 non-null int16\n",
      "author         433671 non-null int32\n",
      "years          433671 non-null float64\n",
      "publisher      433671 non-null int16\n",
      "dtypes: float64(3), int16(2), int32(3)\n",
      "memory usage: 16.5 MB\n"
     ]
    }
   ],
   "source": [
    "ttt.info()"
   ]
  },
  {
   "cell_type": "code",
   "execution_count": 9,
   "metadata": {},
   "outputs": [
    {
     "data": {
      "text/html": [
       "<div>\n",
       "<style scoped>\n",
       "    .dataframe tbody tr th:only-of-type {\n",
       "        vertical-align: middle;\n",
       "    }\n",
       "\n",
       "    .dataframe tbody tr th {\n",
       "        vertical-align: top;\n",
       "    }\n",
       "\n",
       "    .dataframe thead th {\n",
       "        text-align: right;\n",
       "    }\n",
       "</style>\n",
       "<table border=\"1\" class=\"dataframe\">\n",
       "  <thead>\n",
       "    <tr style=\"text-align: right;\">\n",
       "      <th></th>\n",
       "      <th>Book-Rating</th>\n",
       "      <th>ISBN</th>\n",
       "      <th>User-ID</th>\n",
       "      <th>age</th>\n",
       "      <th>loc</th>\n",
       "      <th>author</th>\n",
       "      <th>years</th>\n",
       "      <th>publisher</th>\n",
       "    </tr>\n",
       "  </thead>\n",
       "  <tbody>\n",
       "    <tr>\n",
       "      <th>0</th>\n",
       "      <td>8.0</td>\n",
       "      <td>133745</td>\n",
       "      <td>6329</td>\n",
       "      <td>47.0</td>\n",
       "      <td>18959</td>\n",
       "      <td>41855</td>\n",
       "      <td>1992.0</td>\n",
       "      <td>560</td>\n",
       "    </tr>\n",
       "    <tr>\n",
       "      <th>1</th>\n",
       "      <td>10.0</td>\n",
       "      <td>21147</td>\n",
       "      <td>75160</td>\n",
       "      <td>0.0</td>\n",
       "      <td>9894</td>\n",
       "      <td>37869</td>\n",
       "      <td>2001.0</td>\n",
       "      <td>4132</td>\n",
       "    </tr>\n",
       "    <tr>\n",
       "      <th>2</th>\n",
       "      <td>8.0</td>\n",
       "      <td>13559</td>\n",
       "      <td>886</td>\n",
       "      <td>29.0</td>\n",
       "      <td>4962</td>\n",
       "      <td>62104</td>\n",
       "      <td>0.0</td>\n",
       "      <td>11567</td>\n",
       "    </tr>\n",
       "    <tr>\n",
       "      <th>3</th>\n",
       "      <td>10.0</td>\n",
       "      <td>31266</td>\n",
       "      <td>57887</td>\n",
       "      <td>0.0</td>\n",
       "      <td>15860</td>\n",
       "      <td>45272</td>\n",
       "      <td>1997.0</td>\n",
       "      <td>2678</td>\n",
       "    </tr>\n",
       "    <tr>\n",
       "      <th>4</th>\n",
       "      <td>9.0</td>\n",
       "      <td>80349</td>\n",
       "      <td>46556</td>\n",
       "      <td>45.0</td>\n",
       "      <td>8588</td>\n",
       "      <td>11258</td>\n",
       "      <td>2000.0</td>\n",
       "      <td>4553</td>\n",
       "    </tr>\n",
       "  </tbody>\n",
       "</table>\n",
       "</div>"
      ],
      "text/plain": [
       "   Book-Rating    ISBN  User-ID   age    loc  author   years  publisher\n",
       "0          8.0  133745     6329  47.0  18959   41855  1992.0        560\n",
       "1         10.0   21147    75160   0.0   9894   37869  2001.0       4132\n",
       "2          8.0   13559      886  29.0   4962   62104     0.0      11567\n",
       "3         10.0   31266    57887   0.0  15860   45272  1997.0       2678\n",
       "4          9.0   80349    46556  45.0   8588   11258  2000.0       4553"
      ]
     },
     "execution_count": 9,
     "metadata": {},
     "output_type": "execute_result"
    }
   ],
   "source": [
    "train = ttt[:len(traindf)].copy()\n",
    "test = ttt[len(traindf):].copy()\n",
    "fm_train = fm_ttt[:len(traindf)].copy()\n",
    "fm_test = fm_ttt[len(traindf):].copy()\n",
    "ttt.head()"
   ]
  },
  {
   "cell_type": "code",
   "execution_count": 10,
   "metadata": {},
   "outputs": [
    {
     "data": {
      "image/png": "[encoded data removed]",
      "text/plain": [
       "<Figure size 504x360 with 2 Axes>"
      ]
     },
     "metadata": {},
     "output_type": "display_data"
    }
   ],
   "source": [
    "import seaborn as sns\n",
    "plt.figure(figsize=[7,5])\n",
    "sns.heatmap(ttt.corr())\n",
    "plt.show()"
   ]
  },
  {
   "cell_type": "code",
   "execution_count": 11,
   "metadata": {
    "collapsed": true
   },
   "outputs": [],
   "source": [
    "def plot_importance(m, feature_list=['User-ID', 'ISBN', 'loc', 'age', 'author', 'publisher', 'years']):\n",
    "    try:\n",
    "        df = train.copy()\n",
    "        df_plot = pd.DataFrame({'features': feature_list, 'importances': m.feature_importances_})\n",
    "        df_plot = df_plot.sort_values('importances', ascending=False)\n",
    "\n",
    "        plt.figure(figsize=[11,5])\n",
    "        sns.barplot(x = df_plot.importances, y = df_plot.features)\n",
    "        plt.title('Importances of Features Plot')\n",
    "        plt.show()\n",
    "    except KeyboardInterrupt:\n",
    "        print ('KeyboardInterrupt')\n",
    "    except:\n",
    "        print ('no feature importance')"
   ]
  },
  {
   "cell_type": "code",
   "execution_count": 12,
   "metadata": {},
   "outputs": [
    {
     "name": "stdout",
     "output_type": "stream",
     "text": [
      "KFold(n_splits=5, random_state=None, shuffle=False)\n"
     ]
    }
   ],
   "source": [
    "from sklearn.model_selection import KFold\n",
    "kf = KFold(n_splits=5)\n",
    "print(kf)"
   ]
  },
  {
   "cell_type": "code",
   "execution_count": 13,
   "metadata": {},
   "outputs": [
    {
     "data": {
      "text/html": [
       "<div>\n",
       "<style scoped>\n",
       "    .dataframe tbody tr th:only-of-type {\n",
       "        vertical-align: middle;\n",
       "    }\n",
       "\n",
       "    .dataframe tbody tr th {\n",
       "        vertical-align: top;\n",
       "    }\n",
       "\n",
       "    .dataframe thead th {\n",
       "        text-align: right;\n",
       "    }\n",
       "</style>\n",
       "<table border=\"1\" class=\"dataframe\">\n",
       "  <thead>\n",
       "    <tr style=\"text-align: right;\">\n",
       "      <th></th>\n",
       "      <th>Book-Rating</th>\n",
       "      <th>ISBN</th>\n",
       "      <th>User-ID</th>\n",
       "      <th>age</th>\n",
       "      <th>loc</th>\n",
       "      <th>author</th>\n",
       "      <th>years</th>\n",
       "      <th>publisher</th>\n",
       "      <th>foldID</th>\n",
       "    </tr>\n",
       "  </thead>\n",
       "  <tbody>\n",
       "    <tr>\n",
       "      <th>0</th>\n",
       "      <td>8.0</td>\n",
       "      <td>133745</td>\n",
       "      <td>6329</td>\n",
       "      <td>47.0</td>\n",
       "      <td>18959</td>\n",
       "      <td>41855</td>\n",
       "      <td>1992.0</td>\n",
       "      <td>560</td>\n",
       "      <td>1</td>\n",
       "    </tr>\n",
       "    <tr>\n",
       "      <th>1</th>\n",
       "      <td>10.0</td>\n",
       "      <td>21147</td>\n",
       "      <td>75160</td>\n",
       "      <td>0.0</td>\n",
       "      <td>9894</td>\n",
       "      <td>37869</td>\n",
       "      <td>2001.0</td>\n",
       "      <td>4132</td>\n",
       "      <td>1</td>\n",
       "    </tr>\n",
       "    <tr>\n",
       "      <th>2</th>\n",
       "      <td>8.0</td>\n",
       "      <td>13559</td>\n",
       "      <td>886</td>\n",
       "      <td>29.0</td>\n",
       "      <td>4962</td>\n",
       "      <td>62104</td>\n",
       "      <td>0.0</td>\n",
       "      <td>11567</td>\n",
       "      <td>1</td>\n",
       "    </tr>\n",
       "    <tr>\n",
       "      <th>3</th>\n",
       "      <td>10.0</td>\n",
       "      <td>31266</td>\n",
       "      <td>57887</td>\n",
       "      <td>0.0</td>\n",
       "      <td>15860</td>\n",
       "      <td>45272</td>\n",
       "      <td>1997.0</td>\n",
       "      <td>2678</td>\n",
       "      <td>1</td>\n",
       "    </tr>\n",
       "    <tr>\n",
       "      <th>4</th>\n",
       "      <td>9.0</td>\n",
       "      <td>80349</td>\n",
       "      <td>46556</td>\n",
       "      <td>45.0</td>\n",
       "      <td>8588</td>\n",
       "      <td>11258</td>\n",
       "      <td>2000.0</td>\n",
       "      <td>4553</td>\n",
       "      <td>1</td>\n",
       "    </tr>\n",
       "  </tbody>\n",
       "</table>\n",
       "</div>"
      ],
      "text/plain": [
       "   Book-Rating    ISBN  User-ID   age    loc  author   years  publisher  \\\n",
       "0          8.0  133745     6329  47.0  18959   41855  1992.0        560   \n",
       "1         10.0   21147    75160   0.0   9894   37869  2001.0       4132   \n",
       "2          8.0   13559      886  29.0   4962   62104     0.0      11567   \n",
       "3         10.0   31266    57887   0.0  15860   45272  1997.0       2678   \n",
       "4          9.0   80349    46556  45.0   8588   11258  2000.0       4553   \n",
       "\n",
       "   foldID  \n",
       "0       1  \n",
       "1       1  \n",
       "2       1  \n",
       "3       1  \n",
       "4       1  "
      ]
     },
     "execution_count": 13,
     "metadata": {},
     "output_type": "execute_result"
    }
   ],
   "source": [
    "# create 5 fold\n",
    "train['foldID'] = 0\n",
    "for i, (train_idx, val_idx) in enumerate(kf.split(train)):\n",
    "    # train : val = 4 : 1\n",
    "    train['foldID'][val_idx] = i+1\n",
    "\n",
    "train.head()"
   ]
  },
  {
   "cell_type": "code",
   "execution_count": 14,
   "metadata": {},
   "outputs": [
    {
     "name": "stdout",
     "output_type": "stream",
     "text": [
      "['nn', 'Surprise', 'FM', 'XGBR', 'XGBC', 'Keras']\n"
     ]
    },
    {
     "name": "stderr",
     "output_type": "stream",
     "text": [
      "Using TensorFlow backend.\n"
     ]
    }
   ],
   "source": [
    "from stack_model import FM, Surprise, XGBR, XGBC, Keras, nn\n",
    "# retrieve by 'model' attribute, save before fit again\n",
    "\n",
    "model_list = [nn(), Surprise(), FM(fm_ttt), XGBR(), XGBC(), Keras()]\n",
    "model_name_list = [type(i).__name__ for i in model_list]\n",
    "\n",
    "print (model_name_list)"
   ]
  },
  {
   "cell_type": "code",
   "execution_count": 15,
   "metadata": {},
   "outputs": [
    {
     "data": {
      "text/html": [
       "<div>\n",
       "<style scoped>\n",
       "    .dataframe tbody tr th:only-of-type {\n",
       "        vertical-align: middle;\n",
       "    }\n",
       "\n",
       "    .dataframe tbody tr th {\n",
       "        vertical-align: top;\n",
       "    }\n",
       "\n",
       "    .dataframe thead th {\n",
       "        text-align: right;\n",
       "    }\n",
       "</style>\n",
       "<table border=\"1\" class=\"dataframe\">\n",
       "  <thead>\n",
       "    <tr style=\"text-align: right;\">\n",
       "      <th></th>\n",
       "      <th>Book-Rating</th>\n",
       "      <th>ISBN</th>\n",
       "      <th>User-ID</th>\n",
       "      <th>age</th>\n",
       "      <th>loc</th>\n",
       "      <th>author</th>\n",
       "      <th>years</th>\n",
       "      <th>publisher</th>\n",
       "      <th>nn</th>\n",
       "      <th>Surprise</th>\n",
       "      <th>FM</th>\n",
       "      <th>XGBR</th>\n",
       "      <th>XGBC</th>\n",
       "      <th>Keras</th>\n",
       "    </tr>\n",
       "  </thead>\n",
       "  <tbody>\n",
       "    <tr>\n",
       "      <th>260202</th>\n",
       "      <td>0.0</td>\n",
       "      <td>136726</td>\n",
       "      <td>12053</td>\n",
       "      <td>34.0</td>\n",
       "      <td>19915</td>\n",
       "      <td>7520</td>\n",
       "      <td>2001.0</td>\n",
       "      <td>343</td>\n",
       "      <td>NaN</td>\n",
       "      <td>NaN</td>\n",
       "      <td>NaN</td>\n",
       "      <td>NaN</td>\n",
       "      <td>NaN</td>\n",
       "      <td>NaN</td>\n",
       "    </tr>\n",
       "    <tr>\n",
       "      <th>260203</th>\n",
       "      <td>0.0</td>\n",
       "      <td>17136</td>\n",
       "      <td>10894</td>\n",
       "      <td>0.0</td>\n",
       "      <td>1711</td>\n",
       "      <td>61801</td>\n",
       "      <td>2003.0</td>\n",
       "      <td>4648</td>\n",
       "      <td>NaN</td>\n",
       "      <td>NaN</td>\n",
       "      <td>NaN</td>\n",
       "      <td>NaN</td>\n",
       "      <td>NaN</td>\n",
       "      <td>NaN</td>\n",
       "    </tr>\n",
       "    <tr>\n",
       "      <th>260204</th>\n",
       "      <td>0.0</td>\n",
       "      <td>102935</td>\n",
       "      <td>63113</td>\n",
       "      <td>0.0</td>\n",
       "      <td>3602</td>\n",
       "      <td>33296</td>\n",
       "      <td>2000.0</td>\n",
       "      <td>8248</td>\n",
       "      <td>NaN</td>\n",
       "      <td>NaN</td>\n",
       "      <td>NaN</td>\n",
       "      <td>NaN</td>\n",
       "      <td>NaN</td>\n",
       "      <td>NaN</td>\n",
       "    </tr>\n",
       "    <tr>\n",
       "      <th>260205</th>\n",
       "      <td>0.0</td>\n",
       "      <td>61845</td>\n",
       "      <td>23078</td>\n",
       "      <td>0.0</td>\n",
       "      <td>18596</td>\n",
       "      <td>55497</td>\n",
       "      <td>1997.0</td>\n",
       "      <td>9404</td>\n",
       "      <td>NaN</td>\n",
       "      <td>NaN</td>\n",
       "      <td>NaN</td>\n",
       "      <td>NaN</td>\n",
       "      <td>NaN</td>\n",
       "      <td>NaN</td>\n",
       "    </tr>\n",
       "    <tr>\n",
       "      <th>260206</th>\n",
       "      <td>0.0</td>\n",
       "      <td>8522</td>\n",
       "      <td>65227</td>\n",
       "      <td>0.0</td>\n",
       "      <td>14409</td>\n",
       "      <td>54293</td>\n",
       "      <td>1998.0</td>\n",
       "      <td>5226</td>\n",
       "      <td>NaN</td>\n",
       "      <td>NaN</td>\n",
       "      <td>NaN</td>\n",
       "      <td>NaN</td>\n",
       "      <td>NaN</td>\n",
       "      <td>NaN</td>\n",
       "    </tr>\n",
       "  </tbody>\n",
       "</table>\n",
       "</div>"
      ],
      "text/plain": [
       "        Book-Rating    ISBN  User-ID   age    loc  author   years  publisher  \\\n",
       "260202          0.0  136726    12053  34.0  19915    7520  2001.0        343   \n",
       "260203          0.0   17136    10894   0.0   1711   61801  2003.0       4648   \n",
       "260204          0.0  102935    63113   0.0   3602   33296  2000.0       8248   \n",
       "260205          0.0   61845    23078   0.0  18596   55497  1997.0       9404   \n",
       "260206          0.0    8522    65227   0.0  14409   54293  1998.0       5226   \n",
       "\n",
       "        nn  Surprise  FM  XGBR  XGBC  Keras  \n",
       "260202 NaN       NaN NaN   NaN   NaN    NaN  \n",
       "260203 NaN       NaN NaN   NaN   NaN    NaN  \n",
       "260204 NaN       NaN NaN   NaN   NaN    NaN  \n",
       "260205 NaN       NaN NaN   NaN   NaN    NaN  \n",
       "260206 NaN       NaN NaN   NaN   NaN    NaN  "
      ]
     },
     "execution_count": 15,
     "metadata": {},
     "output_type": "execute_result"
    }
   ],
   "source": [
    "train_meta = train.copy()\n",
    "test_meta = test.copy()\n",
    "for i in model_list:\n",
    "    name = type(i).__name__\n",
    "    train_meta[name] = float('nan')\n",
    "    test_meta[name] = float('nan')\n",
    "\n",
    "test_meta.head()"
   ]
  },
  {
   "cell_type": "code",
   "execution_count": 16,
   "metadata": {},
   "outputs": [
    {
     "name": "stdout",
     "output_type": "stream",
     "text": [
      "fold 1 , data length: 208161\n",
      "\t nn\n",
      "\t validation score: 1.22545685132876\n",
      "\t Surprise\n",
      "\t validation score: 1.2261486135931285\n",
      "\t FM\n",
      "\t validation score: 1.4320247497165697\n",
      "\t XGBR\n",
      "\t validation score: 1.2596030053227263\n",
      "\t XGBC\n",
      "\t validation score: 1.3723026075594242\n",
      "\t Keras\n",
      "\t validation score: 1.2469014815241828\n",
      "mean validation score in  1 fold: 1.2937395515074652\n",
      "fold 2 , data length: 208161\n",
      "\t nn\n",
      "\t validation score: 1.2234584270094733\n",
      "\t Surprise\n",
      "\t validation score: 1.2234584270094733\n",
      "\t FM\n",
      "\t validation score: 1.4412674621932706\n",
      "\t XGBR\n",
      "\t validation score: 1.2587383024922658\n",
      "\t XGBC\n",
      "\t validation score: 1.3633865605964528\n",
      "\t Keras\n",
      "\t validation score: 1.245268153955535\n",
      "mean validation score in  2 fold: 1.2925962222094118\n",
      "fold 3 , data length: 208162\n",
      "\t nn\n",
      "\t validation score: 1.2155265180630284\n",
      "\t Surprise\n",
      "\t validation score: 1.2137202152190623\n",
      "\t FM\n",
      "\t validation score: 1.5888931591083781\n",
      "\t XGBR\n",
      "\t validation score: 1.2515372790161414\n",
      "\t XGBC\n",
      "\t validation score: 1.366871637202152\n",
      "\t Keras\n",
      "\t validation score: 1.2436010760953113\n",
      "mean validation score in  3 fold: 1.3133583141173457\n",
      "fold 4 , data length: 208162\n",
      "\t nn\n",
      "\t validation score: 1.2184857801691007\n",
      "\t Surprise\n",
      "\t validation score: 1.2173904688700998\n",
      "\t FM\n",
      "\t validation score: 1.5910069177555726\n",
      "\t XGBR\n",
      "\t validation score: 1.2526133743274404\n",
      "\t XGBC\n",
      "\t validation score: 1.3639315910837817\n",
      "\t Keras\n",
      "\t validation score: 1.2391813989239047\n",
      "mean validation score in  4 fold: 1.3137682551883167\n",
      "fold 5 , data length: 208162\n",
      "\t nn\n",
      "\t validation score: 1.209684857801691\n",
      "\t Surprise\n",
      "\t validation score: 1.2103766333589547\n",
      "\t FM\n",
      "\t validation score: 1.5871829362029208\n",
      "\t XGBR\n",
      "\t validation score: 1.2470023059185242\n",
      "\t XGBC\n",
      "\t validation score: 1.3720407378939277\n",
      "\t Keras\n",
      "\t validation score: 1.2362413528055343\n",
      "mean validation score in  5 fold: 1.3104214706635922\n"
     ]
    }
   ],
   "source": [
    "feature_list=['User-ID', 'ISBN', 'loc', 'age', 'author', 'publisher', 'years']\n",
    "\n",
    "for f in range(5):\n",
    "    train_fold = train_meta[train_meta.foldID != f+1]\n",
    "    val_fold = train_meta[train_meta.foldID == f+1]\n",
    "\n",
    "    x_train, y_train = train_fold[feature_list], train_fold['Book-Rating']\n",
    "    x_val, y_val = val_fold[feature_list], val_fold['Book-Rating']\n",
    "    \n",
    "    print (\"fold\", f+1, ', data length:', len(x_train))\n",
    "    mean = 0\n",
    "    \n",
    "    for model, name in zip(model_list, model_name_list):\n",
    "        print ('\\t', name)\n",
    "        #model.fit(x_train, y_train)\n",
    "        model.fit(x_train, y_train, x_val, y_val)\n",
    "        pred = model.predict(x_val)\n",
    "        pred = np.round(pred)\n",
    "        mae = MAE(pred, y_val)\n",
    "        mean += mae\n",
    "        print (\"\\t\", 'validation score:', mae)\n",
    "        train_meta[name][train_meta.foldID == f+1] = pred.astype(int)\n",
    "\n",
    "    print ('mean validation score in ', f+1, 'fold:', mean/6)\n",
    "\n",
    "train_meta.to_csv('stack/train_meta_.csv')"
   ]
  },
  {
   "cell_type": "code",
   "execution_count": 17,
   "metadata": {},
   "outputs": [
    {
     "name": "stdout",
     "output_type": "stream",
     "text": [
      "nn\n",
      "1.2185225324939855\n",
      "Surprise\n",
      "1.218218922221966\n",
      "FM\n",
      "1.5280743422417968\n",
      "XGBR\n",
      "1.2538988939362494\n",
      "XGBC\n",
      "1.3677066279275332\n",
      "Keras\n",
      "1.2422387222235032\n",
      "mean\n",
      " 1.2428267269275408\n"
     ]
    }
   ],
   "source": [
    "# performance on training set\n",
    "pred = []\n",
    "for i in model_name_list:\n",
    "    print (i)\n",
    "    p = train_meta[i].values\n",
    "    print (MAE(p, train_meta['Book-Rating'].values))\n",
    "    pred.append(p)\n",
    "    \n",
    "pred = np.round(np.mean(pred, 0))\n",
    "print ('mean\\n', MAE(pred, train_meta['Book-Rating'].values))"
   ]
  },
  {
   "cell_type": "code",
   "execution_count": 18,
   "metadata": {},
   "outputs": [
    {
     "name": "stdout",
     "output_type": "stream",
     "text": [
      "nn\n",
      "Surprise\n",
      "FM\n",
      "XGBR\n",
      "XGBC\n",
      "Keras\n"
     ]
    }
   ],
   "source": [
    "# fit to all training data and fill in test meta\n",
    "for model, name in zip(model_list, model_name_list):\n",
    "    print (name)\n",
    "    model.fit(train[feature_list], train['Book-Rating'], train[feature_list], train['Book-Rating'])\n",
    "    pred = model.predict(test[feature_list])\n",
    "    pred = np.round(pred)\n",
    "    test_meta[name] = pred.astype(int)\n",
    "test_meta.to_csv('stack/test_meta_.csv')"
   ]
  },
  {
   "cell_type": "code",
   "execution_count": 19,
   "metadata": {},
   "outputs": [
    {
     "name": "stdout",
     "output_type": "stream",
     "text": [
      "nn\n",
      "1.2185225324939855\n",
      "Surprise\n",
      "1.218218922221966\n",
      "FM\n",
      "1.5280743422417968\n",
      "XGBR\n",
      "1.2538988939362494\n",
      "XGBC\n",
      "1.3677066279275332\n",
      "Keras\n",
      "1.2422387222235032\n",
      "mean\n",
      " 1.2428267269275408\n"
     ]
    }
   ],
   "source": [
    "# baseline\n",
    "pred = []\n",
    "for i in model_name_list:\n",
    "    print (i)\n",
    "    p = train_meta[i].values\n",
    "    print (MAE(p, train_meta['Book-Rating'].values))\n",
    "    pred.append(p)\n",
    "    \n",
    "pred = np.round(np.mean(pred, 0))\n",
    "print ('mean\\n', MAE(pred, train_meta['Book-Rating'].values))"
   ]
  },
  {
   "cell_type": "code",
   "execution_count": 21,
   "metadata": {},
   "outputs": [
    {
     "name": "stdout",
     "output_type": "stream",
     "text": [
      "fold 1 , data length: 208161\n",
      "\t validation score: 1.22155608078246\n",
      "fold 2 , data length: 208161\n",
      "\t validation score: 1.2178474664207068\n",
      "fold 3 , data length: 208162\n",
      "\t validation score: 1.390564950038432\n",
      "fold 4 , data length: 208162\n",
      "\t validation score: 1.4031514219830898\n",
      "fold 5 , data length: 208162\n",
      "\t validation score: 1.4046310530361261\n",
      "mean: 1.3275501944521628\n"
     ]
    }
   ],
   "source": [
    "from sklearn.svm import LinearSVR\n",
    "stack_feature_list = model_name_list\n",
    "mean = 0\n",
    "for f in range(5):\n",
    "    train_fold = train_meta[train_meta.foldID != f+1]\n",
    "    val_fold = train_meta[train_meta.foldID == f+1]\n",
    "\n",
    "    x_train, y_train = train_fold[stack_feature_list], train_fold['Book-Rating']\n",
    "    x_val, y_val = val_fold[stack_feature_list], val_fold['Book-Rating']\n",
    "    \n",
    "    print (\"fold\", f+1, ', data length:', len(x_train))\n",
    "    \n",
    "    model = LinearSVR()\n",
    "    model.fit(x_train, y_train)\n",
    "    pred = model.predict(x_val)\n",
    "    pred = np.round(pred)\n",
    "    mae = MAE(pred, y_val)\n",
    "    mean += mae\n",
    "    print (\"\\t\", 'validation score:', mae)\n",
    "\n",
    "print ('mean:', mean/5)"
   ]
  },
  {
   "cell_type": "code",
   "execution_count": 22,
   "metadata": {},
   "outputs": [
    {
     "name": "stdout",
     "output_type": "stream",
     "text": [
      "[('nn',), ('Surprise',), ('FM',), ('XGBR',), ('XGBC',), ('Keras',), ('nn', 'Surprise'), ('nn', 'FM'), ('nn', 'XGBR'), ('nn', 'XGBC'), ('nn', 'Keras'), ('Surprise', 'FM'), ('Surprise', 'XGBR'), ('Surprise', 'XGBC'), ('Surprise', 'Keras'), ('FM', 'XGBR'), ('FM', 'XGBC'), ('FM', 'Keras'), ('XGBR', 'XGBC'), ('XGBR', 'Keras'), ('XGBC', 'Keras'), ('nn', 'Surprise', 'FM'), ('nn', 'Surprise', 'XGBR'), ('nn', 'Surprise', 'XGBC'), ('nn', 'Surprise', 'Keras'), ('nn', 'FM', 'XGBR'), ('nn', 'FM', 'XGBC'), ('nn', 'FM', 'Keras'), ('nn', 'XGBR', 'XGBC'), ('nn', 'XGBR', 'Keras'), ('nn', 'XGBC', 'Keras'), ('Surprise', 'FM', 'XGBR'), ('Surprise', 'FM', 'XGBC'), ('Surprise', 'FM', 'Keras'), ('Surprise', 'XGBR', 'XGBC'), ('Surprise', 'XGBR', 'Keras'), ('Surprise', 'XGBC', 'Keras'), ('FM', 'XGBR', 'XGBC'), ('FM', 'XGBR', 'Keras'), ('FM', 'XGBC', 'Keras'), ('XGBR', 'XGBC', 'Keras'), ('nn', 'Surprise', 'FM', 'XGBR'), ('nn', 'Surprise', 'FM', 'XGBC'), ('nn', 'Surprise', 'FM', 'Keras'), ('nn', 'Surprise', 'XGBR', 'XGBC'), ('nn', 'Surprise', 'XGBR', 'Keras'), ('nn', 'Surprise', 'XGBC', 'Keras'), ('nn', 'FM', 'XGBR', 'XGBC'), ('nn', 'FM', 'XGBR', 'Keras'), ('nn', 'FM', 'XGBC', 'Keras'), ('nn', 'XGBR', 'XGBC', 'Keras'), ('Surprise', 'FM', 'XGBR', 'XGBC'), ('Surprise', 'FM', 'XGBR', 'Keras'), ('Surprise', 'FM', 'XGBC', 'Keras'), ('Surprise', 'XGBR', 'XGBC', 'Keras'), ('FM', 'XGBR', 'XGBC', 'Keras'), ('nn', 'Surprise', 'FM', 'XGBR', 'XGBC'), ('nn', 'Surprise', 'FM', 'XGBR', 'Keras'), ('nn', 'Surprise', 'FM', 'XGBC', 'Keras'), ('nn', 'Surprise', 'XGBR', 'XGBC', 'Keras'), ('nn', 'FM', 'XGBR', 'XGBC', 'Keras'), ('Surprise', 'FM', 'XGBR', 'XGBC', 'Keras')]\n"
     ]
    }
   ],
   "source": [
    "# create combinations of features\n",
    "from itertools import combinations\n",
    "all_combin = []\n",
    "for k in range(1, len(model_name_list)):\n",
    "    for j in combinations(model_name_list, k):\n",
    "        all_combin.append(j)\n",
    "print (all_combin)"
   ]
  },
  {
   "cell_type": "code",
   "execution_count": 23,
   "metadata": {
    "collapsed": true
   },
   "outputs": [],
   "source": [
    "from sklearn.metrics import make_scorer\n",
    "def my_mae(ground, preds):\n",
    "    return MAE(ground, np.round(preds))"
   ]
  },
  {
   "cell_type": "code",
   "execution_count": 24,
   "metadata": {},
   "outputs": [
    {
     "name": "stdout",
     "output_type": "stream",
     "text": [
      "['nn']\n",
      "Fitting 5 folds for each of 1 candidates, totalling 5 fits\n"
     ]
    },
    {
     "name": "stderr",
     "output_type": "stream",
     "text": [
      "[Parallel(n_jobs=5)]: Done   2 out of   5 | elapsed:    4.8s remaining:    7.1s\n",
      "[Parallel(n_jobs=5)]: Done   5 out of   5 | elapsed:    5.4s finished\n"
     ]
    },
    {
     "name": "stdout",
     "output_type": "stream",
     "text": [
      "1.2185225324939855 1.2185225324939855\n",
      "['Surprise']\n",
      "Fitting 5 folds for each of 1 candidates, totalling 5 fits\n"
     ]
    },
    {
     "name": "stderr",
     "output_type": "stream",
     "text": [
      "[Parallel(n_jobs=5)]: Done   2 out of   5 | elapsed:    4.8s remaining:    7.3s\n",
      "[Parallel(n_jobs=5)]: Done   5 out of   5 | elapsed:    5.0s finished\n"
     ]
    },
    {
     "name": "stdout",
     "output_type": "stream",
     "text": [
      "1.218218922221966 1.218218922221966\n",
      "['FM']\n",
      "Fitting 5 folds for each of 1 candidates, totalling 5 fits\n"
     ]
    },
    {
     "name": "stderr",
     "output_type": "stream",
     "text": [
      "[Parallel(n_jobs=5)]: Done   2 out of   5 | elapsed:    3.6s remaining:    5.3s\n",
      "[Parallel(n_jobs=5)]: Done   5 out of   5 | elapsed:    3.7s finished\n"
     ]
    },
    {
     "name": "stdout",
     "output_type": "stream",
     "text": [
      "1.434985126939839 1.218218922221966\n",
      "['XGBR']\n",
      "Fitting 5 folds for each of 1 candidates, totalling 5 fits\n"
     ]
    },
    {
     "name": "stderr",
     "output_type": "stream",
     "text": [
      "[Parallel(n_jobs=5)]: Done   2 out of   5 | elapsed:    4.0s remaining:    6.0s\n",
      "[Parallel(n_jobs=5)]: Done   5 out of   5 | elapsed:    4.6s finished\n"
     ]
    },
    {
     "name": "stdout",
     "output_type": "stream",
     "text": [
      "1.2538988939362494 1.218218922221966\n",
      "['XGBC']\n",
      "Fitting 5 folds for each of 1 candidates, totalling 5 fits\n"
     ]
    },
    {
     "name": "stderr",
     "output_type": "stream",
     "text": [
      "[Parallel(n_jobs=5)]: Done   2 out of   5 | elapsed:    7.5s remaining:   11.2s\n",
      "[Parallel(n_jobs=5)]: Done   5 out of   5 | elapsed:    8.5s finished\n"
     ]
    },
    {
     "name": "stdout",
     "output_type": "stream",
     "text": [
      "1.352218660886542 1.218218922221966\n",
      "['Keras']\n",
      "Fitting 5 folds for each of 1 candidates, totalling 5 fits\n"
     ]
    },
    {
     "name": "stderr",
     "output_type": "stream",
     "text": [
      "[Parallel(n_jobs=5)]: Done   2 out of   5 | elapsed:    4.3s remaining:    6.5s\n",
      "[Parallel(n_jobs=5)]: Done   5 out of   5 | elapsed:    5.2s finished\n"
     ]
    },
    {
     "name": "stdout",
     "output_type": "stream",
     "text": [
      "1.2422387222235032 1.218218922221966\n",
      "['nn', 'Surprise']\n",
      "Fitting 5 folds for each of 1 candidates, totalling 5 fits\n"
     ]
    },
    {
     "name": "stderr",
     "output_type": "stream",
     "text": [
      "[Parallel(n_jobs=5)]: Done   2 out of   5 | elapsed:   11.7s remaining:   17.6s\n",
      "[Parallel(n_jobs=5)]: Done   5 out of   5 | elapsed:   13.3s finished\n"
     ]
    },
    {
     "name": "stdout",
     "output_type": "stream",
     "text": [
      "1.218580180013989 1.218218922221966\n",
      "['nn', 'FM']\n",
      "Fitting 5 folds for each of 1 candidates, totalling 5 fits\n"
     ]
    },
    {
     "name": "stderr",
     "output_type": "stream",
     "text": [
      "[Parallel(n_jobs=5)]: Done   2 out of   5 | elapsed:    8.6s remaining:   12.9s\n",
      "[Parallel(n_jobs=5)]: Done   5 out of   5 | elapsed:    9.5s finished\n"
     ]
    },
    {
     "name": "stdout",
     "output_type": "stream",
     "text": [
      "1.2185225324939855 1.218218922221966\n",
      "['nn', 'XGBR']\n",
      "Fitting 5 folds for each of 1 candidates, totalling 5 fits\n"
     ]
    },
    {
     "name": "stderr",
     "output_type": "stream",
     "text": [
      "[Parallel(n_jobs=5)]: Done   2 out of   5 | elapsed:   15.0s remaining:   22.5s\n",
      "[Parallel(n_jobs=5)]: Done   5 out of   5 | elapsed:   15.6s finished\n"
     ]
    },
    {
     "name": "stdout",
     "output_type": "stream",
     "text": [
      "1.2185225324939855 1.218218922221966\n",
      "['nn', 'XGBC']\n",
      "Fitting 5 folds for each of 1 candidates, totalling 5 fits\n"
     ]
    },
    {
     "name": "stderr",
     "output_type": "stream",
     "text": [
      "[Parallel(n_jobs=5)]: Done   2 out of   5 | elapsed:   14.0s remaining:   20.9s\n",
      "[Parallel(n_jobs=5)]: Done   5 out of   5 | elapsed:   15.3s finished\n"
     ]
    },
    {
     "name": "stdout",
     "output_type": "stream",
     "text": [
      "1.2185225324939855 1.218218922221966\n",
      "['nn', 'Keras']\n",
      "Fitting 5 folds for each of 1 candidates, totalling 5 fits\n"
     ]
    },
    {
     "name": "stderr",
     "output_type": "stream",
     "text": [
      "[Parallel(n_jobs=5)]: Done   2 out of   5 | elapsed:   12.8s remaining:   19.1s\n",
      "[Parallel(n_jobs=5)]: Done   5 out of   5 | elapsed:   13.0s finished\n"
     ]
    },
    {
     "name": "stdout",
     "output_type": "stream",
     "text": [
      "1.2185225324939855 1.218218922221966\n",
      "['Surprise', 'FM']\n",
      "Fitting 5 folds for each of 1 candidates, totalling 5 fits\n"
     ]
    },
    {
     "name": "stderr",
     "output_type": "stream",
     "text": [
      "[Parallel(n_jobs=5)]: Done   2 out of   5 | elapsed:    8.3s remaining:   12.5s\n",
      "[Parallel(n_jobs=5)]: Done   5 out of   5 | elapsed:    9.3s finished\n"
     ]
    },
    {
     "name": "stdout",
     "output_type": "stream",
     "text": [
      "1.218218922221966 1.218218922221966\n",
      "['Surprise', 'XGBR']\n",
      "Fitting 5 folds for each of 1 candidates, totalling 5 fits\n"
     ]
    },
    {
     "name": "stderr",
     "output_type": "stream",
     "text": [
      "[Parallel(n_jobs=5)]: Done   2 out of   5 | elapsed:   14.5s remaining:   21.8s\n",
      "[Parallel(n_jobs=5)]: Done   5 out of   5 | elapsed:   15.2s finished\n"
     ]
    },
    {
     "name": "stdout",
     "output_type": "stream",
     "text": [
      "1.218218922221966 1.218218922221966\n",
      "['Surprise', 'XGBC']\n",
      "Fitting 5 folds for each of 1 candidates, totalling 5 fits\n"
     ]
    },
    {
     "name": "stderr",
     "output_type": "stream",
     "text": [
      "[Parallel(n_jobs=5)]: Done   2 out of   5 | elapsed:   12.7s remaining:   19.1s\n",
      "[Parallel(n_jobs=5)]: Done   5 out of   5 | elapsed:   14.5s finished\n"
     ]
    },
    {
     "name": "stdout",
     "output_type": "stream",
     "text": [
      "1.218218922221966 1.218218922221966\n",
      "['Surprise', 'Keras']\n",
      "Fitting 5 folds for each of 1 candidates, totalling 5 fits\n"
     ]
    },
    {
     "name": "stderr",
     "output_type": "stream",
     "text": [
      "[Parallel(n_jobs=5)]: Done   2 out of   5 | elapsed:   10.0s remaining:   15.0s\n",
      "[Parallel(n_jobs=5)]: Done   5 out of   5 | elapsed:   11.6s finished\n"
     ]
    },
    {
     "name": "stdout",
     "output_type": "stream",
     "text": [
      "1.218218922221966 1.218218922221966\n",
      "['FM', 'XGBR']\n",
      "Fitting 5 folds for each of 1 candidates, totalling 5 fits\n"
     ]
    },
    {
     "name": "stderr",
     "output_type": "stream",
     "text": [
      "[Parallel(n_jobs=5)]: Done   2 out of   5 | elapsed:    7.6s remaining:   11.5s\n",
      "[Parallel(n_jobs=5)]: Done   5 out of   5 | elapsed:    8.3s finished\n"
     ]
    },
    {
     "name": "stdout",
     "output_type": "stream",
     "text": [
      "1.2538988939362494 1.218218922221966\n",
      "['FM', 'XGBC']\n",
      "Fitting 5 folds for each of 1 candidates, totalling 5 fits\n"
     ]
    },
    {
     "name": "stderr",
     "output_type": "stream",
     "text": [
      "[Parallel(n_jobs=5)]: Done   2 out of   5 | elapsed:   14.8s remaining:   22.2s\n",
      "[Parallel(n_jobs=5)]: Done   5 out of   5 | elapsed:   16.2s finished\n"
     ]
    },
    {
     "name": "stdout",
     "output_type": "stream",
     "text": [
      "1.3522225040545421 1.218218922221966\n",
      "['FM', 'Keras']\n",
      "Fitting 5 folds for each of 1 candidates, totalling 5 fits\n"
     ]
    },
    {
     "name": "stderr",
     "output_type": "stream",
     "text": [
      "[Parallel(n_jobs=5)]: Done   2 out of   5 | elapsed:    9.0s remaining:   13.5s\n",
      "[Parallel(n_jobs=5)]: Done   5 out of   5 | elapsed:    9.5s finished\n"
     ]
    },
    {
     "name": "stdout",
     "output_type": "stream",
     "text": [
      "1.2422387222235032 1.218218922221966\n",
      "['XGBR', 'XGBC']\n",
      "Fitting 5 folds for each of 1 candidates, totalling 5 fits\n"
     ]
    },
    {
     "name": "stderr",
     "output_type": "stream",
     "text": [
      "[Parallel(n_jobs=5)]: Done   2 out of   5 | elapsed:   12.0s remaining:   18.0s\n",
      "[Parallel(n_jobs=5)]: Done   5 out of   5 | elapsed:   13.5s finished\n"
     ]
    },
    {
     "name": "stdout",
     "output_type": "stream",
     "text": [
      "1.2538988939362494 1.218218922221966\n",
      "['XGBR', 'Keras']\n",
      "Fitting 5 folds for each of 1 candidates, totalling 5 fits\n"
     ]
    },
    {
     "name": "stderr",
     "output_type": "stream",
     "text": [
      "[Parallel(n_jobs=5)]: Done   2 out of   5 | elapsed:   14.9s remaining:   22.4s\n",
      "[Parallel(n_jobs=5)]: Done   5 out of   5 | elapsed:   16.1s finished\n"
     ]
    },
    {
     "name": "stdout",
     "output_type": "stream",
     "text": [
      "1.230797611086771 1.218218922221966\n",
      "['XGBC', 'Keras']\n",
      "Fitting 5 folds for each of 1 candidates, totalling 5 fits\n"
     ]
    },
    {
     "name": "stderr",
     "output_type": "stream",
     "text": [
      "[Parallel(n_jobs=5)]: Done   2 out of   5 | elapsed:   17.9s remaining:   26.9s\n",
      "[Parallel(n_jobs=5)]: Done   5 out of   5 | elapsed:   18.7s finished\n"
     ]
    },
    {
     "name": "stdout",
     "output_type": "stream",
     "text": [
      "1.2422387222235032 1.218218922221966\n",
      "['nn', 'Surprise', 'FM']\n",
      "Fitting 5 folds for each of 1 candidates, totalling 5 fits\n"
     ]
    },
    {
     "name": "stderr",
     "output_type": "stream",
     "text": [
      "[Parallel(n_jobs=5)]: Done   2 out of   5 | elapsed:   17.2s remaining:   25.7s\n",
      "[Parallel(n_jobs=5)]: Done   5 out of   5 | elapsed:   18.2s finished\n"
     ]
    },
    {
     "name": "stdout",
     "output_type": "stream",
     "text": [
      "1.218580180013989 1.218218922221966\n",
      "['nn', 'Surprise', 'XGBR']\n",
      "Fitting 5 folds for each of 1 candidates, totalling 5 fits\n"
     ]
    },
    {
     "name": "stderr",
     "output_type": "stream",
     "text": [
      "[Parallel(n_jobs=5)]: Done   2 out of   5 | elapsed:   25.2s remaining:   37.8s\n",
      "[Parallel(n_jobs=5)]: Done   5 out of   5 | elapsed:   27.3s finished\n"
     ]
    },
    {
     "name": "stdout",
     "output_type": "stream",
     "text": [
      "1.218580180013989 1.218218922221966\n",
      "['nn', 'Surprise', 'XGBC']\n",
      "Fitting 5 folds for each of 1 candidates, totalling 5 fits\n"
     ]
    },
    {
     "name": "stderr",
     "output_type": "stream",
     "text": [
      "[Parallel(n_jobs=5)]: Done   2 out of   5 | elapsed:   23.2s remaining:   34.9s\n",
      "[Parallel(n_jobs=5)]: Done   5 out of   5 | elapsed:   24.6s finished\n"
     ]
    },
    {
     "name": "stdout",
     "output_type": "stream",
     "text": [
      "1.218580180013989 1.218218922221966\n",
      "['nn', 'Surprise', 'Keras']\n",
      "Fitting 5 folds for each of 1 candidates, totalling 5 fits\n"
     ]
    },
    {
     "name": "stderr",
     "output_type": "stream",
     "text": [
      "[Parallel(n_jobs=5)]: Done   2 out of   5 | elapsed:   21.7s remaining:   32.5s\n",
      "[Parallel(n_jobs=5)]: Done   5 out of   5 | elapsed:   22.4s finished\n"
     ]
    },
    {
     "name": "stdout",
     "output_type": "stream",
     "text": [
      "1.218580180013989 1.218218922221966\n",
      "['nn', 'FM', 'XGBR']\n",
      "Fitting 5 folds for each of 1 candidates, totalling 5 fits\n"
     ]
    },
    {
     "name": "stderr",
     "output_type": "stream",
     "text": [
      "[Parallel(n_jobs=5)]: Done   2 out of   5 | elapsed:   20.0s remaining:   29.9s\n",
      "[Parallel(n_jobs=5)]: Done   5 out of   5 | elapsed:   21.2s finished\n"
     ]
    },
    {
     "name": "stdout",
     "output_type": "stream",
     "text": [
      "1.2185225324939855 1.218218922221966\n",
      "['nn', 'FM', 'XGBC']\n",
      "Fitting 5 folds for each of 1 candidates, totalling 5 fits\n"
     ]
    },
    {
     "name": "stderr",
     "output_type": "stream",
     "text": [
      "[Parallel(n_jobs=5)]: Done   2 out of   5 | elapsed:   20.2s remaining:   30.3s\n",
      "[Parallel(n_jobs=5)]: Done   5 out of   5 | elapsed:   21.2s finished\n"
     ]
    },
    {
     "name": "stdout",
     "output_type": "stream",
     "text": [
      "1.2185225324939855 1.218218922221966\n",
      "['nn', 'FM', 'Keras']\n",
      "Fitting 5 folds for each of 1 candidates, totalling 5 fits\n"
     ]
    },
    {
     "name": "stderr",
     "output_type": "stream",
     "text": [
      "[Parallel(n_jobs=5)]: Done   2 out of   5 | elapsed:   17.4s remaining:   26.1s\n",
      "[Parallel(n_jobs=5)]: Done   5 out of   5 | elapsed:   18.4s finished\n"
     ]
    },
    {
     "name": "stdout",
     "output_type": "stream",
     "text": [
      "1.2185225324939855 1.218218922221966\n",
      "['nn', 'XGBR', 'XGBC']\n",
      "Fitting 5 folds for each of 1 candidates, totalling 5 fits\n"
     ]
    },
    {
     "name": "stderr",
     "output_type": "stream",
     "text": [
      "[Parallel(n_jobs=5)]: Done   2 out of   5 | elapsed:   24.7s remaining:   37.0s\n",
      "[Parallel(n_jobs=5)]: Done   5 out of   5 | elapsed:   26.6s finished\n"
     ]
    },
    {
     "name": "stdout",
     "output_type": "stream",
     "text": [
      "1.2185225324939855 1.218218922221966\n",
      "['nn', 'XGBR', 'Keras']\n",
      "Fitting 5 folds for each of 1 candidates, totalling 5 fits\n"
     ]
    },
    {
     "name": "stderr",
     "output_type": "stream",
     "text": [
      "[Parallel(n_jobs=5)]: Done   2 out of   5 | elapsed:   24.6s remaining:   36.9s\n",
      "[Parallel(n_jobs=5)]: Done   5 out of   5 | elapsed:   25.6s finished\n"
     ]
    },
    {
     "name": "stdout",
     "output_type": "stream",
     "text": [
      "1.2185225324939855 1.218218922221966\n",
      "['nn', 'XGBC', 'Keras']\n",
      "Fitting 5 folds for each of 1 candidates, totalling 5 fits\n"
     ]
    },
    {
     "name": "stderr",
     "output_type": "stream",
     "text": [
      "[Parallel(n_jobs=5)]: Done   2 out of   5 | elapsed:   23.7s remaining:   35.6s\n",
      "[Parallel(n_jobs=5)]: Done   5 out of   5 | elapsed:   24.8s finished\n"
     ]
    },
    {
     "name": "stdout",
     "output_type": "stream",
     "text": [
      "1.2185225324939855 1.218218922221966\n",
      "['Surprise', 'FM', 'XGBR']\n",
      "Fitting 5 folds for each of 1 candidates, totalling 5 fits\n"
     ]
    },
    {
     "name": "stderr",
     "output_type": "stream",
     "text": [
      "[Parallel(n_jobs=5)]: Done   2 out of   5 | elapsed:   20.0s remaining:   30.0s\n",
      "[Parallel(n_jobs=5)]: Done   5 out of   5 | elapsed:   21.0s finished\n"
     ]
    },
    {
     "name": "stdout",
     "output_type": "stream",
     "text": [
      "1.218218922221966 1.218218922221966\n",
      "['Surprise', 'FM', 'XGBC']\n",
      "Fitting 5 folds for each of 1 candidates, totalling 5 fits\n"
     ]
    },
    {
     "name": "stderr",
     "output_type": "stream",
     "text": [
      "[Parallel(n_jobs=5)]: Done   2 out of   5 | elapsed:   19.6s remaining:   29.4s\n",
      "[Parallel(n_jobs=5)]: Done   5 out of   5 | elapsed:   20.6s finished\n"
     ]
    },
    {
     "name": "stdout",
     "output_type": "stream",
     "text": [
      "1.218218922221966 1.218218922221966\n",
      "['Surprise', 'FM', 'Keras']\n",
      "Fitting 5 folds for each of 1 candidates, totalling 5 fits\n"
     ]
    },
    {
     "name": "stderr",
     "output_type": "stream",
     "text": [
      "[Parallel(n_jobs=5)]: Done   2 out of   5 | elapsed:   16.8s remaining:   25.2s\n",
      "[Parallel(n_jobs=5)]: Done   5 out of   5 | elapsed:   17.5s finished\n"
     ]
    },
    {
     "name": "stdout",
     "output_type": "stream",
     "text": [
      "1.218218922221966 1.218218922221966\n",
      "['Surprise', 'XGBR', 'XGBC']\n",
      "Fitting 5 folds for each of 1 candidates, totalling 5 fits\n"
     ]
    },
    {
     "name": "stderr",
     "output_type": "stream",
     "text": [
      "[Parallel(n_jobs=5)]: Done   2 out of   5 | elapsed:   23.9s remaining:   35.9s\n",
      "[Parallel(n_jobs=5)]: Done   5 out of   5 | elapsed:   25.7s finished\n"
     ]
    },
    {
     "name": "stdout",
     "output_type": "stream",
     "text": [
      "1.218218922221966 1.218218922221966\n",
      "['Surprise', 'XGBR', 'Keras']\n",
      "Fitting 5 folds for each of 1 candidates, totalling 5 fits\n"
     ]
    },
    {
     "name": "stderr",
     "output_type": "stream",
     "text": [
      "[Parallel(n_jobs=5)]: Done   2 out of   5 | elapsed:   22.5s remaining:   33.8s\n",
      "[Parallel(n_jobs=5)]: Done   5 out of   5 | elapsed:   24.2s finished\n"
     ]
    },
    {
     "name": "stdout",
     "output_type": "stream",
     "text": [
      "1.218218922221966 1.218218922221966\n",
      "['Surprise', 'XGBC', 'Keras']\n",
      "Fitting 5 folds for each of 1 candidates, totalling 5 fits\n"
     ]
    },
    {
     "name": "stderr",
     "output_type": "stream",
     "text": [
      "[Parallel(n_jobs=5)]: Done   2 out of   5 | elapsed:   23.0s remaining:   34.6s\n",
      "[Parallel(n_jobs=5)]: Done   5 out of   5 | elapsed:   25.1s finished\n"
     ]
    },
    {
     "name": "stdout",
     "output_type": "stream",
     "text": [
      "1.218218922221966 1.218218922221966\n",
      "['FM', 'XGBR', 'XGBC']\n",
      "Fitting 5 folds for each of 1 candidates, totalling 5 fits\n"
     ]
    },
    {
     "name": "stderr",
     "output_type": "stream",
     "text": [
      "[Parallel(n_jobs=5)]: Done   2 out of   5 | elapsed:   17.3s remaining:   25.9s\n",
      "[Parallel(n_jobs=5)]: Done   5 out of   5 | elapsed:   18.7s finished\n"
     ]
    },
    {
     "name": "stdout",
     "output_type": "stream",
     "text": [
      "1.2538988939362494 1.218218922221966\n",
      "['FM', 'XGBR', 'Keras']\n",
      "Fitting 5 folds for each of 1 candidates, totalling 5 fits\n"
     ]
    },
    {
     "name": "stderr",
     "output_type": "stream",
     "text": [
      "[Parallel(n_jobs=5)]: Done   2 out of   5 | elapsed:   20.8s remaining:   31.2s\n",
      "[Parallel(n_jobs=5)]: Done   5 out of   5 | elapsed:   21.8s finished\n"
     ]
    },
    {
     "name": "stdout",
     "output_type": "stream",
     "text": [
      "1.2302096063827335 1.218218922221966\n",
      "['FM', 'XGBC', 'Keras']\n",
      "Fitting 5 folds for each of 1 candidates, totalling 5 fits\n"
     ]
    },
    {
     "name": "stderr",
     "output_type": "stream",
     "text": [
      "[Parallel(n_jobs=5)]: Done   2 out of   5 | elapsed:   23.7s remaining:   35.5s\n",
      "[Parallel(n_jobs=5)]: Done   5 out of   5 | elapsed:   25.2s finished\n"
     ]
    },
    {
     "name": "stdout",
     "output_type": "stream",
     "text": [
      "1.2422387222235032 1.218218922221966\n",
      "['XGBR', 'XGBC', 'Keras']\n",
      "Fitting 5 folds for each of 1 candidates, totalling 5 fits\n"
     ]
    },
    {
     "name": "stderr",
     "output_type": "stream",
     "text": [
      "[Parallel(n_jobs=5)]: Done   2 out of   5 | elapsed:   24.5s remaining:   36.7s\n",
      "[Parallel(n_jobs=5)]: Done   5 out of   5 | elapsed:   25.4s finished\n"
     ]
    },
    {
     "name": "stdout",
     "output_type": "stream",
     "text": [
      "1.223015195886273 1.218218922221966\n",
      "['nn', 'Surprise', 'FM', 'XGBR']\n",
      "Fitting 5 folds for each of 1 candidates, totalling 5 fits\n"
     ]
    },
    {
     "name": "stderr",
     "output_type": "stream",
     "text": [
      "[Parallel(n_jobs=5)]: Done   2 out of   5 | elapsed:   29.5s remaining:   44.3s\n",
      "[Parallel(n_jobs=5)]: Done   5 out of   5 | elapsed:   30.2s finished\n"
     ]
    },
    {
     "name": "stdout",
     "output_type": "stream",
     "text": [
      "1.2182150790539659 1.2182150790539659\n",
      "['nn', 'Surprise', 'FM', 'XGBC']\n",
      "Fitting 5 folds for each of 1 candidates, totalling 5 fits\n"
     ]
    },
    {
     "name": "stderr",
     "output_type": "stream",
     "text": [
      "[Parallel(n_jobs=5)]: Done   2 out of   5 | elapsed:   28.5s remaining:   42.7s\n",
      "[Parallel(n_jobs=5)]: Done   5 out of   5 | elapsed:   29.2s finished\n"
     ]
    },
    {
     "name": "stdout",
     "output_type": "stream",
     "text": [
      "1.218580180013989 1.2182150790539659\n",
      "['nn', 'Surprise', 'FM', 'Keras']\n",
      "Fitting 5 folds for each of 1 candidates, totalling 5 fits\n"
     ]
    },
    {
     "name": "stderr",
     "output_type": "stream",
     "text": [
      "[Parallel(n_jobs=5)]: Done   2 out of   5 | elapsed:   27.4s remaining:   41.1s\n",
      "[Parallel(n_jobs=5)]: Done   5 out of   5 | elapsed:   28.3s finished\n"
     ]
    },
    {
     "name": "stdout",
     "output_type": "stream",
     "text": [
      "1.218580180013989 1.2182150790539659\n",
      "['nn', 'Surprise', 'XGBR', 'XGBC']\n",
      "Fitting 5 folds for each of 1 candidates, totalling 5 fits\n"
     ]
    },
    {
     "name": "stderr",
     "output_type": "stream",
     "text": [
      "[Parallel(n_jobs=5)]: Done   2 out of   5 | elapsed:   28.5s remaining:   42.8s\n",
      "[Parallel(n_jobs=5)]: Done   5 out of   5 | elapsed:   30.5s finished\n"
     ]
    },
    {
     "name": "stdout",
     "output_type": "stream",
     "text": [
      "1.2179960184779517 1.2179960184779517\n",
      "['nn', 'Surprise', 'XGBR', 'Keras']\n",
      "Fitting 5 folds for each of 1 candidates, totalling 5 fits\n"
     ]
    },
    {
     "name": "stderr",
     "output_type": "stream",
     "text": [
      "[Parallel(n_jobs=5)]: Done   2 out of   5 | elapsed:   29.9s remaining:   44.8s\n",
      "[Parallel(n_jobs=5)]: Done   5 out of   5 | elapsed:   31.3s finished\n"
     ]
    },
    {
     "name": "stdout",
     "output_type": "stream",
     "text": [
      "1.2178499780939425 1.2178499780939425\n",
      "['nn', 'Surprise', 'XGBC', 'Keras']\n",
      "Fitting 5 folds for each of 1 candidates, totalling 5 fits\n"
     ]
    },
    {
     "name": "stderr",
     "output_type": "stream",
     "text": [
      "[Parallel(n_jobs=5)]: Done   2 out of   5 | elapsed:   29.1s remaining:   43.7s\n",
      "[Parallel(n_jobs=5)]: Done   5 out of   5 | elapsed:   31.0s finished\n"
     ]
    },
    {
     "name": "stdout",
     "output_type": "stream",
     "text": [
      "1.218580180013989 1.2178499780939425\n",
      "['nn', 'FM', 'XGBR', 'XGBC']\n",
      "Fitting 5 folds for each of 1 candidates, totalling 5 fits\n"
     ]
    },
    {
     "name": "stderr",
     "output_type": "stream",
     "text": [
      "[Parallel(n_jobs=5)]: Done   2 out of   5 | elapsed:   28.5s remaining:   42.8s\n",
      "[Parallel(n_jobs=5)]: Done   5 out of   5 | elapsed:   29.2s finished\n"
     ]
    },
    {
     "name": "stdout",
     "output_type": "stream",
     "text": [
      "1.2185225324939855 1.2178499780939425\n",
      "['nn', 'FM', 'XGBR', 'Keras']\n",
      "Fitting 5 folds for each of 1 candidates, totalling 5 fits\n"
     ]
    },
    {
     "name": "stderr",
     "output_type": "stream",
     "text": [
      "[Parallel(n_jobs=5)]: Done   2 out of   5 | elapsed:   29.6s remaining:   44.4s\n",
      "[Parallel(n_jobs=5)]: Done   5 out of   5 | elapsed:   30.8s finished\n"
     ]
    },
    {
     "name": "stdout",
     "output_type": "stream",
     "text": [
      "1.2185225324939855 1.2178499780939425\n",
      "['nn', 'FM', 'XGBC', 'Keras']\n",
      "Fitting 5 folds for each of 1 candidates, totalling 5 fits\n"
     ]
    },
    {
     "name": "stderr",
     "output_type": "stream",
     "text": [
      "[Parallel(n_jobs=5)]: Done   2 out of   5 | elapsed:   30.2s remaining:   45.3s\n",
      "[Parallel(n_jobs=5)]: Done   5 out of   5 | elapsed:   31.8s finished\n"
     ]
    },
    {
     "name": "stdout",
     "output_type": "stream",
     "text": [
      "1.2185225324939855 1.2178499780939425\n",
      "['nn', 'XGBR', 'XGBC', 'Keras']\n",
      "Fitting 5 folds for each of 1 candidates, totalling 5 fits\n"
     ]
    },
    {
     "name": "stderr",
     "output_type": "stream",
     "text": [
      "[Parallel(n_jobs=5)]: Done   2 out of   5 | elapsed:   30.2s remaining:   45.4s\n",
      "[Parallel(n_jobs=5)]: Done   5 out of   5 | elapsed:   31.3s finished\n"
     ]
    },
    {
     "name": "stdout",
     "output_type": "stream",
     "text": [
      "1.2185225324939855 1.2178499780939425\n",
      "['Surprise', 'FM', 'XGBR', 'XGBC']\n",
      "Fitting 5 folds for each of 1 candidates, totalling 5 fits\n"
     ]
    },
    {
     "name": "stderr",
     "output_type": "stream",
     "text": [
      "[Parallel(n_jobs=5)]: Done   2 out of   5 | elapsed:   28.0s remaining:   42.0s\n",
      "[Parallel(n_jobs=5)]: Done   5 out of   5 | elapsed:   29.4s finished\n"
     ]
    },
    {
     "name": "stdout",
     "output_type": "stream",
     "text": [
      "1.218218922221966 1.2178499780939425\n",
      "['Surprise', 'FM', 'XGBR', 'Keras']\n",
      "Fitting 5 folds for each of 1 candidates, totalling 5 fits\n"
     ]
    },
    {
     "name": "stderr",
     "output_type": "stream",
     "text": [
      "[Parallel(n_jobs=5)]: Done   2 out of   5 | elapsed:   28.3s remaining:   42.4s\n",
      "[Parallel(n_jobs=5)]: Done   5 out of   5 | elapsed:   29.4s finished\n"
     ]
    },
    {
     "name": "stdout",
     "output_type": "stream",
     "text": [
      "1.218218922221966 1.2178499780939425\n",
      "['Surprise', 'FM', 'XGBC', 'Keras']\n",
      "Fitting 5 folds for each of 1 candidates, totalling 5 fits\n"
     ]
    },
    {
     "name": "stderr",
     "output_type": "stream",
     "text": [
      "[Parallel(n_jobs=5)]: Done   2 out of   5 | elapsed:   29.2s remaining:   43.9s\n",
      "[Parallel(n_jobs=5)]: Done   5 out of   5 | elapsed:   30.2s finished\n"
     ]
    },
    {
     "name": "stdout",
     "output_type": "stream",
     "text": [
      "1.218218922221966 1.2178499780939425\n",
      "['Surprise', 'XGBR', 'XGBC', 'Keras']\n",
      "Fitting 5 folds for each of 1 candidates, totalling 5 fits\n"
     ]
    },
    {
     "name": "stderr",
     "output_type": "stream",
     "text": [
      "[Parallel(n_jobs=5)]: Done   2 out of   5 | elapsed:   29.6s remaining:   44.3s\n",
      "[Parallel(n_jobs=5)]: Done   5 out of   5 | elapsed:   30.6s finished\n"
     ]
    },
    {
     "name": "stdout",
     "output_type": "stream",
     "text": [
      "1.218218922221966 1.2178499780939425\n",
      "['FM', 'XGBR', 'XGBC', 'Keras']\n",
      "Fitting 5 folds for each of 1 candidates, totalling 5 fits\n"
     ]
    },
    {
     "name": "stderr",
     "output_type": "stream",
     "text": [
      "[Parallel(n_jobs=5)]: Done   2 out of   5 | elapsed:   26.1s remaining:   39.1s\n",
      "[Parallel(n_jobs=5)]: Done   5 out of   5 | elapsed:   27.6s finished\n"
     ]
    },
    {
     "name": "stdout",
     "output_type": "stream",
     "text": [
      "1.2281804136786036 1.2178499780939425\n",
      "['nn', 'Surprise', 'FM', 'XGBR', 'XGBC']\n",
      "Fitting 5 folds for each of 1 candidates, totalling 5 fits\n"
     ]
    },
    {
     "name": "stderr",
     "output_type": "stream",
     "text": [
      "[Parallel(n_jobs=5)]: Done   2 out of   5 | elapsed:   32.0s remaining:   48.0s\n",
      "[Parallel(n_jobs=5)]: Done   5 out of   5 | elapsed:   33.3s finished\n"
     ]
    },
    {
     "name": "stdout",
     "output_type": "stream",
     "text": [
      "1.2171313056778965 1.2171313056778965\n",
      "['nn', 'Surprise', 'FM', 'XGBR', 'Keras']\n",
      "Fitting 5 folds for each of 1 candidates, totalling 5 fits\n"
     ]
    },
    {
     "name": "stderr",
     "output_type": "stream",
     "text": [
      "[Parallel(n_jobs=5)]: Done   2 out of   5 | elapsed:   32.9s remaining:   49.3s\n",
      "[Parallel(n_jobs=5)]: Done   5 out of   5 | elapsed:   33.8s finished\n"
     ]
    },
    {
     "name": "stdout",
     "output_type": "stream",
     "text": [
      "1.215736235693807 1.215736235693807\n",
      "['nn', 'Surprise', 'FM', 'XGBC', 'Keras']\n",
      "Fitting 5 folds for each of 1 candidates, totalling 5 fits\n"
     ]
    },
    {
     "name": "stderr",
     "output_type": "stream",
     "text": [
      "[Parallel(n_jobs=5)]: Done   2 out of   5 | elapsed:   31.9s remaining:   47.9s\n",
      "[Parallel(n_jobs=5)]: Done   5 out of   5 | elapsed:   33.1s finished\n"
     ]
    },
    {
     "name": "stdout",
     "output_type": "stream",
     "text": [
      "1.2182919424139707 1.215736235693807\n",
      "['nn', 'Surprise', 'XGBR', 'XGBC', 'Keras']\n",
      "Fitting 5 folds for each of 1 candidates, totalling 5 fits\n"
     ]
    },
    {
     "name": "stderr",
     "output_type": "stream",
     "text": [
      "[Parallel(n_jobs=5)]: Done   2 out of   5 | elapsed:   33.1s remaining:   49.6s\n",
      "[Parallel(n_jobs=5)]: Done   5 out of   5 | elapsed:   34.6s finished\n"
     ]
    },
    {
     "name": "stdout",
     "output_type": "stream",
     "text": [
      "1.2157170198538059 1.2157170198538059\n",
      "['nn', 'FM', 'XGBR', 'XGBC', 'Keras']\n",
      "Fitting 5 folds for each of 1 candidates, totalling 5 fits\n"
     ]
    },
    {
     "name": "stderr",
     "output_type": "stream",
     "text": [
      "[Parallel(n_jobs=5)]: Done   2 out of   5 | elapsed:   32.4s remaining:   48.6s\n",
      "[Parallel(n_jobs=5)]: Done   5 out of   5 | elapsed:   32.8s finished\n"
     ]
    },
    {
     "name": "stdout",
     "output_type": "stream",
     "text": [
      "1.2182535107339683 1.2157170198538059\n",
      "['Surprise', 'FM', 'XGBR', 'XGBC', 'Keras']\n",
      "Fitting 5 folds for each of 1 candidates, totalling 5 fits\n"
     ]
    },
    {
     "name": "stderr",
     "output_type": "stream",
     "text": [
      "[Parallel(n_jobs=5)]: Done   2 out of   5 | elapsed:   31.3s remaining:   47.0s\n",
      "[Parallel(n_jobs=5)]: Done   5 out of   5 | elapsed:   32.8s finished\n"
     ]
    },
    {
     "name": "stdout",
     "output_type": "stream",
     "text": [
      "1.2182150790539659 1.2157170198538059\n",
      "1.2157170198538059 ('nn', 'Surprise', 'XGBR', 'XGBC', 'Keras')\n"
     ]
    }
   ],
   "source": [
    "# feature selection\n",
    "best_score = 99\n",
    "best_com = \"\"\n",
    "\n",
    "for com in all_combin:\n",
    "    \n",
    "    stack_feature_list = [i for i in com]\n",
    "    print (stack_feature_list)\n",
    "    S = LinearSVR()\n",
    "    parameters = {'C':[1]}\n",
    "\n",
    "    grid = grid_search.GridSearchCV(S,\n",
    "                            parameters,\n",
    "                            cv = 5,\n",
    "                            n_jobs = 5,\n",
    "                            scoring = make_scorer(my_mae, greater_is_better=False),\n",
    "                            verbose=True)\n",
    "\n",
    "    grid.fit(train_meta[stack_feature_list], train_meta['Book-Rating'])\n",
    "\n",
    "    if -grid.best_score_ < best_score:\n",
    "        best_score = -grid.best_score_\n",
    "        best_com = com\n",
    "    print (-grid.best_score_ , best_score)\n",
    "    \n",
    "print (best_score, best_com)"
   ]
  },
  {
   "cell_type": "code",
   "execution_count": 25,
   "metadata": {},
   "outputs": [
    {
     "name": "stdout",
     "output_type": "stream",
     "text": [
      "['nn', 'Surprise', 'XGBR', 'XGBC', 'Keras']\n",
      "Fitting 5 folds for each of 4 candidates, totalling 20 fits\n"
     ]
    },
    {
     "name": "stderr",
     "output_type": "stream",
     "text": [
      "[Parallel(n_jobs=5)]: Done  20 out of  20 | elapsed:  1.6min finished\n"
     ]
    },
    {
     "name": "stdout",
     "output_type": "stream",
     "text": [
      "-1.2153480757257822\n",
      "{'C': 1}\n",
      "[mean: -1.21858, std: 0.00564, params: {'C': 0.01}, mean: -1.21858, std: 0.00564, params: {'C': 0.1}, mean: -1.21535, std: 0.00571, params: {'C': 1}, mean: -1.54964, std: 0.37925, params: {'C': 10}]\n"
     ]
    }
   ],
   "source": [
    "# hyperparameter grid search\n",
    "stack_feature_list = [i for i in best_com]\n",
    "print (stack_feature_list)\n",
    "\n",
    "S = LinearSVR()\n",
    "parameters = {'C':[0.01, 0.1, 1, 10]}\n",
    "\n",
    "grid = grid_search.GridSearchCV(S,\n",
    "                        parameters,\n",
    "                        cv = 5,\n",
    "                        n_jobs = 5,\n",
    "                        scoring = make_scorer(my_mae, greater_is_better=False),\n",
    "                        verbose=True)\n",
    "\n",
    "grid.fit(train_meta[stack_feature_list], train_meta['Book-Rating'])\n",
    "\n",
    "\n",
    "print(grid.best_score_)\n",
    "print(grid.best_params_)\n",
    "print(grid.grid_scores_)"
   ]
  },
  {
   "cell_type": "code",
   "execution_count": 28,
   "metadata": {},
   "outputs": [
    {
     "name": "stdout",
     "output_type": "stream",
     "text": [
      "no feature importance\n"
     ]
    }
   ],
   "source": [
    "# fit on all training data\n",
    "S = LinearSVR(**grid.best_params_)\n",
    "S.fit(train_meta[stack_feature_list], train_meta['Book-Rating'])\n",
    "plot_importance(S, stack_feature_list)\n",
    "final_pred = S.predict(test_meta[stack_feature_list])"
   ]
  },
  {
   "cell_type": "code",
   "execution_count": 29,
   "metadata": {},
   "outputs": [
    {
     "data": {
      "text/plain": [
       "['stack/stack1.pkl']"
      ]
     },
     "execution_count": 29,
     "metadata": {},
     "output_type": "execute_result"
    }
   ],
   "source": [
    "from sklearn.externals import joblib\n",
    "joblib.dump(model, 'stack/stack1.pkl')"
   ]
  },
  {
   "cell_type": "code",
   "execution_count": 30,
   "metadata": {
    "collapsed": true
   },
   "outputs": [],
   "source": [
    "# output final prediction\n",
    "with open('stack/final1.csv', 'w') as f:\n",
    "    for i in final_pred:\n",
    "        print (int(round(i)), file=f)"
   ]
  }
 ],
 "metadata": {
  "kernelspec": {
   "display_name": "Python 3",
   "language": "python",
   "name": "python3"
  },
  "language_info": {
   "codemirror_mode": {
    "name": "ipython",
    "version": 3
   },
   "file_extension": ".py",
   "mimetype": "text/x-python",
   "name": "python",
   "nbconvert_exporter": "python",
   "pygments_lexer": "ipython3",
   "version": "3.5.2"
  }
 },
 "nbformat": 4,
 "nbformat_minor": 2
}
