{
 "cells": [
  {
   "cell_type": "code",
   "execution_count": 1,
   "metadata": {
    "collapsed": true
   },
   "outputs": [],
   "source": [
    "import numpy as np\n",
    "import os"
   ]
  },
  {
   "cell_type": "code",
   "execution_count": 2,
   "metadata": {
    "collapsed": true
   },
   "outputs": [],
   "source": [
    "X = []\n",
    "Y = []\n",
    "with open(\"hw2_lssvm_all.dat\", \"r\") as f:\n",
    "    for line in f:\n",
    "        l = line.split()\n",
    "        x = l[:-1]\n",
    "        y = l[-1]\n",
    "        X.append(x)\n",
    "        Y.append(y)\n",
    "        \n",
    "X = np.array(X, dtype=float)\n",
    "Y = np.array(Y, dtype=float)"
   ]
  },
  {
   "cell_type": "code",
   "execution_count": 3,
   "metadata": {},
   "outputs": [
    {
     "name": "stdout",
     "output_type": "stream",
     "text": [
      "(500, 10)\n",
      "(500,)\n"
     ]
    }
   ],
   "source": [
    "print (X.shape)\n",
    "print (Y.shape)"
   ]
  },
  {
   "cell_type": "code",
   "execution_count": 4,
   "metadata": {
    "collapsed": true
   },
   "outputs": [],
   "source": [
    "x_train, y_train, x_test, y_test = X[:400], Y[:400], X[400:], Y[400:]"
   ]
  },
  {
   "cell_type": "code",
   "execution_count": 5,
   "metadata": {
    "collapsed": true
   },
   "outputs": [],
   "source": [
    "from sklearn.kernel_ridge import KernelRidge\n",
    "from sklearn.metrics.pairwise import rbf_kernel\n",
    "\n",
    "class KernelRidgeRegression(object):\n",
    "    \n",
    "    def __init__(self, lmbda=0.1, gamma=0.1):\n",
    "        self.lmbda = lmbda\n",
    "        self.gamma = gamma\n",
    "\n",
    "    def fit(self, X, y):\n",
    "        C = self.K(X) + self.lmbda*np.eye(X.shape[0])\n",
    "        self.w = np.linalg.solve(C, y)\n",
    "        self.X_fit_ = X\n",
    "\n",
    "    def predict(self, X):\n",
    "        K = self.K(X, self.X_fit_)\n",
    "        return np.sign(np.dot(K, self.w))\n",
    "    \n",
    "    def K(self, X, Y=None):\n",
    "        K = rbf_kernel(X, Y, gamma=self.gamma)\n",
    "        return K"
   ]
  },
  {
   "cell_type": "code",
   "execution_count": 6,
   "metadata": {
    "collapsed": true
   },
   "outputs": [],
   "source": [
    "gamma = [32, 2, 0.125]\n",
    "alpha = [0.001, 1, 1000]"
   ]
  },
  {
   "cell_type": "code",
   "execution_count": 7,
   "metadata": {},
   "outputs": [
    {
     "name": "stdout",
     "output_type": "stream",
     "text": [
      "[0.0, 0.0, 0.0, 0.0, 0.0, 0.0, 0.0, 0.03, 0.2425]\n"
     ]
    }
   ],
   "source": [
    "Ein = []\n",
    "for g in gamma:\n",
    "    for a in alpha:\n",
    "        clf = KernelRidgeRegression(lmbda=a, gamma=g)\n",
    "        clf.fit(x_train, y_train)\n",
    "        \n",
    "        \n",
    "        pred = clf.predict(x_train)\n",
    "        err = np.sum(pred != y_train) / 400\n",
    "        \n",
    "        Ein.append(err)\n",
    "        \n",
    "print (Ein)"
   ]
  },
  {
   "cell_type": "code",
   "execution_count": 8,
   "metadata": {},
   "outputs": [
    {
     "name": "stdout",
     "output_type": "stream",
     "text": [
      "[0.45, 0.45, 0.45, 0.44, 0.44, 0.44, 0.46, 0.45, 0.39]\n"
     ]
    }
   ],
   "source": [
    "Eout = []\n",
    "for g in gamma:\n",
    "    for a in alpha:\n",
    "        clf = KernelRidgeRegression(lmbda=a, gamma=g)\n",
    "        clf.fit(x_train, y_train)\n",
    "        \n",
    "        pred = clf.predict(x_test)\n",
    "        err = np.sum(pred != y_test) / 100\n",
    "        Eout.append(err)\n",
    "        \n",
    "print (Eout)"
   ]
  }
 ],
 "metadata": {
  "kernelspec": {
   "display_name": "Python 3",
   "language": "python",
   "name": "python3"
  },
  "language_info": {
   "codemirror_mode": {
    "name": "ipython",
    "version": 3
   },
   "file_extension": ".py",
   "mimetype": "text/x-python",
   "name": "python",
   "nbconvert_exporter": "python",
   "pygments_lexer": "ipython3",
   "version": "3.5.2"
  }
 },
 "nbformat": 4,
 "nbformat_minor": 2
}
