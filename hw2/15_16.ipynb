{
 "cells": [
  {
   "cell_type": "code",
   "execution_count": 1,
   "metadata": {
    "collapsed": true
   },
   "outputs": [],
   "source": [
    "import numpy as np\n",
    "import os"
   ]
  },
  {
   "cell_type": "code",
   "execution_count": 2,
   "metadata": {
    "collapsed": true
   },
   "outputs": [],
   "source": [
    "X = []\n",
    "Y = []\n",
    "with open(\"hw2_lssvm_all.dat\", \"r\") as f:\n",
    "    for line in f:\n",
    "        l = line.split()\n",
    "        x = l[:-1] + [1.]\n",
    "        y = l[-1]\n",
    "        X.append(x)\n",
    "        Y.append(y)\n",
    "        \n",
    "X = np.array(X, dtype=float)\n",
    "Y = np.array(Y, dtype=float)"
   ]
  },
  {
   "cell_type": "code",
   "execution_count": 3,
   "metadata": {},
   "outputs": [
    {
     "name": "stdout",
     "output_type": "stream",
     "text": [
      "(500, 11)\n",
      "(500,)\n"
     ]
    }
   ],
   "source": [
    "print (X.shape)\n",
    "print (Y.shape)"
   ]
  },
  {
   "cell_type": "code",
   "execution_count": 4,
   "metadata": {
    "collapsed": true
   },
   "outputs": [],
   "source": [
    "x_train, y_train, x_test, y_test = X[:400], Y[:400], X[400:], Y[400:]"
   ]
  },
  {
   "cell_type": "code",
   "execution_count": 5,
   "metadata": {
    "collapsed": true
   },
   "outputs": [],
   "source": [
    "from sklearn.linear_model import RidgeClassifier\n",
    "\n",
    "class RidgeRegression(object):\n",
    "    def __init__(self, lmbda=0.1):\n",
    "        self.lmbda = lmbda\n",
    "\n",
    "    def fit(self, X, y):\n",
    "        X, y = np.array(X), np.array(y)\n",
    "        C = X.T.dot(X) + self.lmbda*np.eye(X.shape[1])\n",
    "        self.w = np.linalg.inv(C).dot(X.T.dot(y))\n",
    "\n",
    "    def predict(self, X):\n",
    "        return np.sign(X.dot(self.w))"
   ]
  },
  {
   "cell_type": "code",
   "execution_count": 6,
   "metadata": {
    "collapsed": true
   },
   "outputs": [],
   "source": [
    "alpha = [0.01, 0.1, 1, 10, 100]\n",
    "#np.random.seed(87)"
   ]
  },
  {
   "cell_type": "code",
   "execution_count": 7,
   "metadata": {},
   "outputs": [
    {
     "name": "stdout",
     "output_type": "stream",
     "text": [
      "[0.3175, 0.32, 0.3175, 0.315, 0.3175]\n"
     ]
    }
   ],
   "source": [
    "Ein = []\n",
    "\n",
    "for a in alpha:\n",
    "    result = np.zeros((400))\n",
    "    for g in range(250):\n",
    "        clf = RidgeRegression(lmbda=a)\n",
    "        randidx = np.random.randint(0, 400, size=400)\n",
    "        x_boot = [x_train[i] for i in randidx]\n",
    "        y_boot = [y_train[i] for i in randidx]\n",
    "        clf.fit(x_boot, y_boot)\n",
    "        pred = clf.predict(x_train)\n",
    "        result += np.sign(pred)\n",
    "    \n",
    "    result = np.sign(result)\n",
    "    err = np.sum(result != y_train) / 400\n",
    "    Ein.append(err)\n",
    "        \n",
    "print (Ein)"
   ]
  },
  {
   "cell_type": "code",
   "execution_count": 8,
   "metadata": {},
   "outputs": [
    {
     "name": "stdout",
     "output_type": "stream",
     "text": [
      "[0.39, 0.39, 0.4, 0.38, 0.36]\n"
     ]
    }
   ],
   "source": [
    "Eout = []\n",
    "\n",
    "for a in alpha:\n",
    "    result = np.zeros((100))\n",
    "    for g in range(250):\n",
    "        clf = RidgeRegression(lmbda=a)\n",
    "        randidx = np.random.randint(0, 100, size=100)\n",
    "        x_boot = [x_train[i] for i in randidx]\n",
    "        y_boot = [y_train[i] for i in randidx]\n",
    "        clf.fit(x_boot, y_boot)\n",
    "        pred = clf.predict(x_test)\n",
    "        result += np.sign(pred)\n",
    "    \n",
    "    result = np.sign(result)\n",
    "    err = np.sum(result != y_test) / 100\n",
    "    Eout.append(err)\n",
    "        \n",
    "print (Eout)"
   ]
  }
 ],
 "metadata": {
  "kernelspec": {
   "display_name": "Python 3",
   "language": "python",
   "name": "python3"
  },
  "language_info": {
   "codemirror_mode": {
    "name": "ipython",
    "version": 3
   },
   "file_extension": ".py",
   "mimetype": "text/x-python",
   "name": "python",
   "nbconvert_exporter": "python",
   "pygments_lexer": "ipython3",
   "version": "3.5.2"
  }
 },
 "nbformat": 4,
 "nbformat_minor": 2
}
