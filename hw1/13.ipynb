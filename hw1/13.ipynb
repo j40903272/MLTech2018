{
 "cells": [
  {
   "cell_type": "code",
   "execution_count": 1,
   "metadata": {
    "collapsed": true
   },
   "outputs": [],
   "source": [
    "import matplotlib.pyplot as plt\n",
    "%matplotlib inline\n",
    "import numpy as np\n",
    "from sklearn.svm import SVC"
   ]
  },
  {
   "cell_type": "code",
   "execution_count": 2,
   "metadata": {
    "collapsed": true
   },
   "outputs": [],
   "source": [
    "train = []\n",
    "with open('features.train', 'r') as f:\n",
    "    for line in f:\n",
    "        train.append([float(i) for i in line.split()])\n",
    "train = np.array(train)"
   ]
  },
  {
   "cell_type": "code",
   "execution_count": 3,
   "metadata": {
    "collapsed": true
   },
   "outputs": [],
   "source": [
    "x = []\n",
    "y = []\n",
    "\n",
    "for i in train:\n",
    "    digit, intensity, symmetry = i[0], i[1], i[2]\n",
    "    if digit == 8:\n",
    "        y.append(1)\n",
    "    else:\n",
    "        y.append(-1)\n",
    "    x.append([intensity, symmetry])\n",
    "\n",
    "x = np.array(x)\n",
    "y = np.array(y)"
   ]
  },
  {
   "cell_type": "code",
   "execution_count": 4,
   "metadata": {},
   "outputs": [
    {
     "name": "stdout",
     "output_type": "stream",
     "text": [
      "[1e-05, 0.001, 0.1, 10, 1000]\n"
     ]
    }
   ],
   "source": [
    "C = [10**i for i in [-5, -3, -1, 1, 3]]\n",
    "print (C)"
   ]
  },
  {
   "cell_type": "code",
   "execution_count": 5,
   "metadata": {
    "collapsed": true,
    "scrolled": false
   },
   "outputs": [],
   "source": [
    "n_support_vectors = []\n",
    "for i in C:\n",
    "    # fit the model, don't regularize for illustration purposes\n",
    "    clf = SVC(kernel='poly', C=i, degree=2, coef0=1, gamma=1)\n",
    "    clf.fit(x, y)\n",
    "    n_support_vectors.append(len(clf.support_))"
   ]
  },
  {
   "cell_type": "code",
   "execution_count": 6,
   "metadata": {},
   "outputs": [
    {
     "name": "stdout",
     "output_type": "stream",
     "text": [
      "[1092, 1688, 1615, 1120, 1087]\n"
     ]
    }
   ],
   "source": [
    "print (n_support_vectors)"
   ]
  },
  {
   "cell_type": "code",
   "execution_count": 7,
   "metadata": {},
   "outputs": [
    {
     "data": {
      "image/png": "[encoded data removed]",
      "text/plain": [
       "<matplotlib.figure.Figure at 0x7ff28b2d7978>"
      ]
     },
     "metadata": {},
     "output_type": "display_data"
    }
   ],
   "source": [
    "plt.semilogx(C, n_support_vectors, '--o')\n",
    "plt.ylabel('n_support_vectors', fontsize = 15)\n",
    "plt.xlabel('C', fontsize = 15)\n",
    "plt.savefig('13.png')\n",
    "plt.show()"
   ]
  }
 ],
 "metadata": {
  "kernelspec": {
   "display_name": "Python 3",
   "language": "python",
   "name": "python3"
  },
  "language_info": {
   "codemirror_mode": {
    "name": "ipython",
    "version": 3
   },
   "file_extension": ".py",
   "mimetype": "text/x-python",
   "name": "python",
   "nbconvert_exporter": "python",
   "pygments_lexer": "ipython3",
   "version": "3.5.2"
  }
 },
 "nbformat": 4,
 "nbformat_minor": 2
}
